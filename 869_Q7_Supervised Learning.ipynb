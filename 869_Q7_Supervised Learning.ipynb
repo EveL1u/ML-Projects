{
 "cells": [
  {
   "cell_type": "markdown",
   "metadata": {},
   "source": [
    "---\n",
    "## Question 7"
   ]
  },
  {
   "cell_type": "code",
   "execution_count": 1,
   "metadata": {},
   "outputs": [
    {
     "name": "stdout",
     "output_type": "stream",
     "text": [
      "2020-12-13 19:43:59.566068\n"
     ]
    }
   ],
   "source": [
    "import datetime\n",
    "print(datetime.datetime.now())"
   ]
  },
  {
   "cell_type": "code",
   "execution_count": 2,
   "metadata": {},
   "outputs": [
    {
     "name": "stdout",
     "output_type": "stream",
     "text": [
      "scikit-learn: 0.23.2\n",
      "pandas: 1.0.5\n",
      "numpy: 1.18.5\n"
     ]
    }
   ],
   "source": [
    "import pandas as pd\n",
    "import numpy as np\n",
    "import sklearn\n",
    "\n",
    "print('scikit-learn: {}'.format(sklearn.__version__))\n",
    "print('pandas: {}'.format(pd.__version__))\n",
    "print('numpy: {}'.format(np.__version__))\n",
    "\n",
    "from IPython.core.interactiveshell import InteractiveShell\n",
    "InteractiveShell.ast_node_interactivity = \"all\""
   ]
  },
  {
   "cell_type": "code",
   "execution_count": 3,
   "metadata": {},
   "outputs": [
    {
     "data": {
      "text/plain": [
       "'C:\\\\Users\\\\user\\\\Downloads\\\\869\\\\Individual'"
      ]
     },
     "execution_count": 3,
     "metadata": {},
     "output_type": "execute_result"
    }
   ],
   "source": [
    "import os\n",
    "os.getcwd()"
   ]
  },
  {
   "cell_type": "code",
   "execution_count": 4,
   "metadata": {},
   "outputs": [],
   "source": [
    "import matplotlib.pyplot as plt\n",
    "\n",
    "%matplotlib inline"
   ]
  },
  {
   "cell_type": "markdown",
   "metadata": {},
   "source": [
    "### Task 2a - Preprocess the data, and describe steps "
   ]
  },
  {
   "cell_type": "code",
   "execution_count": 5,
   "metadata": {},
   "outputs": [],
   "source": [
    "# Read in the data\n",
    "df = pd.read_csv(\"OJ.csv\")"
   ]
  },
  {
   "cell_type": "code",
   "execution_count": 6,
   "metadata": {},
   "outputs": [],
   "source": [
    "# TODO: continue here to perform the given task. \n",
    "# Don't forget to document your code!\n",
    "# Use as many cells as you'd like!\n",
    "# Don't print out large volumes of output!\n",
    "# Don't forget to save/export as PDF!\n",
    "# Make sure to always run all cells in order! Always restart kernel and run all cells before creating the PDF"
   ]
  },
  {
   "cell_type": "code",
   "execution_count": 7,
   "metadata": {},
   "outputs": [
    {
     "name": "stdout",
     "output_type": "stream",
     "text": [
      "<class 'pandas.core.frame.DataFrame'>\n",
      "RangeIndex: 1070 entries, 0 to 1069\n",
      "Data columns (total 10 columns):\n",
      " #   Column          Non-Null Count  Dtype  \n",
      "---  ------          --------------  -----  \n",
      " 0   WeekofPurchase  1070 non-null   int64  \n",
      " 1   StoreID         1070 non-null   int64  \n",
      " 2   PriceCH         1070 non-null   float64\n",
      " 3   PriceMM         1070 non-null   float64\n",
      " 4   DiscCH          1070 non-null   float64\n",
      " 5   DiscMM          1070 non-null   float64\n",
      " 6   SpecialCH       1070 non-null   int64  \n",
      " 7   SpecialMM       1070 non-null   int64  \n",
      " 8   LoyalCH         1070 non-null   float64\n",
      " 9   Purchase        1070 non-null   object \n",
      "dtypes: float64(5), int64(4), object(1)\n",
      "memory usage: 83.7+ KB\n"
     ]
    }
   ],
   "source": [
    "df.info()"
   ]
  },
  {
   "cell_type": "code",
   "execution_count": 8,
   "metadata": {},
   "outputs": [
    {
     "data": {
      "text/html": [
       "<div>\n",
       "<style scoped>\n",
       "    .dataframe tbody tr th:only-of-type {\n",
       "        vertical-align: middle;\n",
       "    }\n",
       "\n",
       "    .dataframe tbody tr th {\n",
       "        vertical-align: top;\n",
       "    }\n",
       "\n",
       "    .dataframe thead th {\n",
       "        text-align: right;\n",
       "    }\n",
       "</style>\n",
       "<table border=\"1\" class=\"dataframe\">\n",
       "  <thead>\n",
       "    <tr style=\"text-align: right;\">\n",
       "      <th></th>\n",
       "      <th>WeekofPurchase</th>\n",
       "      <th>StoreID</th>\n",
       "      <th>PriceCH</th>\n",
       "      <th>PriceMM</th>\n",
       "      <th>DiscCH</th>\n",
       "      <th>DiscMM</th>\n",
       "      <th>SpecialCH</th>\n",
       "      <th>SpecialMM</th>\n",
       "      <th>LoyalCH</th>\n",
       "      <th>Purchase</th>\n",
       "    </tr>\n",
       "  </thead>\n",
       "  <tbody>\n",
       "    <tr>\n",
       "      <th>0</th>\n",
       "      <td>237</td>\n",
       "      <td>1</td>\n",
       "      <td>1.75</td>\n",
       "      <td>1.99</td>\n",
       "      <td>0.00</td>\n",
       "      <td>0.0</td>\n",
       "      <td>0</td>\n",
       "      <td>0</td>\n",
       "      <td>0.500000</td>\n",
       "      <td>CH</td>\n",
       "    </tr>\n",
       "    <tr>\n",
       "      <th>1</th>\n",
       "      <td>239</td>\n",
       "      <td>1</td>\n",
       "      <td>1.75</td>\n",
       "      <td>1.99</td>\n",
       "      <td>0.00</td>\n",
       "      <td>0.3</td>\n",
       "      <td>0</td>\n",
       "      <td>1</td>\n",
       "      <td>0.600000</td>\n",
       "      <td>CH</td>\n",
       "    </tr>\n",
       "    <tr>\n",
       "      <th>2</th>\n",
       "      <td>245</td>\n",
       "      <td>1</td>\n",
       "      <td>1.86</td>\n",
       "      <td>2.09</td>\n",
       "      <td>0.17</td>\n",
       "      <td>0.0</td>\n",
       "      <td>0</td>\n",
       "      <td>0</td>\n",
       "      <td>0.680000</td>\n",
       "      <td>CH</td>\n",
       "    </tr>\n",
       "    <tr>\n",
       "      <th>3</th>\n",
       "      <td>227</td>\n",
       "      <td>1</td>\n",
       "      <td>1.69</td>\n",
       "      <td>1.69</td>\n",
       "      <td>0.00</td>\n",
       "      <td>0.0</td>\n",
       "      <td>0</td>\n",
       "      <td>0</td>\n",
       "      <td>0.400000</td>\n",
       "      <td>MM</td>\n",
       "    </tr>\n",
       "    <tr>\n",
       "      <th>4</th>\n",
       "      <td>228</td>\n",
       "      <td>7</td>\n",
       "      <td>1.69</td>\n",
       "      <td>1.69</td>\n",
       "      <td>0.00</td>\n",
       "      <td>0.0</td>\n",
       "      <td>0</td>\n",
       "      <td>0</td>\n",
       "      <td>0.956535</td>\n",
       "      <td>CH</td>\n",
       "    </tr>\n",
       "  </tbody>\n",
       "</table>\n",
       "</div>"
      ],
      "text/plain": [
       "   WeekofPurchase  StoreID  PriceCH  PriceMM  DiscCH  DiscMM  SpecialCH  \\\n",
       "0             237        1     1.75     1.99    0.00     0.0          0   \n",
       "1             239        1     1.75     1.99    0.00     0.3          0   \n",
       "2             245        1     1.86     2.09    0.17     0.0          0   \n",
       "3             227        1     1.69     1.69    0.00     0.0          0   \n",
       "4             228        7     1.69     1.69    0.00     0.0          0   \n",
       "\n",
       "   SpecialMM   LoyalCH Purchase  \n",
       "0          0  0.500000       CH  \n",
       "1          1  0.600000       CH  \n",
       "2          0  0.680000       CH  \n",
       "3          0  0.400000       MM  \n",
       "4          0  0.956535       CH  "
      ]
     },
     "execution_count": 8,
     "metadata": {},
     "output_type": "execute_result"
    }
   ],
   "source": [
    "df.head()"
   ]
  },
  {
   "cell_type": "code",
   "execution_count": 9,
   "metadata": {},
   "outputs": [
    {
     "data": {
      "text/html": [
       "<div>\n",
       "<style scoped>\n",
       "    .dataframe tbody tr th:only-of-type {\n",
       "        vertical-align: middle;\n",
       "    }\n",
       "\n",
       "    .dataframe tbody tr th {\n",
       "        vertical-align: top;\n",
       "    }\n",
       "\n",
       "    .dataframe thead th {\n",
       "        text-align: right;\n",
       "    }\n",
       "</style>\n",
       "<table border=\"1\" class=\"dataframe\">\n",
       "  <thead>\n",
       "    <tr style=\"text-align: right;\">\n",
       "      <th></th>\n",
       "      <th>WeekofPurchase</th>\n",
       "      <th>StoreID</th>\n",
       "      <th>PriceCH</th>\n",
       "      <th>PriceMM</th>\n",
       "      <th>DiscCH</th>\n",
       "      <th>DiscMM</th>\n",
       "      <th>SpecialCH</th>\n",
       "      <th>SpecialMM</th>\n",
       "      <th>LoyalCH</th>\n",
       "      <th>Purchase</th>\n",
       "    </tr>\n",
       "  </thead>\n",
       "  <tbody>\n",
       "    <tr>\n",
       "      <th>1065</th>\n",
       "      <td>252</td>\n",
       "      <td>7</td>\n",
       "      <td>1.86</td>\n",
       "      <td>2.09</td>\n",
       "      <td>0.1</td>\n",
       "      <td>0.00</td>\n",
       "      <td>0</td>\n",
       "      <td>0</td>\n",
       "      <td>0.587822</td>\n",
       "      <td>CH</td>\n",
       "    </tr>\n",
       "    <tr>\n",
       "      <th>1066</th>\n",
       "      <td>256</td>\n",
       "      <td>7</td>\n",
       "      <td>1.86</td>\n",
       "      <td>2.18</td>\n",
       "      <td>0.0</td>\n",
       "      <td>0.00</td>\n",
       "      <td>0</td>\n",
       "      <td>0</td>\n",
       "      <td>0.670258</td>\n",
       "      <td>CH</td>\n",
       "    </tr>\n",
       "    <tr>\n",
       "      <th>1067</th>\n",
       "      <td>257</td>\n",
       "      <td>7</td>\n",
       "      <td>1.86</td>\n",
       "      <td>2.18</td>\n",
       "      <td>0.0</td>\n",
       "      <td>0.00</td>\n",
       "      <td>0</td>\n",
       "      <td>0</td>\n",
       "      <td>0.736206</td>\n",
       "      <td>MM</td>\n",
       "    </tr>\n",
       "    <tr>\n",
       "      <th>1068</th>\n",
       "      <td>261</td>\n",
       "      <td>7</td>\n",
       "      <td>1.86</td>\n",
       "      <td>2.13</td>\n",
       "      <td>0.0</td>\n",
       "      <td>0.24</td>\n",
       "      <td>0</td>\n",
       "      <td>0</td>\n",
       "      <td>0.588965</td>\n",
       "      <td>CH</td>\n",
       "    </tr>\n",
       "    <tr>\n",
       "      <th>1069</th>\n",
       "      <td>270</td>\n",
       "      <td>1</td>\n",
       "      <td>1.86</td>\n",
       "      <td>2.18</td>\n",
       "      <td>0.0</td>\n",
       "      <td>0.00</td>\n",
       "      <td>0</td>\n",
       "      <td>0</td>\n",
       "      <td>0.671172</td>\n",
       "      <td>CH</td>\n",
       "    </tr>\n",
       "  </tbody>\n",
       "</table>\n",
       "</div>"
      ],
      "text/plain": [
       "      WeekofPurchase  StoreID  PriceCH  PriceMM  DiscCH  DiscMM  SpecialCH  \\\n",
       "1065             252        7     1.86     2.09     0.1    0.00          0   \n",
       "1066             256        7     1.86     2.18     0.0    0.00          0   \n",
       "1067             257        7     1.86     2.18     0.0    0.00          0   \n",
       "1068             261        7     1.86     2.13     0.0    0.24          0   \n",
       "1069             270        1     1.86     2.18     0.0    0.00          0   \n",
       "\n",
       "      SpecialMM   LoyalCH Purchase  \n",
       "1065          0  0.587822       CH  \n",
       "1066          0  0.670258       CH  \n",
       "1067          0  0.736206       MM  \n",
       "1068          0  0.588965       CH  \n",
       "1069          0  0.671172       CH  "
      ]
     },
     "execution_count": 9,
     "metadata": {},
     "output_type": "execute_result"
    }
   ],
   "source": [
    "df.tail()"
   ]
  },
  {
   "cell_type": "code",
   "execution_count": 10,
   "metadata": {},
   "outputs": [
    {
     "data": {
      "text/plain": [
       "(1070, 10)"
      ]
     },
     "execution_count": 10,
     "metadata": {},
     "output_type": "execute_result"
    }
   ],
   "source": [
    "df.shape"
   ]
  },
  {
   "cell_type": "markdown",
   "metadata": {},
   "source": [
    "### Target encoding to [0, 1]: purchase CH as 1, MM as 0 in this binary classification problem\n",
    "- As we have LoyalCH to measure historical customer loyalty to CH, not LoyalMM or information on loyalty for MM, we can predict whether a customer will purchase CH or not, with purchasing CH as 1, then MM as 0."
   ]
  },
  {
   "cell_type": "code",
   "execution_count": 11,
   "metadata": {},
   "outputs": [
    {
     "data": {
      "text/html": [
       "<div>\n",
       "<style scoped>\n",
       "    .dataframe tbody tr th:only-of-type {\n",
       "        vertical-align: middle;\n",
       "    }\n",
       "\n",
       "    .dataframe tbody tr th {\n",
       "        vertical-align: top;\n",
       "    }\n",
       "\n",
       "    .dataframe thead th {\n",
       "        text-align: right;\n",
       "    }\n",
       "</style>\n",
       "<table border=\"1\" class=\"dataframe\">\n",
       "  <thead>\n",
       "    <tr style=\"text-align: right;\">\n",
       "      <th></th>\n",
       "      <th>WeekofPurchase</th>\n",
       "      <th>StoreID</th>\n",
       "      <th>PriceCH</th>\n",
       "      <th>PriceMM</th>\n",
       "      <th>DiscCH</th>\n",
       "      <th>DiscMM</th>\n",
       "      <th>SpecialCH</th>\n",
       "      <th>SpecialMM</th>\n",
       "      <th>LoyalCH</th>\n",
       "      <th>Purchase</th>\n",
       "    </tr>\n",
       "  </thead>\n",
       "  <tbody>\n",
       "    <tr>\n",
       "      <th>0</th>\n",
       "      <td>237</td>\n",
       "      <td>1</td>\n",
       "      <td>1.75</td>\n",
       "      <td>1.99</td>\n",
       "      <td>0.00</td>\n",
       "      <td>0.0</td>\n",
       "      <td>0</td>\n",
       "      <td>0</td>\n",
       "      <td>0.500000</td>\n",
       "      <td>1</td>\n",
       "    </tr>\n",
       "    <tr>\n",
       "      <th>1</th>\n",
       "      <td>239</td>\n",
       "      <td>1</td>\n",
       "      <td>1.75</td>\n",
       "      <td>1.99</td>\n",
       "      <td>0.00</td>\n",
       "      <td>0.3</td>\n",
       "      <td>0</td>\n",
       "      <td>1</td>\n",
       "      <td>0.600000</td>\n",
       "      <td>1</td>\n",
       "    </tr>\n",
       "    <tr>\n",
       "      <th>2</th>\n",
       "      <td>245</td>\n",
       "      <td>1</td>\n",
       "      <td>1.86</td>\n",
       "      <td>2.09</td>\n",
       "      <td>0.17</td>\n",
       "      <td>0.0</td>\n",
       "      <td>0</td>\n",
       "      <td>0</td>\n",
       "      <td>0.680000</td>\n",
       "      <td>1</td>\n",
       "    </tr>\n",
       "    <tr>\n",
       "      <th>3</th>\n",
       "      <td>227</td>\n",
       "      <td>1</td>\n",
       "      <td>1.69</td>\n",
       "      <td>1.69</td>\n",
       "      <td>0.00</td>\n",
       "      <td>0.0</td>\n",
       "      <td>0</td>\n",
       "      <td>0</td>\n",
       "      <td>0.400000</td>\n",
       "      <td>0</td>\n",
       "    </tr>\n",
       "    <tr>\n",
       "      <th>4</th>\n",
       "      <td>228</td>\n",
       "      <td>7</td>\n",
       "      <td>1.69</td>\n",
       "      <td>1.69</td>\n",
       "      <td>0.00</td>\n",
       "      <td>0.0</td>\n",
       "      <td>0</td>\n",
       "      <td>0</td>\n",
       "      <td>0.956535</td>\n",
       "      <td>1</td>\n",
       "    </tr>\n",
       "  </tbody>\n",
       "</table>\n",
       "</div>"
      ],
      "text/plain": [
       "   WeekofPurchase  StoreID  PriceCH  PriceMM  DiscCH  DiscMM  SpecialCH  \\\n",
       "0             237        1     1.75     1.99    0.00     0.0          0   \n",
       "1             239        1     1.75     1.99    0.00     0.3          0   \n",
       "2             245        1     1.86     2.09    0.17     0.0          0   \n",
       "3             227        1     1.69     1.69    0.00     0.0          0   \n",
       "4             228        7     1.69     1.69    0.00     0.0          0   \n",
       "\n",
       "   SpecialMM   LoyalCH  Purchase  \n",
       "0          0  0.500000         1  \n",
       "1          1  0.600000         1  \n",
       "2          0  0.680000         1  \n",
       "3          0  0.400000         0  \n",
       "4          0  0.956535         1  "
      ]
     },
     "execution_count": 11,
     "metadata": {},
     "output_type": "execute_result"
    }
   ],
   "source": [
    "df['Purchase'] = df['Purchase'].replace(['CH', 'MM'], [1, 0])\n",
    "df.head()"
   ]
  },
  {
   "cell_type": "markdown",
   "metadata": {},
   "source": [
    "### Split data into training and testing\n",
    "- Assume we take 20% of data for testing"
   ]
  },
  {
   "cell_type": "code",
   "execution_count": 12,
   "metadata": {},
   "outputs": [
    {
     "data": {
      "text/html": [
       "<div>\n",
       "<style scoped>\n",
       "    .dataframe tbody tr th:only-of-type {\n",
       "        vertical-align: middle;\n",
       "    }\n",
       "\n",
       "    .dataframe tbody tr th {\n",
       "        vertical-align: top;\n",
       "    }\n",
       "\n",
       "    .dataframe thead th {\n",
       "        text-align: right;\n",
       "    }\n",
       "</style>\n",
       "<table border=\"1\" class=\"dataframe\">\n",
       "  <thead>\n",
       "    <tr style=\"text-align: right;\">\n",
       "      <th></th>\n",
       "      <th>WeekofPurchase</th>\n",
       "      <th>StoreID</th>\n",
       "      <th>PriceCH</th>\n",
       "      <th>PriceMM</th>\n",
       "      <th>DiscCH</th>\n",
       "      <th>DiscMM</th>\n",
       "      <th>SpecialCH</th>\n",
       "      <th>SpecialMM</th>\n",
       "      <th>LoyalCH</th>\n",
       "    </tr>\n",
       "  </thead>\n",
       "  <tbody>\n",
       "    <tr>\n",
       "      <th>0</th>\n",
       "      <td>237</td>\n",
       "      <td>1</td>\n",
       "      <td>1.75</td>\n",
       "      <td>1.99</td>\n",
       "      <td>0.00</td>\n",
       "      <td>0.0</td>\n",
       "      <td>0</td>\n",
       "      <td>0</td>\n",
       "      <td>0.500000</td>\n",
       "    </tr>\n",
       "    <tr>\n",
       "      <th>1</th>\n",
       "      <td>239</td>\n",
       "      <td>1</td>\n",
       "      <td>1.75</td>\n",
       "      <td>1.99</td>\n",
       "      <td>0.00</td>\n",
       "      <td>0.3</td>\n",
       "      <td>0</td>\n",
       "      <td>1</td>\n",
       "      <td>0.600000</td>\n",
       "    </tr>\n",
       "    <tr>\n",
       "      <th>2</th>\n",
       "      <td>245</td>\n",
       "      <td>1</td>\n",
       "      <td>1.86</td>\n",
       "      <td>2.09</td>\n",
       "      <td>0.17</td>\n",
       "      <td>0.0</td>\n",
       "      <td>0</td>\n",
       "      <td>0</td>\n",
       "      <td>0.680000</td>\n",
       "    </tr>\n",
       "    <tr>\n",
       "      <th>3</th>\n",
       "      <td>227</td>\n",
       "      <td>1</td>\n",
       "      <td>1.69</td>\n",
       "      <td>1.69</td>\n",
       "      <td>0.00</td>\n",
       "      <td>0.0</td>\n",
       "      <td>0</td>\n",
       "      <td>0</td>\n",
       "      <td>0.400000</td>\n",
       "    </tr>\n",
       "    <tr>\n",
       "      <th>4</th>\n",
       "      <td>228</td>\n",
       "      <td>7</td>\n",
       "      <td>1.69</td>\n",
       "      <td>1.69</td>\n",
       "      <td>0.00</td>\n",
       "      <td>0.0</td>\n",
       "      <td>0</td>\n",
       "      <td>0</td>\n",
       "      <td>0.956535</td>\n",
       "    </tr>\n",
       "  </tbody>\n",
       "</table>\n",
       "</div>"
      ],
      "text/plain": [
       "   WeekofPurchase  StoreID  PriceCH  PriceMM  DiscCH  DiscMM  SpecialCH  \\\n",
       "0             237        1     1.75     1.99    0.00     0.0          0   \n",
       "1             239        1     1.75     1.99    0.00     0.3          0   \n",
       "2             245        1     1.86     2.09    0.17     0.0          0   \n",
       "3             227        1     1.69     1.69    0.00     0.0          0   \n",
       "4             228        7     1.69     1.69    0.00     0.0          0   \n",
       "\n",
       "   SpecialMM   LoyalCH  \n",
       "0          0  0.500000  \n",
       "1          1  0.600000  \n",
       "2          0  0.680000  \n",
       "3          0  0.400000  \n",
       "4          0  0.956535  "
      ]
     },
     "execution_count": 12,
     "metadata": {},
     "output_type": "execute_result"
    },
    {
     "data": {
      "text/plain": [
       "0    1\n",
       "1    1\n",
       "2    1\n",
       "3    0\n",
       "4    1\n",
       "Name: Purchase, dtype: int64"
      ]
     },
     "execution_count": 12,
     "metadata": {},
     "output_type": "execute_result"
    }
   ],
   "source": [
    "X = df.iloc[:, :9]\n",
    "y = df.iloc[:, 9]\n",
    "\n",
    "X.head()\n",
    "y.head()"
   ]
  },
  {
   "cell_type": "markdown",
   "metadata": {},
   "source": [
    "### Task 2b - Split the data into training and testing sets\n",
    "- Shuffle the data before splitting to avoid original dataset's features having any kind of dependency ordering  "
   ]
  },
  {
   "cell_type": "code",
   "execution_count": 13,
   "metadata": {},
   "outputs": [
    {
     "data": {
      "text/html": [
       "<div>\n",
       "<style scoped>\n",
       "    .dataframe tbody tr th:only-of-type {\n",
       "        vertical-align: middle;\n",
       "    }\n",
       "\n",
       "    .dataframe tbody tr th {\n",
       "        vertical-align: top;\n",
       "    }\n",
       "\n",
       "    .dataframe thead th {\n",
       "        text-align: right;\n",
       "    }\n",
       "</style>\n",
       "<table border=\"1\" class=\"dataframe\">\n",
       "  <thead>\n",
       "    <tr style=\"text-align: right;\">\n",
       "      <th></th>\n",
       "      <th>WeekofPurchase</th>\n",
       "      <th>StoreID</th>\n",
       "      <th>PriceCH</th>\n",
       "      <th>PriceMM</th>\n",
       "      <th>DiscCH</th>\n",
       "      <th>DiscMM</th>\n",
       "      <th>SpecialCH</th>\n",
       "      <th>SpecialMM</th>\n",
       "      <th>LoyalCH</th>\n",
       "    </tr>\n",
       "  </thead>\n",
       "  <tbody>\n",
       "    <tr>\n",
       "      <th>351</th>\n",
       "      <td>278</td>\n",
       "      <td>7</td>\n",
       "      <td>2.06</td>\n",
       "      <td>2.13</td>\n",
       "      <td>0.0</td>\n",
       "      <td>0.0</td>\n",
       "      <td>0</td>\n",
       "      <td>0</td>\n",
       "      <td>0.982408</td>\n",
       "    </tr>\n",
       "    <tr>\n",
       "      <th>530</th>\n",
       "      <td>236</td>\n",
       "      <td>2</td>\n",
       "      <td>1.75</td>\n",
       "      <td>1.99</td>\n",
       "      <td>0.0</td>\n",
       "      <td>0.0</td>\n",
       "      <td>0</td>\n",
       "      <td>0</td>\n",
       "      <td>0.680000</td>\n",
       "    </tr>\n",
       "    <tr>\n",
       "      <th>896</th>\n",
       "      <td>259</td>\n",
       "      <td>7</td>\n",
       "      <td>1.86</td>\n",
       "      <td>2.18</td>\n",
       "      <td>0.0</td>\n",
       "      <td>0.0</td>\n",
       "      <td>0</td>\n",
       "      <td>0</td>\n",
       "      <td>0.868928</td>\n",
       "    </tr>\n",
       "    <tr>\n",
       "      <th>947</th>\n",
       "      <td>260</td>\n",
       "      <td>3</td>\n",
       "      <td>1.99</td>\n",
       "      <td>2.09</td>\n",
       "      <td>0.0</td>\n",
       "      <td>0.0</td>\n",
       "      <td>0</td>\n",
       "      <td>0</td>\n",
       "      <td>0.011649</td>\n",
       "    </tr>\n",
       "    <tr>\n",
       "      <th>936</th>\n",
       "      <td>231</td>\n",
       "      <td>2</td>\n",
       "      <td>1.69</td>\n",
       "      <td>1.69</td>\n",
       "      <td>0.3</td>\n",
       "      <td>0.0</td>\n",
       "      <td>1</td>\n",
       "      <td>0</td>\n",
       "      <td>0.135607</td>\n",
       "    </tr>\n",
       "  </tbody>\n",
       "</table>\n",
       "</div>"
      ],
      "text/plain": [
       "     WeekofPurchase  StoreID  PriceCH  PriceMM  DiscCH  DiscMM  SpecialCH  \\\n",
       "351             278        7     2.06     2.13     0.0     0.0          0   \n",
       "530             236        2     1.75     1.99     0.0     0.0          0   \n",
       "896             259        7     1.86     2.18     0.0     0.0          0   \n",
       "947             260        3     1.99     2.09     0.0     0.0          0   \n",
       "936             231        2     1.69     1.69     0.3     0.0          1   \n",
       "\n",
       "     SpecialMM   LoyalCH  \n",
       "351          0  0.982408  \n",
       "530          0  0.680000  \n",
       "896          0  0.868928  \n",
       "947          0  0.011649  \n",
       "936          0  0.135607  "
      ]
     },
     "execution_count": 13,
     "metadata": {},
     "output_type": "execute_result"
    },
    {
     "data": {
      "text/plain": [
       "351    1\n",
       "530    0\n",
       "896    1\n",
       "947    0\n",
       "936    0\n",
       "Name: Purchase, dtype: int64"
      ]
     },
     "execution_count": 13,
     "metadata": {},
     "output_type": "execute_result"
    }
   ],
   "source": [
    "from sklearn.model_selection import train_test_split\n",
    "\n",
    "X_train, X_test, y_train, y_test = train_test_split(X, y, test_size=0.2, random_state=42, shuffle=True)\n",
    "\n",
    "X_train.head()\n",
    "y_train.head()"
   ]
  },
  {
   "cell_type": "markdown",
   "metadata": {},
   "source": [
    "### Task 2a Continued - Preprocess data to standardize numeric features, and one hot encode categorical data\n",
    "#### Preprocess training data"
   ]
  },
  {
   "cell_type": "code",
   "execution_count": 14,
   "metadata": {},
   "outputs": [],
   "source": [
    "from sklearn.preprocessing import StandardScaler, OneHotEncoder"
   ]
  },
  {
   "cell_type": "code",
   "execution_count": 15,
   "metadata": {},
   "outputs": [
    {
     "data": {
      "text/plain": [
       "numpy.ndarray"
      ]
     },
     "execution_count": 15,
     "metadata": {},
     "output_type": "execute_result"
    }
   ],
   "source": [
    "features = ['WeekofPurchase', 'PriceCH', 'PriceMM', 'DiscCH', 'DiscMM', 'LoyalCH']\n",
    "scaler = StandardScaler().fit(X_train[features])\n",
    "X_train_f = scaler.transform(X_train[features])\n",
    "\n",
    "type(X_train_f)"
   ]
  },
  {
   "cell_type": "code",
   "execution_count": 16,
   "metadata": {},
   "outputs": [
    {
     "data": {
      "text/html": [
       "<div>\n",
       "<style scoped>\n",
       "    .dataframe tbody tr th:only-of-type {\n",
       "        vertical-align: middle;\n",
       "    }\n",
       "\n",
       "    .dataframe tbody tr th {\n",
       "        vertical-align: top;\n",
       "    }\n",
       "\n",
       "    .dataframe thead th {\n",
       "        text-align: right;\n",
       "    }\n",
       "</style>\n",
       "<table border=\"1\" class=\"dataframe\">\n",
       "  <thead>\n",
       "    <tr style=\"text-align: right;\">\n",
       "      <th></th>\n",
       "      <th>WeekofPurchase</th>\n",
       "      <th>PriceCH</th>\n",
       "      <th>PriceMM</th>\n",
       "      <th>DiscCH</th>\n",
       "      <th>DiscMM</th>\n",
       "      <th>LoyalCH</th>\n",
       "    </tr>\n",
       "  </thead>\n",
       "  <tbody>\n",
       "    <tr>\n",
       "      <th>0</th>\n",
       "      <td>1.511856</td>\n",
       "      <td>1.873662</td>\n",
       "      <td>0.338199</td>\n",
       "      <td>-0.429041</td>\n",
       "      <td>-0.574531</td>\n",
       "      <td>1.353941</td>\n",
       "    </tr>\n",
       "    <tr>\n",
       "      <th>1</th>\n",
       "      <td>-1.165298</td>\n",
       "      <td>-1.131082</td>\n",
       "      <td>-0.702628</td>\n",
       "      <td>-0.429041</td>\n",
       "      <td>-0.574531</td>\n",
       "      <td>0.374277</td>\n",
       "    </tr>\n",
       "    <tr>\n",
       "      <th>2</th>\n",
       "      <td>0.300763</td>\n",
       "      <td>-0.064882</td>\n",
       "      <td>0.709923</td>\n",
       "      <td>-0.429041</td>\n",
       "      <td>-0.574531</td>\n",
       "      <td>0.986317</td>\n",
       "    </tr>\n",
       "    <tr>\n",
       "      <th>3</th>\n",
       "      <td>0.364505</td>\n",
       "      <td>1.195171</td>\n",
       "      <td>0.040820</td>\n",
       "      <td>-0.429041</td>\n",
       "      <td>-0.574531</td>\n",
       "      <td>-1.790875</td>\n",
       "    </tr>\n",
       "    <tr>\n",
       "      <th>4</th>\n",
       "      <td>-1.484006</td>\n",
       "      <td>-1.712645</td>\n",
       "      <td>-2.932971</td>\n",
       "      <td>2.150027</td>\n",
       "      <td>-0.574531</td>\n",
       "      <td>-1.389308</td>\n",
       "    </tr>\n",
       "  </tbody>\n",
       "</table>\n",
       "</div>"
      ],
      "text/plain": [
       "   WeekofPurchase   PriceCH   PriceMM    DiscCH    DiscMM   LoyalCH\n",
       "0        1.511856  1.873662  0.338199 -0.429041 -0.574531  1.353941\n",
       "1       -1.165298 -1.131082 -0.702628 -0.429041 -0.574531  0.374277\n",
       "2        0.300763 -0.064882  0.709923 -0.429041 -0.574531  0.986317\n",
       "3        0.364505  1.195171  0.040820 -0.429041 -0.574531 -1.790875\n",
       "4       -1.484006 -1.712645 -2.932971  2.150027 -0.574531 -1.389308"
      ]
     },
     "execution_count": 16,
     "metadata": {},
     "output_type": "execute_result"
    }
   ],
   "source": [
    "X_train_f = pd.DataFrame(X_train_f, columns=features)\n",
    "X_train_f.head()"
   ]
  },
  {
   "cell_type": "code",
   "execution_count": 17,
   "metadata": {},
   "outputs": [
    {
     "name": "stdout",
     "output_type": "stream",
     "text": [
      "\n",
      " Names of 5 OHE features:\n",
      "['StoreID_1', 'StoreID_2', 'StoreID_3', 'StoreID_4', 'StoreID_7']\n"
     ]
    }
   ],
   "source": [
    "ohe = OneHotEncoder(categories='auto', handle_unknown='ignore', sparse=False)\n",
    "ohe = ohe.fit(X_train[['StoreID']])\n",
    "ohe_feature_names = list(ohe.get_feature_names(['StoreID']))\n",
    "\n",
    "print(\"\\n Names of {} OHE features:\".format(len(ohe_feature_names)))\n",
    "print(ohe_feature_names)"
   ]
  },
  {
   "cell_type": "code",
   "execution_count": 18,
   "metadata": {},
   "outputs": [
    {
     "data": {
      "text/html": [
       "<div>\n",
       "<style scoped>\n",
       "    .dataframe tbody tr th:only-of-type {\n",
       "        vertical-align: middle;\n",
       "    }\n",
       "\n",
       "    .dataframe tbody tr th {\n",
       "        vertical-align: top;\n",
       "    }\n",
       "\n",
       "    .dataframe thead th {\n",
       "        text-align: right;\n",
       "    }\n",
       "</style>\n",
       "<table border=\"1\" class=\"dataframe\">\n",
       "  <thead>\n",
       "    <tr style=\"text-align: right;\">\n",
       "      <th></th>\n",
       "      <th>StoreID_1</th>\n",
       "      <th>StoreID_2</th>\n",
       "      <th>StoreID_3</th>\n",
       "      <th>StoreID_4</th>\n",
       "      <th>StoreID_7</th>\n",
       "    </tr>\n",
       "  </thead>\n",
       "  <tbody>\n",
       "    <tr>\n",
       "      <th>0</th>\n",
       "      <td>0.0</td>\n",
       "      <td>0.0</td>\n",
       "      <td>0.0</td>\n",
       "      <td>0.0</td>\n",
       "      <td>1.0</td>\n",
       "    </tr>\n",
       "    <tr>\n",
       "      <th>1</th>\n",
       "      <td>0.0</td>\n",
       "      <td>1.0</td>\n",
       "      <td>0.0</td>\n",
       "      <td>0.0</td>\n",
       "      <td>0.0</td>\n",
       "    </tr>\n",
       "    <tr>\n",
       "      <th>2</th>\n",
       "      <td>0.0</td>\n",
       "      <td>0.0</td>\n",
       "      <td>0.0</td>\n",
       "      <td>0.0</td>\n",
       "      <td>1.0</td>\n",
       "    </tr>\n",
       "    <tr>\n",
       "      <th>3</th>\n",
       "      <td>0.0</td>\n",
       "      <td>0.0</td>\n",
       "      <td>1.0</td>\n",
       "      <td>0.0</td>\n",
       "      <td>0.0</td>\n",
       "    </tr>\n",
       "    <tr>\n",
       "      <th>4</th>\n",
       "      <td>0.0</td>\n",
       "      <td>1.0</td>\n",
       "      <td>0.0</td>\n",
       "      <td>0.0</td>\n",
       "      <td>0.0</td>\n",
       "    </tr>\n",
       "  </tbody>\n",
       "</table>\n",
       "</div>"
      ],
      "text/plain": [
       "   StoreID_1  StoreID_2  StoreID_3  StoreID_4  StoreID_7\n",
       "0        0.0        0.0        0.0        0.0        1.0\n",
       "1        0.0        1.0        0.0        0.0        0.0\n",
       "2        0.0        0.0        0.0        0.0        1.0\n",
       "3        0.0        0.0        1.0        0.0        0.0\n",
       "4        0.0        1.0        0.0        0.0        0.0"
      ]
     },
     "execution_count": 18,
     "metadata": {},
     "output_type": "execute_result"
    }
   ],
   "source": [
    "X_train_ohe = ohe.transform(X_train[['StoreID']])\n",
    "ohe_features_df = pd.DataFrame(X_train_ohe, columns=ohe_feature_names)\n",
    "ohe_features_df.head()"
   ]
  },
  {
   "cell_type": "code",
   "execution_count": 19,
   "metadata": {},
   "outputs": [
    {
     "data": {
      "text/html": [
       "<div>\n",
       "<style scoped>\n",
       "    .dataframe tbody tr th:only-of-type {\n",
       "        vertical-align: middle;\n",
       "    }\n",
       "\n",
       "    .dataframe tbody tr th {\n",
       "        vertical-align: top;\n",
       "    }\n",
       "\n",
       "    .dataframe thead th {\n",
       "        text-align: right;\n",
       "    }\n",
       "</style>\n",
       "<table border=\"1\" class=\"dataframe\">\n",
       "  <thead>\n",
       "    <tr style=\"text-align: right;\">\n",
       "      <th></th>\n",
       "      <th>WeekofPurchase</th>\n",
       "      <th>PriceCH</th>\n",
       "      <th>PriceMM</th>\n",
       "      <th>DiscCH</th>\n",
       "      <th>DiscMM</th>\n",
       "      <th>LoyalCH</th>\n",
       "      <th>SpecialCH</th>\n",
       "      <th>SpecialMM</th>\n",
       "      <th>StoreID_1</th>\n",
       "      <th>StoreID_2</th>\n",
       "      <th>StoreID_3</th>\n",
       "      <th>StoreID_4</th>\n",
       "      <th>StoreID_7</th>\n",
       "    </tr>\n",
       "  </thead>\n",
       "  <tbody>\n",
       "    <tr>\n",
       "      <th>0</th>\n",
       "      <td>1.511856</td>\n",
       "      <td>1.873662</td>\n",
       "      <td>0.338199</td>\n",
       "      <td>-0.429041</td>\n",
       "      <td>-0.574531</td>\n",
       "      <td>1.353941</td>\n",
       "      <td>0</td>\n",
       "      <td>0</td>\n",
       "      <td>0.0</td>\n",
       "      <td>0.0</td>\n",
       "      <td>0.0</td>\n",
       "      <td>0.0</td>\n",
       "      <td>1.0</td>\n",
       "    </tr>\n",
       "    <tr>\n",
       "      <th>1</th>\n",
       "      <td>-1.165298</td>\n",
       "      <td>-1.131082</td>\n",
       "      <td>-0.702628</td>\n",
       "      <td>-0.429041</td>\n",
       "      <td>-0.574531</td>\n",
       "      <td>0.374277</td>\n",
       "      <td>0</td>\n",
       "      <td>0</td>\n",
       "      <td>0.0</td>\n",
       "      <td>1.0</td>\n",
       "      <td>0.0</td>\n",
       "      <td>0.0</td>\n",
       "      <td>0.0</td>\n",
       "    </tr>\n",
       "    <tr>\n",
       "      <th>2</th>\n",
       "      <td>0.300763</td>\n",
       "      <td>-0.064882</td>\n",
       "      <td>0.709923</td>\n",
       "      <td>-0.429041</td>\n",
       "      <td>-0.574531</td>\n",
       "      <td>0.986317</td>\n",
       "      <td>0</td>\n",
       "      <td>0</td>\n",
       "      <td>0.0</td>\n",
       "      <td>0.0</td>\n",
       "      <td>0.0</td>\n",
       "      <td>0.0</td>\n",
       "      <td>1.0</td>\n",
       "    </tr>\n",
       "    <tr>\n",
       "      <th>3</th>\n",
       "      <td>0.364505</td>\n",
       "      <td>1.195171</td>\n",
       "      <td>0.040820</td>\n",
       "      <td>-0.429041</td>\n",
       "      <td>-0.574531</td>\n",
       "      <td>-1.790875</td>\n",
       "      <td>0</td>\n",
       "      <td>0</td>\n",
       "      <td>0.0</td>\n",
       "      <td>0.0</td>\n",
       "      <td>1.0</td>\n",
       "      <td>0.0</td>\n",
       "      <td>0.0</td>\n",
       "    </tr>\n",
       "    <tr>\n",
       "      <th>4</th>\n",
       "      <td>-1.484006</td>\n",
       "      <td>-1.712645</td>\n",
       "      <td>-2.932971</td>\n",
       "      <td>2.150027</td>\n",
       "      <td>-0.574531</td>\n",
       "      <td>-1.389308</td>\n",
       "      <td>1</td>\n",
       "      <td>0</td>\n",
       "      <td>0.0</td>\n",
       "      <td>1.0</td>\n",
       "      <td>0.0</td>\n",
       "      <td>0.0</td>\n",
       "      <td>0.0</td>\n",
       "    </tr>\n",
       "  </tbody>\n",
       "</table>\n",
       "</div>"
      ],
      "text/plain": [
       "   WeekofPurchase   PriceCH   PriceMM    DiscCH    DiscMM   LoyalCH  \\\n",
       "0        1.511856  1.873662  0.338199 -0.429041 -0.574531  1.353941   \n",
       "1       -1.165298 -1.131082 -0.702628 -0.429041 -0.574531  0.374277   \n",
       "2        0.300763 -0.064882  0.709923 -0.429041 -0.574531  0.986317   \n",
       "3        0.364505  1.195171  0.040820 -0.429041 -0.574531 -1.790875   \n",
       "4       -1.484006 -1.712645 -2.932971  2.150027 -0.574531 -1.389308   \n",
       "\n",
       "   SpecialCH  SpecialMM  StoreID_1  StoreID_2  StoreID_3  StoreID_4  StoreID_7  \n",
       "0          0          0        0.0        0.0        0.0        0.0        1.0  \n",
       "1          0          0        0.0        1.0        0.0        0.0        0.0  \n",
       "2          0          0        0.0        0.0        0.0        0.0        1.0  \n",
       "3          0          0        0.0        0.0        1.0        0.0        0.0  \n",
       "4          1          0        0.0        1.0        0.0        0.0        0.0  "
      ]
     },
     "execution_count": 19,
     "metadata": {},
     "output_type": "execute_result"
    }
   ],
   "source": [
    "X_train_all = pd.concat([X_train_f, X_train[['SpecialCH', 'SpecialMM']].reset_index(drop=True), ohe_features_df], axis=1)\n",
    "X_train_all.head()"
   ]
  },
  {
   "cell_type": "markdown",
   "metadata": {},
   "source": [
    "#### Preprocess testing data"
   ]
  },
  {
   "cell_type": "code",
   "execution_count": 20,
   "metadata": {},
   "outputs": [],
   "source": [
    "X_test_f = scaler.transform(X_test[features])"
   ]
  },
  {
   "cell_type": "code",
   "execution_count": 21,
   "metadata": {},
   "outputs": [
    {
     "data": {
      "text/html": [
       "<div>\n",
       "<style scoped>\n",
       "    .dataframe tbody tr th:only-of-type {\n",
       "        vertical-align: middle;\n",
       "    }\n",
       "\n",
       "    .dataframe tbody tr th {\n",
       "        vertical-align: top;\n",
       "    }\n",
       "\n",
       "    .dataframe thead th {\n",
       "        text-align: right;\n",
       "    }\n",
       "</style>\n",
       "<table border=\"1\" class=\"dataframe\">\n",
       "  <thead>\n",
       "    <tr style=\"text-align: right;\">\n",
       "      <th></th>\n",
       "      <th>WeekofPurchase</th>\n",
       "      <th>StoreID</th>\n",
       "      <th>PriceCH</th>\n",
       "      <th>PriceMM</th>\n",
       "      <th>DiscCH</th>\n",
       "      <th>DiscMM</th>\n",
       "      <th>SpecialCH</th>\n",
       "      <th>SpecialMM</th>\n",
       "      <th>LoyalCH</th>\n",
       "    </tr>\n",
       "  </thead>\n",
       "  <tbody>\n",
       "    <tr>\n",
       "      <th>644</th>\n",
       "      <td>239</td>\n",
       "      <td>3</td>\n",
       "      <td>1.79</td>\n",
       "      <td>2.23</td>\n",
       "      <td>0.0</td>\n",
       "      <td>0.0</td>\n",
       "      <td>0</td>\n",
       "      <td>0</td>\n",
       "      <td>0.670149</td>\n",
       "    </tr>\n",
       "    <tr>\n",
       "      <th>629</th>\n",
       "      <td>260</td>\n",
       "      <td>2</td>\n",
       "      <td>1.86</td>\n",
       "      <td>2.18</td>\n",
       "      <td>0.0</td>\n",
       "      <td>0.7</td>\n",
       "      <td>0</td>\n",
       "      <td>0</td>\n",
       "      <td>0.456000</td>\n",
       "    </tr>\n",
       "    <tr>\n",
       "      <th>70</th>\n",
       "      <td>274</td>\n",
       "      <td>4</td>\n",
       "      <td>1.99</td>\n",
       "      <td>2.09</td>\n",
       "      <td>0.0</td>\n",
       "      <td>0.4</td>\n",
       "      <td>0</td>\n",
       "      <td>0</td>\n",
       "      <td>0.718311</td>\n",
       "    </tr>\n",
       "    <tr>\n",
       "      <th>962</th>\n",
       "      <td>227</td>\n",
       "      <td>1</td>\n",
       "      <td>1.69</td>\n",
       "      <td>1.69</td>\n",
       "      <td>0.0</td>\n",
       "      <td>0.0</td>\n",
       "      <td>0</td>\n",
       "      <td>0</td>\n",
       "      <td>0.600000</td>\n",
       "    </tr>\n",
       "    <tr>\n",
       "      <th>787</th>\n",
       "      <td>273</td>\n",
       "      <td>3</td>\n",
       "      <td>1.99</td>\n",
       "      <td>2.09</td>\n",
       "      <td>0.0</td>\n",
       "      <td>0.4</td>\n",
       "      <td>0</td>\n",
       "      <td>0</td>\n",
       "      <td>0.053687</td>\n",
       "    </tr>\n",
       "  </tbody>\n",
       "</table>\n",
       "</div>"
      ],
      "text/plain": [
       "     WeekofPurchase  StoreID  PriceCH  PriceMM  DiscCH  DiscMM  SpecialCH  \\\n",
       "644             239        3     1.79     2.23     0.0     0.0          0   \n",
       "629             260        2     1.86     2.18     0.0     0.7          0   \n",
       "70              274        4     1.99     2.09     0.0     0.4          0   \n",
       "962             227        1     1.69     1.69     0.0     0.0          0   \n",
       "787             273        3     1.99     2.09     0.0     0.4          0   \n",
       "\n",
       "     SpecialMM   LoyalCH  \n",
       "644          0  0.670149  \n",
       "629          0  0.456000  \n",
       "70           0  0.718311  \n",
       "962          0  0.600000  \n",
       "787          0  0.053687  "
      ]
     },
     "execution_count": 21,
     "metadata": {},
     "output_type": "execute_result"
    }
   ],
   "source": [
    "X_test.head()"
   ]
  },
  {
   "cell_type": "code",
   "execution_count": 22,
   "metadata": {},
   "outputs": [
    {
     "data": {
      "text/html": [
       "<div>\n",
       "<style scoped>\n",
       "    .dataframe tbody tr th:only-of-type {\n",
       "        vertical-align: middle;\n",
       "    }\n",
       "\n",
       "    .dataframe tbody tr th {\n",
       "        vertical-align: top;\n",
       "    }\n",
       "\n",
       "    .dataframe thead th {\n",
       "        text-align: right;\n",
       "    }\n",
       "</style>\n",
       "<table border=\"1\" class=\"dataframe\">\n",
       "  <thead>\n",
       "    <tr style=\"text-align: right;\">\n",
       "      <th></th>\n",
       "      <th>WeekofPurchase</th>\n",
       "      <th>PriceCH</th>\n",
       "      <th>PriceMM</th>\n",
       "      <th>DiscCH</th>\n",
       "      <th>DiscMM</th>\n",
       "      <th>LoyalCH</th>\n",
       "    </tr>\n",
       "  </thead>\n",
       "  <tbody>\n",
       "    <tr>\n",
       "      <th>0</th>\n",
       "      <td>-0.974072</td>\n",
       "      <td>-0.743373</td>\n",
       "      <td>1.081647</td>\n",
       "      <td>-0.429041</td>\n",
       "      <td>-0.574531</td>\n",
       "      <td>0.342364</td>\n",
       "    </tr>\n",
       "    <tr>\n",
       "      <th>1</th>\n",
       "      <td>0.364505</td>\n",
       "      <td>-0.064882</td>\n",
       "      <td>0.709923</td>\n",
       "      <td>-0.429041</td>\n",
       "      <td>2.712893</td>\n",
       "      <td>-0.351381</td>\n",
       "    </tr>\n",
       "    <tr>\n",
       "      <th>2</th>\n",
       "      <td>1.256889</td>\n",
       "      <td>1.195171</td>\n",
       "      <td>0.040820</td>\n",
       "      <td>-0.429041</td>\n",
       "      <td>1.303997</td>\n",
       "      <td>0.498387</td>\n",
       "    </tr>\n",
       "    <tr>\n",
       "      <th>3</th>\n",
       "      <td>-1.738973</td>\n",
       "      <td>-1.712645</td>\n",
       "      <td>-2.932971</td>\n",
       "      <td>-0.429041</td>\n",
       "      <td>-0.574531</td>\n",
       "      <td>0.115113</td>\n",
       "    </tr>\n",
       "    <tr>\n",
       "      <th>4</th>\n",
       "      <td>1.193147</td>\n",
       "      <td>1.195171</td>\n",
       "      <td>0.040820</td>\n",
       "      <td>-0.429041</td>\n",
       "      <td>1.303997</td>\n",
       "      <td>-1.654691</td>\n",
       "    </tr>\n",
       "  </tbody>\n",
       "</table>\n",
       "</div>"
      ],
      "text/plain": [
       "   WeekofPurchase   PriceCH   PriceMM    DiscCH    DiscMM   LoyalCH\n",
       "0       -0.974072 -0.743373  1.081647 -0.429041 -0.574531  0.342364\n",
       "1        0.364505 -0.064882  0.709923 -0.429041  2.712893 -0.351381\n",
       "2        1.256889  1.195171  0.040820 -0.429041  1.303997  0.498387\n",
       "3       -1.738973 -1.712645 -2.932971 -0.429041 -0.574531  0.115113\n",
       "4        1.193147  1.195171  0.040820 -0.429041  1.303997 -1.654691"
      ]
     },
     "execution_count": 22,
     "metadata": {},
     "output_type": "execute_result"
    }
   ],
   "source": [
    "X_test_f = pd.DataFrame(X_test_f, columns=features)\n",
    "X_test_f.head()"
   ]
  },
  {
   "cell_type": "code",
   "execution_count": 23,
   "metadata": {},
   "outputs": [],
   "source": [
    "X_test_ohe = ohe.transform(X_test[['StoreID']])"
   ]
  },
  {
   "cell_type": "code",
   "execution_count": 24,
   "metadata": {},
   "outputs": [
    {
     "data": {
      "text/html": [
       "<div>\n",
       "<style scoped>\n",
       "    .dataframe tbody tr th:only-of-type {\n",
       "        vertical-align: middle;\n",
       "    }\n",
       "\n",
       "    .dataframe tbody tr th {\n",
       "        vertical-align: top;\n",
       "    }\n",
       "\n",
       "    .dataframe thead th {\n",
       "        text-align: right;\n",
       "    }\n",
       "</style>\n",
       "<table border=\"1\" class=\"dataframe\">\n",
       "  <thead>\n",
       "    <tr style=\"text-align: right;\">\n",
       "      <th></th>\n",
       "      <th>StoreID_1</th>\n",
       "      <th>StoreID_2</th>\n",
       "      <th>StoreID_3</th>\n",
       "      <th>StoreID_4</th>\n",
       "      <th>StoreID_7</th>\n",
       "    </tr>\n",
       "  </thead>\n",
       "  <tbody>\n",
       "    <tr>\n",
       "      <th>0</th>\n",
       "      <td>0.0</td>\n",
       "      <td>0.0</td>\n",
       "      <td>1.0</td>\n",
       "      <td>0.0</td>\n",
       "      <td>0.0</td>\n",
       "    </tr>\n",
       "    <tr>\n",
       "      <th>1</th>\n",
       "      <td>0.0</td>\n",
       "      <td>1.0</td>\n",
       "      <td>0.0</td>\n",
       "      <td>0.0</td>\n",
       "      <td>0.0</td>\n",
       "    </tr>\n",
       "    <tr>\n",
       "      <th>2</th>\n",
       "      <td>0.0</td>\n",
       "      <td>0.0</td>\n",
       "      <td>0.0</td>\n",
       "      <td>1.0</td>\n",
       "      <td>0.0</td>\n",
       "    </tr>\n",
       "    <tr>\n",
       "      <th>3</th>\n",
       "      <td>1.0</td>\n",
       "      <td>0.0</td>\n",
       "      <td>0.0</td>\n",
       "      <td>0.0</td>\n",
       "      <td>0.0</td>\n",
       "    </tr>\n",
       "    <tr>\n",
       "      <th>4</th>\n",
       "      <td>0.0</td>\n",
       "      <td>0.0</td>\n",
       "      <td>1.0</td>\n",
       "      <td>0.0</td>\n",
       "      <td>0.0</td>\n",
       "    </tr>\n",
       "  </tbody>\n",
       "</table>\n",
       "</div>"
      ],
      "text/plain": [
       "   StoreID_1  StoreID_2  StoreID_3  StoreID_4  StoreID_7\n",
       "0        0.0        0.0        1.0        0.0        0.0\n",
       "1        0.0        1.0        0.0        0.0        0.0\n",
       "2        0.0        0.0        0.0        1.0        0.0\n",
       "3        1.0        0.0        0.0        0.0        0.0\n",
       "4        0.0        0.0        1.0        0.0        0.0"
      ]
     },
     "execution_count": 24,
     "metadata": {},
     "output_type": "execute_result"
    }
   ],
   "source": [
    "X_test_df = pd.DataFrame(X_test_ohe, columns=ohe_feature_names)\n",
    "X_test_df.head()"
   ]
  },
  {
   "cell_type": "code",
   "execution_count": 25,
   "metadata": {},
   "outputs": [
    {
     "data": {
      "text/html": [
       "<div>\n",
       "<style scoped>\n",
       "    .dataframe tbody tr th:only-of-type {\n",
       "        vertical-align: middle;\n",
       "    }\n",
       "\n",
       "    .dataframe tbody tr th {\n",
       "        vertical-align: top;\n",
       "    }\n",
       "\n",
       "    .dataframe thead th {\n",
       "        text-align: right;\n",
       "    }\n",
       "</style>\n",
       "<table border=\"1\" class=\"dataframe\">\n",
       "  <thead>\n",
       "    <tr style=\"text-align: right;\">\n",
       "      <th></th>\n",
       "      <th>WeekofPurchase</th>\n",
       "      <th>PriceCH</th>\n",
       "      <th>PriceMM</th>\n",
       "      <th>DiscCH</th>\n",
       "      <th>DiscMM</th>\n",
       "      <th>LoyalCH</th>\n",
       "      <th>SpecialCH</th>\n",
       "      <th>SpecialMM</th>\n",
       "      <th>StoreID_1</th>\n",
       "      <th>StoreID_2</th>\n",
       "      <th>StoreID_3</th>\n",
       "      <th>StoreID_4</th>\n",
       "      <th>StoreID_7</th>\n",
       "    </tr>\n",
       "  </thead>\n",
       "  <tbody>\n",
       "    <tr>\n",
       "      <th>0</th>\n",
       "      <td>-0.974072</td>\n",
       "      <td>-0.743373</td>\n",
       "      <td>1.081647</td>\n",
       "      <td>-0.429041</td>\n",
       "      <td>-0.574531</td>\n",
       "      <td>0.342364</td>\n",
       "      <td>0</td>\n",
       "      <td>0</td>\n",
       "      <td>0.0</td>\n",
       "      <td>0.0</td>\n",
       "      <td>1.0</td>\n",
       "      <td>0.0</td>\n",
       "      <td>0.0</td>\n",
       "    </tr>\n",
       "    <tr>\n",
       "      <th>1</th>\n",
       "      <td>0.364505</td>\n",
       "      <td>-0.064882</td>\n",
       "      <td>0.709923</td>\n",
       "      <td>-0.429041</td>\n",
       "      <td>2.712893</td>\n",
       "      <td>-0.351381</td>\n",
       "      <td>0</td>\n",
       "      <td>0</td>\n",
       "      <td>0.0</td>\n",
       "      <td>1.0</td>\n",
       "      <td>0.0</td>\n",
       "      <td>0.0</td>\n",
       "      <td>0.0</td>\n",
       "    </tr>\n",
       "    <tr>\n",
       "      <th>2</th>\n",
       "      <td>1.256889</td>\n",
       "      <td>1.195171</td>\n",
       "      <td>0.040820</td>\n",
       "      <td>-0.429041</td>\n",
       "      <td>1.303997</td>\n",
       "      <td>0.498387</td>\n",
       "      <td>0</td>\n",
       "      <td>0</td>\n",
       "      <td>0.0</td>\n",
       "      <td>0.0</td>\n",
       "      <td>0.0</td>\n",
       "      <td>1.0</td>\n",
       "      <td>0.0</td>\n",
       "    </tr>\n",
       "    <tr>\n",
       "      <th>3</th>\n",
       "      <td>-1.738973</td>\n",
       "      <td>-1.712645</td>\n",
       "      <td>-2.932971</td>\n",
       "      <td>-0.429041</td>\n",
       "      <td>-0.574531</td>\n",
       "      <td>0.115113</td>\n",
       "      <td>0</td>\n",
       "      <td>0</td>\n",
       "      <td>1.0</td>\n",
       "      <td>0.0</td>\n",
       "      <td>0.0</td>\n",
       "      <td>0.0</td>\n",
       "      <td>0.0</td>\n",
       "    </tr>\n",
       "    <tr>\n",
       "      <th>4</th>\n",
       "      <td>1.193147</td>\n",
       "      <td>1.195171</td>\n",
       "      <td>0.040820</td>\n",
       "      <td>-0.429041</td>\n",
       "      <td>1.303997</td>\n",
       "      <td>-1.654691</td>\n",
       "      <td>0</td>\n",
       "      <td>0</td>\n",
       "      <td>0.0</td>\n",
       "      <td>0.0</td>\n",
       "      <td>1.0</td>\n",
       "      <td>0.0</td>\n",
       "      <td>0.0</td>\n",
       "    </tr>\n",
       "  </tbody>\n",
       "</table>\n",
       "</div>"
      ],
      "text/plain": [
       "   WeekofPurchase   PriceCH   PriceMM    DiscCH    DiscMM   LoyalCH  \\\n",
       "0       -0.974072 -0.743373  1.081647 -0.429041 -0.574531  0.342364   \n",
       "1        0.364505 -0.064882  0.709923 -0.429041  2.712893 -0.351381   \n",
       "2        1.256889  1.195171  0.040820 -0.429041  1.303997  0.498387   \n",
       "3       -1.738973 -1.712645 -2.932971 -0.429041 -0.574531  0.115113   \n",
       "4        1.193147  1.195171  0.040820 -0.429041  1.303997 -1.654691   \n",
       "\n",
       "   SpecialCH  SpecialMM  StoreID_1  StoreID_2  StoreID_3  StoreID_4  StoreID_7  \n",
       "0          0          0        0.0        0.0        1.0        0.0        0.0  \n",
       "1          0          0        0.0        1.0        0.0        0.0        0.0  \n",
       "2          0          0        0.0        0.0        0.0        1.0        0.0  \n",
       "3          0          0        1.0        0.0        0.0        0.0        0.0  \n",
       "4          0          0        0.0        0.0        1.0        0.0        0.0  "
      ]
     },
     "execution_count": 25,
     "metadata": {},
     "output_type": "execute_result"
    }
   ],
   "source": [
    "X_test_all = pd.concat([X_test_f, X_test[['SpecialCH', 'SpecialMM']].reset_index(drop=True),X_test_df], axis=1)\n",
    "X_test_all.head()"
   ]
  },
  {
   "cell_type": "code",
   "execution_count": 26,
   "metadata": {},
   "outputs": [
    {
     "data": {
      "text/plain": [
       "644    1\n",
       "629    0\n",
       "70     1\n",
       "962    1\n",
       "787    1\n",
       "Name: Purchase, dtype: int64"
      ]
     },
     "execution_count": 26,
     "metadata": {},
     "output_type": "execute_result"
    }
   ],
   "source": [
    "y_test.head()"
   ]
  },
  {
   "cell_type": "markdown",
   "metadata": {},
   "source": [
    "### There's moderate imbalance in the dataset\n",
    "- SMOTE in pipeline to fix the imbalanced dataset"
   ]
  },
  {
   "cell_type": "code",
   "execution_count": 27,
   "metadata": {},
   "outputs": [
    {
     "data": {
      "image/png": "[encoded data removed]",
      "text/plain": [
       "<Figure size 360x360 with 1 Axes>"
      ]
     },
     "metadata": {
      "needs_background": "light"
     },
     "output_type": "display_data"
    }
   ],
   "source": [
    "pd.Series(y_train).value_counts().plot.bar(figsize=(5,5));"
   ]
  },
  {
   "cell_type": "markdown",
   "metadata": {},
   "source": [
    "- 61.1% of all training instances have purchased CH orange juice vs. MM"
   ]
  },
  {
   "cell_type": "code",
   "execution_count": 28,
   "metadata": {},
   "outputs": [
    {
     "data": {
      "text/plain": [
       "0.610981308411215"
      ]
     },
     "execution_count": 28,
     "metadata": {},
     "output_type": "execute_result"
    }
   ],
   "source": [
    "y_train.sum()/len(y_train)"
   ]
  },
  {
   "cell_type": "markdown",
   "metadata": {},
   "source": [
    "---\n",
    "### Task 2c - Build and tune three models.  Print out the best hyperparameter values, and model performance."
   ]
  },
  {
   "cell_type": "markdown",
   "metadata": {},
   "source": [
    "### Using Pycaret to get an overview of top performing models, as a guide for model selection"
   ]
  },
  {
   "cell_type": "code",
   "execution_count": 29,
   "metadata": {},
   "outputs": [],
   "source": [
    "from pycaret.classification import *"
   ]
  },
  {
   "cell_type": "markdown",
   "metadata": {},
   "source": [
    "### Set up the raw data after target was encoded to [0, 1]:\n",
    "- feature_selection_threshold=0.9, remove_outliers=True, interaction_threshold=0.4, ignore_low_variance=True, multicollinearity_threshold=0.95, train_size=0.8 \n",
    "- Shuffle the data in train and test split: data_split_shuffle = True\n",
    "- Do 5 folds of Stratified K-Folds for training data: data_split_stratify = True, fold=5\n",
    "- Fix data imbalance using SMOTE\n",
    "- Normalize numeric features"
   ]
  },
  {
   "cell_type": "code",
   "execution_count": 30,
   "metadata": {},
   "outputs": [
    {
     "data": {
      "text/html": [
       "<style  type=\"text/css\" >\n",
       "    #T_aeb10098_3da5_11eb_b51b_3065ec67c176row29_col1 {\n",
       "            background-color:  lightgreen;\n",
       "        }    #T_aeb10098_3da5_11eb_b51b_3065ec67c176row36_col1 {\n",
       "            background-color:  lightgreen;\n",
       "        }    #T_aeb10098_3da5_11eb_b51b_3065ec67c176row40_col1 {\n",
       "            background-color:  lightgreen;\n",
       "        }    #T_aeb10098_3da5_11eb_b51b_3065ec67c176row42_col1 {\n",
       "            background-color:  lightgreen;\n",
       "        }    #T_aeb10098_3da5_11eb_b51b_3065ec67c176row51_col1 {\n",
       "            background-color:  lightgreen;\n",
       "        }    #T_aeb10098_3da5_11eb_b51b_3065ec67c176row56_col1 {\n",
       "            background-color:  lightgreen;\n",
       "        }</style><table id=\"T_aeb10098_3da5_11eb_b51b_3065ec67c176\" ><thead>    <tr>        <th class=\"blank level0\" ></th>        <th class=\"col_heading level0 col0\" >Description</th>        <th class=\"col_heading level0 col1\" >Value</th>    </tr></thead><tbody>\n",
       "                <tr>\n",
       "                        <th id=\"T_aeb10098_3da5_11eb_b51b_3065ec67c176level0_row0\" class=\"row_heading level0 row0\" >0</th>\n",
       "                        <td id=\"T_aeb10098_3da5_11eb_b51b_3065ec67c176row0_col0\" class=\"data row0 col0\" >session_id</td>\n",
       "                        <td id=\"T_aeb10098_3da5_11eb_b51b_3065ec67c176row0_col1\" class=\"data row0 col1\" >123</td>\n",
       "            </tr>\n",
       "            <tr>\n",
       "                        <th id=\"T_aeb10098_3da5_11eb_b51b_3065ec67c176level0_row1\" class=\"row_heading level0 row1\" >1</th>\n",
       "                        <td id=\"T_aeb10098_3da5_11eb_b51b_3065ec67c176row1_col0\" class=\"data row1 col0\" >Target</td>\n",
       "                        <td id=\"T_aeb10098_3da5_11eb_b51b_3065ec67c176row1_col1\" class=\"data row1 col1\" >Purchase</td>\n",
       "            </tr>\n",
       "            <tr>\n",
       "                        <th id=\"T_aeb10098_3da5_11eb_b51b_3065ec67c176level0_row2\" class=\"row_heading level0 row2\" >2</th>\n",
       "                        <td id=\"T_aeb10098_3da5_11eb_b51b_3065ec67c176row2_col0\" class=\"data row2 col0\" >Target Type</td>\n",
       "                        <td id=\"T_aeb10098_3da5_11eb_b51b_3065ec67c176row2_col1\" class=\"data row2 col1\" >Binary</td>\n",
       "            </tr>\n",
       "            <tr>\n",
       "                        <th id=\"T_aeb10098_3da5_11eb_b51b_3065ec67c176level0_row3\" class=\"row_heading level0 row3\" >3</th>\n",
       "                        <td id=\"T_aeb10098_3da5_11eb_b51b_3065ec67c176row3_col0\" class=\"data row3 col0\" >Label Encoded</td>\n",
       "                        <td id=\"T_aeb10098_3da5_11eb_b51b_3065ec67c176row3_col1\" class=\"data row3 col1\" >0: 0, 1: 1</td>\n",
       "            </tr>\n",
       "            <tr>\n",
       "                        <th id=\"T_aeb10098_3da5_11eb_b51b_3065ec67c176level0_row4\" class=\"row_heading level0 row4\" >4</th>\n",
       "                        <td id=\"T_aeb10098_3da5_11eb_b51b_3065ec67c176row4_col0\" class=\"data row4 col0\" >Original Data</td>\n",
       "                        <td id=\"T_aeb10098_3da5_11eb_b51b_3065ec67c176row4_col1\" class=\"data row4 col1\" >(1070, 10)</td>\n",
       "            </tr>\n",
       "            <tr>\n",
       "                        <th id=\"T_aeb10098_3da5_11eb_b51b_3065ec67c176level0_row5\" class=\"row_heading level0 row5\" >5</th>\n",
       "                        <td id=\"T_aeb10098_3da5_11eb_b51b_3065ec67c176row5_col0\" class=\"data row5 col0\" >Missing Values</td>\n",
       "                        <td id=\"T_aeb10098_3da5_11eb_b51b_3065ec67c176row5_col1\" class=\"data row5 col1\" >False</td>\n",
       "            </tr>\n",
       "            <tr>\n",
       "                        <th id=\"T_aeb10098_3da5_11eb_b51b_3065ec67c176level0_row6\" class=\"row_heading level0 row6\" >6</th>\n",
       "                        <td id=\"T_aeb10098_3da5_11eb_b51b_3065ec67c176row6_col0\" class=\"data row6 col0\" >Numeric Features</td>\n",
       "                        <td id=\"T_aeb10098_3da5_11eb_b51b_3065ec67c176row6_col1\" class=\"data row6 col1\" >6</td>\n",
       "            </tr>\n",
       "            <tr>\n",
       "                        <th id=\"T_aeb10098_3da5_11eb_b51b_3065ec67c176level0_row7\" class=\"row_heading level0 row7\" >7</th>\n",
       "                        <td id=\"T_aeb10098_3da5_11eb_b51b_3065ec67c176row7_col0\" class=\"data row7 col0\" >Categorical Features</td>\n",
       "                        <td id=\"T_aeb10098_3da5_11eb_b51b_3065ec67c176row7_col1\" class=\"data row7 col1\" >3</td>\n",
       "            </tr>\n",
       "            <tr>\n",
       "                        <th id=\"T_aeb10098_3da5_11eb_b51b_3065ec67c176level0_row8\" class=\"row_heading level0 row8\" >8</th>\n",
       "                        <td id=\"T_aeb10098_3da5_11eb_b51b_3065ec67c176row8_col0\" class=\"data row8 col0\" >Ordinal Features</td>\n",
       "                        <td id=\"T_aeb10098_3da5_11eb_b51b_3065ec67c176row8_col1\" class=\"data row8 col1\" >False</td>\n",
       "            </tr>\n",
       "            <tr>\n",
       "                        <th id=\"T_aeb10098_3da5_11eb_b51b_3065ec67c176level0_row9\" class=\"row_heading level0 row9\" >9</th>\n",
       "                        <td id=\"T_aeb10098_3da5_11eb_b51b_3065ec67c176row9_col0\" class=\"data row9 col0\" >High Cardinality Features</td>\n",
       "                        <td id=\"T_aeb10098_3da5_11eb_b51b_3065ec67c176row9_col1\" class=\"data row9 col1\" >False</td>\n",
       "            </tr>\n",
       "            <tr>\n",
       "                        <th id=\"T_aeb10098_3da5_11eb_b51b_3065ec67c176level0_row10\" class=\"row_heading level0 row10\" >10</th>\n",
       "                        <td id=\"T_aeb10098_3da5_11eb_b51b_3065ec67c176row10_col0\" class=\"data row10 col0\" >High Cardinality Method</td>\n",
       "                        <td id=\"T_aeb10098_3da5_11eb_b51b_3065ec67c176row10_col1\" class=\"data row10 col1\" >None</td>\n",
       "            </tr>\n",
       "            <tr>\n",
       "                        <th id=\"T_aeb10098_3da5_11eb_b51b_3065ec67c176level0_row11\" class=\"row_heading level0 row11\" >11</th>\n",
       "                        <td id=\"T_aeb10098_3da5_11eb_b51b_3065ec67c176row11_col0\" class=\"data row11 col0\" >Transformed Train Set</td>\n",
       "                        <td id=\"T_aeb10098_3da5_11eb_b51b_3065ec67c176row11_col1\" class=\"data row11 col1\" >(813, 13)</td>\n",
       "            </tr>\n",
       "            <tr>\n",
       "                        <th id=\"T_aeb10098_3da5_11eb_b51b_3065ec67c176level0_row12\" class=\"row_heading level0 row12\" >12</th>\n",
       "                        <td id=\"T_aeb10098_3da5_11eb_b51b_3065ec67c176row12_col0\" class=\"data row12 col0\" >Transformed Test Set</td>\n",
       "                        <td id=\"T_aeb10098_3da5_11eb_b51b_3065ec67c176row12_col1\" class=\"data row12 col1\" >(214, 13)</td>\n",
       "            </tr>\n",
       "            <tr>\n",
       "                        <th id=\"T_aeb10098_3da5_11eb_b51b_3065ec67c176level0_row13\" class=\"row_heading level0 row13\" >13</th>\n",
       "                        <td id=\"T_aeb10098_3da5_11eb_b51b_3065ec67c176row13_col0\" class=\"data row13 col0\" >Shuffle Train-Test</td>\n",
       "                        <td id=\"T_aeb10098_3da5_11eb_b51b_3065ec67c176row13_col1\" class=\"data row13 col1\" >True</td>\n",
       "            </tr>\n",
       "            <tr>\n",
       "                        <th id=\"T_aeb10098_3da5_11eb_b51b_3065ec67c176level0_row14\" class=\"row_heading level0 row14\" >14</th>\n",
       "                        <td id=\"T_aeb10098_3da5_11eb_b51b_3065ec67c176row14_col0\" class=\"data row14 col0\" >Stratify Train-Test</td>\n",
       "                        <td id=\"T_aeb10098_3da5_11eb_b51b_3065ec67c176row14_col1\" class=\"data row14 col1\" >True</td>\n",
       "            </tr>\n",
       "            <tr>\n",
       "                        <th id=\"T_aeb10098_3da5_11eb_b51b_3065ec67c176level0_row15\" class=\"row_heading level0 row15\" >15</th>\n",
       "                        <td id=\"T_aeb10098_3da5_11eb_b51b_3065ec67c176row15_col0\" class=\"data row15 col0\" >Fold Generator</td>\n",
       "                        <td id=\"T_aeb10098_3da5_11eb_b51b_3065ec67c176row15_col1\" class=\"data row15 col1\" >StratifiedKFold</td>\n",
       "            </tr>\n",
       "            <tr>\n",
       "                        <th id=\"T_aeb10098_3da5_11eb_b51b_3065ec67c176level0_row16\" class=\"row_heading level0 row16\" >16</th>\n",
       "                        <td id=\"T_aeb10098_3da5_11eb_b51b_3065ec67c176row16_col0\" class=\"data row16 col0\" >Fold Number</td>\n",
       "                        <td id=\"T_aeb10098_3da5_11eb_b51b_3065ec67c176row16_col1\" class=\"data row16 col1\" >5</td>\n",
       "            </tr>\n",
       "            <tr>\n",
       "                        <th id=\"T_aeb10098_3da5_11eb_b51b_3065ec67c176level0_row17\" class=\"row_heading level0 row17\" >17</th>\n",
       "                        <td id=\"T_aeb10098_3da5_11eb_b51b_3065ec67c176row17_col0\" class=\"data row17 col0\" >CPU Jobs</td>\n",
       "                        <td id=\"T_aeb10098_3da5_11eb_b51b_3065ec67c176row17_col1\" class=\"data row17 col1\" >-1</td>\n",
       "            </tr>\n",
       "            <tr>\n",
       "                        <th id=\"T_aeb10098_3da5_11eb_b51b_3065ec67c176level0_row18\" class=\"row_heading level0 row18\" >18</th>\n",
       "                        <td id=\"T_aeb10098_3da5_11eb_b51b_3065ec67c176row18_col0\" class=\"data row18 col0\" >Use GPU</td>\n",
       "                        <td id=\"T_aeb10098_3da5_11eb_b51b_3065ec67c176row18_col1\" class=\"data row18 col1\" >False</td>\n",
       "            </tr>\n",
       "            <tr>\n",
       "                        <th id=\"T_aeb10098_3da5_11eb_b51b_3065ec67c176level0_row19\" class=\"row_heading level0 row19\" >19</th>\n",
       "                        <td id=\"T_aeb10098_3da5_11eb_b51b_3065ec67c176row19_col0\" class=\"data row19 col0\" >Log Experiment</td>\n",
       "                        <td id=\"T_aeb10098_3da5_11eb_b51b_3065ec67c176row19_col1\" class=\"data row19 col1\" >False</td>\n",
       "            </tr>\n",
       "            <tr>\n",
       "                        <th id=\"T_aeb10098_3da5_11eb_b51b_3065ec67c176level0_row20\" class=\"row_heading level0 row20\" >20</th>\n",
       "                        <td id=\"T_aeb10098_3da5_11eb_b51b_3065ec67c176row20_col0\" class=\"data row20 col0\" >Experiment Name</td>\n",
       "                        <td id=\"T_aeb10098_3da5_11eb_b51b_3065ec67c176row20_col1\" class=\"data row20 col1\" >OJ1</td>\n",
       "            </tr>\n",
       "            <tr>\n",
       "                        <th id=\"T_aeb10098_3da5_11eb_b51b_3065ec67c176level0_row21\" class=\"row_heading level0 row21\" >21</th>\n",
       "                        <td id=\"T_aeb10098_3da5_11eb_b51b_3065ec67c176row21_col0\" class=\"data row21 col0\" >USI</td>\n",
       "                        <td id=\"T_aeb10098_3da5_11eb_b51b_3065ec67c176row21_col1\" class=\"data row21 col1\" >bfb5</td>\n",
       "            </tr>\n",
       "            <tr>\n",
       "                        <th id=\"T_aeb10098_3da5_11eb_b51b_3065ec67c176level0_row22\" class=\"row_heading level0 row22\" >22</th>\n",
       "                        <td id=\"T_aeb10098_3da5_11eb_b51b_3065ec67c176row22_col0\" class=\"data row22 col0\" >Imputation Type</td>\n",
       "                        <td id=\"T_aeb10098_3da5_11eb_b51b_3065ec67c176row22_col1\" class=\"data row22 col1\" >simple</td>\n",
       "            </tr>\n",
       "            <tr>\n",
       "                        <th id=\"T_aeb10098_3da5_11eb_b51b_3065ec67c176level0_row23\" class=\"row_heading level0 row23\" >23</th>\n",
       "                        <td id=\"T_aeb10098_3da5_11eb_b51b_3065ec67c176row23_col0\" class=\"data row23 col0\" >Iterative Imputation Iteration</td>\n",
       "                        <td id=\"T_aeb10098_3da5_11eb_b51b_3065ec67c176row23_col1\" class=\"data row23 col1\" >None</td>\n",
       "            </tr>\n",
       "            <tr>\n",
       "                        <th id=\"T_aeb10098_3da5_11eb_b51b_3065ec67c176level0_row24\" class=\"row_heading level0 row24\" >24</th>\n",
       "                        <td id=\"T_aeb10098_3da5_11eb_b51b_3065ec67c176row24_col0\" class=\"data row24 col0\" >Numeric Imputer</td>\n",
       "                        <td id=\"T_aeb10098_3da5_11eb_b51b_3065ec67c176row24_col1\" class=\"data row24 col1\" >mean</td>\n",
       "            </tr>\n",
       "            <tr>\n",
       "                        <th id=\"T_aeb10098_3da5_11eb_b51b_3065ec67c176level0_row25\" class=\"row_heading level0 row25\" >25</th>\n",
       "                        <td id=\"T_aeb10098_3da5_11eb_b51b_3065ec67c176row25_col0\" class=\"data row25 col0\" >Iterative Imputation Numeric Model</td>\n",
       "                        <td id=\"T_aeb10098_3da5_11eb_b51b_3065ec67c176row25_col1\" class=\"data row25 col1\" >None</td>\n",
       "            </tr>\n",
       "            <tr>\n",
       "                        <th id=\"T_aeb10098_3da5_11eb_b51b_3065ec67c176level0_row26\" class=\"row_heading level0 row26\" >26</th>\n",
       "                        <td id=\"T_aeb10098_3da5_11eb_b51b_3065ec67c176row26_col0\" class=\"data row26 col0\" >Categorical Imputer</td>\n",
       "                        <td id=\"T_aeb10098_3da5_11eb_b51b_3065ec67c176row26_col1\" class=\"data row26 col1\" >constant</td>\n",
       "            </tr>\n",
       "            <tr>\n",
       "                        <th id=\"T_aeb10098_3da5_11eb_b51b_3065ec67c176level0_row27\" class=\"row_heading level0 row27\" >27</th>\n",
       "                        <td id=\"T_aeb10098_3da5_11eb_b51b_3065ec67c176row27_col0\" class=\"data row27 col0\" >Iterative Imputation Categorical Model</td>\n",
       "                        <td id=\"T_aeb10098_3da5_11eb_b51b_3065ec67c176row27_col1\" class=\"data row27 col1\" >None</td>\n",
       "            </tr>\n",
       "            <tr>\n",
       "                        <th id=\"T_aeb10098_3da5_11eb_b51b_3065ec67c176level0_row28\" class=\"row_heading level0 row28\" >28</th>\n",
       "                        <td id=\"T_aeb10098_3da5_11eb_b51b_3065ec67c176row28_col0\" class=\"data row28 col0\" >Unknown Categoricals Handling</td>\n",
       "                        <td id=\"T_aeb10098_3da5_11eb_b51b_3065ec67c176row28_col1\" class=\"data row28 col1\" >least_frequent</td>\n",
       "            </tr>\n",
       "            <tr>\n",
       "                        <th id=\"T_aeb10098_3da5_11eb_b51b_3065ec67c176level0_row29\" class=\"row_heading level0 row29\" >29</th>\n",
       "                        <td id=\"T_aeb10098_3da5_11eb_b51b_3065ec67c176row29_col0\" class=\"data row29 col0\" >Normalize</td>\n",
       "                        <td id=\"T_aeb10098_3da5_11eb_b51b_3065ec67c176row29_col1\" class=\"data row29 col1\" >True</td>\n",
       "            </tr>\n",
       "            <tr>\n",
       "                        <th id=\"T_aeb10098_3da5_11eb_b51b_3065ec67c176level0_row30\" class=\"row_heading level0 row30\" >30</th>\n",
       "                        <td id=\"T_aeb10098_3da5_11eb_b51b_3065ec67c176row30_col0\" class=\"data row30 col0\" >Normalize Method</td>\n",
       "                        <td id=\"T_aeb10098_3da5_11eb_b51b_3065ec67c176row30_col1\" class=\"data row30 col1\" >zscore</td>\n",
       "            </tr>\n",
       "            <tr>\n",
       "                        <th id=\"T_aeb10098_3da5_11eb_b51b_3065ec67c176level0_row31\" class=\"row_heading level0 row31\" >31</th>\n",
       "                        <td id=\"T_aeb10098_3da5_11eb_b51b_3065ec67c176row31_col0\" class=\"data row31 col0\" >Transformation</td>\n",
       "                        <td id=\"T_aeb10098_3da5_11eb_b51b_3065ec67c176row31_col1\" class=\"data row31 col1\" >False</td>\n",
       "            </tr>\n",
       "            <tr>\n",
       "                        <th id=\"T_aeb10098_3da5_11eb_b51b_3065ec67c176level0_row32\" class=\"row_heading level0 row32\" >32</th>\n",
       "                        <td id=\"T_aeb10098_3da5_11eb_b51b_3065ec67c176row32_col0\" class=\"data row32 col0\" >Transformation Method</td>\n",
       "                        <td id=\"T_aeb10098_3da5_11eb_b51b_3065ec67c176row32_col1\" class=\"data row32 col1\" >None</td>\n",
       "            </tr>\n",
       "            <tr>\n",
       "                        <th id=\"T_aeb10098_3da5_11eb_b51b_3065ec67c176level0_row33\" class=\"row_heading level0 row33\" >33</th>\n",
       "                        <td id=\"T_aeb10098_3da5_11eb_b51b_3065ec67c176row33_col0\" class=\"data row33 col0\" >PCA</td>\n",
       "                        <td id=\"T_aeb10098_3da5_11eb_b51b_3065ec67c176row33_col1\" class=\"data row33 col1\" >False</td>\n",
       "            </tr>\n",
       "            <tr>\n",
       "                        <th id=\"T_aeb10098_3da5_11eb_b51b_3065ec67c176level0_row34\" class=\"row_heading level0 row34\" >34</th>\n",
       "                        <td id=\"T_aeb10098_3da5_11eb_b51b_3065ec67c176row34_col0\" class=\"data row34 col0\" >PCA Method</td>\n",
       "                        <td id=\"T_aeb10098_3da5_11eb_b51b_3065ec67c176row34_col1\" class=\"data row34 col1\" >None</td>\n",
       "            </tr>\n",
       "            <tr>\n",
       "                        <th id=\"T_aeb10098_3da5_11eb_b51b_3065ec67c176level0_row35\" class=\"row_heading level0 row35\" >35</th>\n",
       "                        <td id=\"T_aeb10098_3da5_11eb_b51b_3065ec67c176row35_col0\" class=\"data row35 col0\" >PCA Components</td>\n",
       "                        <td id=\"T_aeb10098_3da5_11eb_b51b_3065ec67c176row35_col1\" class=\"data row35 col1\" >None</td>\n",
       "            </tr>\n",
       "            <tr>\n",
       "                        <th id=\"T_aeb10098_3da5_11eb_b51b_3065ec67c176level0_row36\" class=\"row_heading level0 row36\" >36</th>\n",
       "                        <td id=\"T_aeb10098_3da5_11eb_b51b_3065ec67c176row36_col0\" class=\"data row36 col0\" >Ignore Low Variance</td>\n",
       "                        <td id=\"T_aeb10098_3da5_11eb_b51b_3065ec67c176row36_col1\" class=\"data row36 col1\" >True</td>\n",
       "            </tr>\n",
       "            <tr>\n",
       "                        <th id=\"T_aeb10098_3da5_11eb_b51b_3065ec67c176level0_row37\" class=\"row_heading level0 row37\" >37</th>\n",
       "                        <td id=\"T_aeb10098_3da5_11eb_b51b_3065ec67c176row37_col0\" class=\"data row37 col0\" >Combine Rare Levels</td>\n",
       "                        <td id=\"T_aeb10098_3da5_11eb_b51b_3065ec67c176row37_col1\" class=\"data row37 col1\" >False</td>\n",
       "            </tr>\n",
       "            <tr>\n",
       "                        <th id=\"T_aeb10098_3da5_11eb_b51b_3065ec67c176level0_row38\" class=\"row_heading level0 row38\" >38</th>\n",
       "                        <td id=\"T_aeb10098_3da5_11eb_b51b_3065ec67c176row38_col0\" class=\"data row38 col0\" >Rare Level Threshold</td>\n",
       "                        <td id=\"T_aeb10098_3da5_11eb_b51b_3065ec67c176row38_col1\" class=\"data row38 col1\" >None</td>\n",
       "            </tr>\n",
       "            <tr>\n",
       "                        <th id=\"T_aeb10098_3da5_11eb_b51b_3065ec67c176level0_row39\" class=\"row_heading level0 row39\" >39</th>\n",
       "                        <td id=\"T_aeb10098_3da5_11eb_b51b_3065ec67c176row39_col0\" class=\"data row39 col0\" >Numeric Binning</td>\n",
       "                        <td id=\"T_aeb10098_3da5_11eb_b51b_3065ec67c176row39_col1\" class=\"data row39 col1\" >False</td>\n",
       "            </tr>\n",
       "            <tr>\n",
       "                        <th id=\"T_aeb10098_3da5_11eb_b51b_3065ec67c176level0_row40\" class=\"row_heading level0 row40\" >40</th>\n",
       "                        <td id=\"T_aeb10098_3da5_11eb_b51b_3065ec67c176row40_col0\" class=\"data row40 col0\" >Remove Outliers</td>\n",
       "                        <td id=\"T_aeb10098_3da5_11eb_b51b_3065ec67c176row40_col1\" class=\"data row40 col1\" >True</td>\n",
       "            </tr>\n",
       "            <tr>\n",
       "                        <th id=\"T_aeb10098_3da5_11eb_b51b_3065ec67c176level0_row41\" class=\"row_heading level0 row41\" >41</th>\n",
       "                        <td id=\"T_aeb10098_3da5_11eb_b51b_3065ec67c176row41_col0\" class=\"data row41 col0\" >Outliers Threshold</td>\n",
       "                        <td id=\"T_aeb10098_3da5_11eb_b51b_3065ec67c176row41_col1\" class=\"data row41 col1\" >0.050000</td>\n",
       "            </tr>\n",
       "            <tr>\n",
       "                        <th id=\"T_aeb10098_3da5_11eb_b51b_3065ec67c176level0_row42\" class=\"row_heading level0 row42\" >42</th>\n",
       "                        <td id=\"T_aeb10098_3da5_11eb_b51b_3065ec67c176row42_col0\" class=\"data row42 col0\" >Remove Multicollinearity</td>\n",
       "                        <td id=\"T_aeb10098_3da5_11eb_b51b_3065ec67c176row42_col1\" class=\"data row42 col1\" >True</td>\n",
       "            </tr>\n",
       "            <tr>\n",
       "                        <th id=\"T_aeb10098_3da5_11eb_b51b_3065ec67c176level0_row43\" class=\"row_heading level0 row43\" >43</th>\n",
       "                        <td id=\"T_aeb10098_3da5_11eb_b51b_3065ec67c176row43_col0\" class=\"data row43 col0\" >Multicollinearity Threshold</td>\n",
       "                        <td id=\"T_aeb10098_3da5_11eb_b51b_3065ec67c176row43_col1\" class=\"data row43 col1\" >0.950000</td>\n",
       "            </tr>\n",
       "            <tr>\n",
       "                        <th id=\"T_aeb10098_3da5_11eb_b51b_3065ec67c176level0_row44\" class=\"row_heading level0 row44\" >44</th>\n",
       "                        <td id=\"T_aeb10098_3da5_11eb_b51b_3065ec67c176row44_col0\" class=\"data row44 col0\" >Clustering</td>\n",
       "                        <td id=\"T_aeb10098_3da5_11eb_b51b_3065ec67c176row44_col1\" class=\"data row44 col1\" >False</td>\n",
       "            </tr>\n",
       "            <tr>\n",
       "                        <th id=\"T_aeb10098_3da5_11eb_b51b_3065ec67c176level0_row45\" class=\"row_heading level0 row45\" >45</th>\n",
       "                        <td id=\"T_aeb10098_3da5_11eb_b51b_3065ec67c176row45_col0\" class=\"data row45 col0\" >Clustering Iteration</td>\n",
       "                        <td id=\"T_aeb10098_3da5_11eb_b51b_3065ec67c176row45_col1\" class=\"data row45 col1\" >None</td>\n",
       "            </tr>\n",
       "            <tr>\n",
       "                        <th id=\"T_aeb10098_3da5_11eb_b51b_3065ec67c176level0_row46\" class=\"row_heading level0 row46\" >46</th>\n",
       "                        <td id=\"T_aeb10098_3da5_11eb_b51b_3065ec67c176row46_col0\" class=\"data row46 col0\" >Polynomial Features</td>\n",
       "                        <td id=\"T_aeb10098_3da5_11eb_b51b_3065ec67c176row46_col1\" class=\"data row46 col1\" >False</td>\n",
       "            </tr>\n",
       "            <tr>\n",
       "                        <th id=\"T_aeb10098_3da5_11eb_b51b_3065ec67c176level0_row47\" class=\"row_heading level0 row47\" >47</th>\n",
       "                        <td id=\"T_aeb10098_3da5_11eb_b51b_3065ec67c176row47_col0\" class=\"data row47 col0\" >Polynomial Degree</td>\n",
       "                        <td id=\"T_aeb10098_3da5_11eb_b51b_3065ec67c176row47_col1\" class=\"data row47 col1\" >None</td>\n",
       "            </tr>\n",
       "            <tr>\n",
       "                        <th id=\"T_aeb10098_3da5_11eb_b51b_3065ec67c176level0_row48\" class=\"row_heading level0 row48\" >48</th>\n",
       "                        <td id=\"T_aeb10098_3da5_11eb_b51b_3065ec67c176row48_col0\" class=\"data row48 col0\" >Trignometry Features</td>\n",
       "                        <td id=\"T_aeb10098_3da5_11eb_b51b_3065ec67c176row48_col1\" class=\"data row48 col1\" >False</td>\n",
       "            </tr>\n",
       "            <tr>\n",
       "                        <th id=\"T_aeb10098_3da5_11eb_b51b_3065ec67c176level0_row49\" class=\"row_heading level0 row49\" >49</th>\n",
       "                        <td id=\"T_aeb10098_3da5_11eb_b51b_3065ec67c176row49_col0\" class=\"data row49 col0\" >Polynomial Threshold</td>\n",
       "                        <td id=\"T_aeb10098_3da5_11eb_b51b_3065ec67c176row49_col1\" class=\"data row49 col1\" >None</td>\n",
       "            </tr>\n",
       "            <tr>\n",
       "                        <th id=\"T_aeb10098_3da5_11eb_b51b_3065ec67c176level0_row50\" class=\"row_heading level0 row50\" >50</th>\n",
       "                        <td id=\"T_aeb10098_3da5_11eb_b51b_3065ec67c176row50_col0\" class=\"data row50 col0\" >Group Features</td>\n",
       "                        <td id=\"T_aeb10098_3da5_11eb_b51b_3065ec67c176row50_col1\" class=\"data row50 col1\" >False</td>\n",
       "            </tr>\n",
       "            <tr>\n",
       "                        <th id=\"T_aeb10098_3da5_11eb_b51b_3065ec67c176level0_row51\" class=\"row_heading level0 row51\" >51</th>\n",
       "                        <td id=\"T_aeb10098_3da5_11eb_b51b_3065ec67c176row51_col0\" class=\"data row51 col0\" >Feature Selection</td>\n",
       "                        <td id=\"T_aeb10098_3da5_11eb_b51b_3065ec67c176row51_col1\" class=\"data row51 col1\" >True</td>\n",
       "            </tr>\n",
       "            <tr>\n",
       "                        <th id=\"T_aeb10098_3da5_11eb_b51b_3065ec67c176level0_row52\" class=\"row_heading level0 row52\" >52</th>\n",
       "                        <td id=\"T_aeb10098_3da5_11eb_b51b_3065ec67c176row52_col0\" class=\"data row52 col0\" >Features Selection Threshold</td>\n",
       "                        <td id=\"T_aeb10098_3da5_11eb_b51b_3065ec67c176row52_col1\" class=\"data row52 col1\" >0.900000</td>\n",
       "            </tr>\n",
       "            <tr>\n",
       "                        <th id=\"T_aeb10098_3da5_11eb_b51b_3065ec67c176level0_row53\" class=\"row_heading level0 row53\" >53</th>\n",
       "                        <td id=\"T_aeb10098_3da5_11eb_b51b_3065ec67c176row53_col0\" class=\"data row53 col0\" >Feature Interaction</td>\n",
       "                        <td id=\"T_aeb10098_3da5_11eb_b51b_3065ec67c176row53_col1\" class=\"data row53 col1\" >False</td>\n",
       "            </tr>\n",
       "            <tr>\n",
       "                        <th id=\"T_aeb10098_3da5_11eb_b51b_3065ec67c176level0_row54\" class=\"row_heading level0 row54\" >54</th>\n",
       "                        <td id=\"T_aeb10098_3da5_11eb_b51b_3065ec67c176row54_col0\" class=\"data row54 col0\" >Feature Ratio</td>\n",
       "                        <td id=\"T_aeb10098_3da5_11eb_b51b_3065ec67c176row54_col1\" class=\"data row54 col1\" >False</td>\n",
       "            </tr>\n",
       "            <tr>\n",
       "                        <th id=\"T_aeb10098_3da5_11eb_b51b_3065ec67c176level0_row55\" class=\"row_heading level0 row55\" >55</th>\n",
       "                        <td id=\"T_aeb10098_3da5_11eb_b51b_3065ec67c176row55_col0\" class=\"data row55 col0\" >Interaction Threshold</td>\n",
       "                        <td id=\"T_aeb10098_3da5_11eb_b51b_3065ec67c176row55_col1\" class=\"data row55 col1\" >None</td>\n",
       "            </tr>\n",
       "            <tr>\n",
       "                        <th id=\"T_aeb10098_3da5_11eb_b51b_3065ec67c176level0_row56\" class=\"row_heading level0 row56\" >56</th>\n",
       "                        <td id=\"T_aeb10098_3da5_11eb_b51b_3065ec67c176row56_col0\" class=\"data row56 col0\" >Fix Imbalance</td>\n",
       "                        <td id=\"T_aeb10098_3da5_11eb_b51b_3065ec67c176row56_col1\" class=\"data row56 col1\" >True</td>\n",
       "            </tr>\n",
       "            <tr>\n",
       "                        <th id=\"T_aeb10098_3da5_11eb_b51b_3065ec67c176level0_row57\" class=\"row_heading level0 row57\" >57</th>\n",
       "                        <td id=\"T_aeb10098_3da5_11eb_b51b_3065ec67c176row57_col0\" class=\"data row57 col0\" >Fix Imbalance Method</td>\n",
       "                        <td id=\"T_aeb10098_3da5_11eb_b51b_3065ec67c176row57_col1\" class=\"data row57 col1\" >SMOTE</td>\n",
       "            </tr>\n",
       "    </tbody></table>"
      ],
      "text/plain": [
       "<pandas.io.formats.style.Styler at 0x2ea7c731670>"
      ]
     },
     "metadata": {},
     "output_type": "display_data"
    }
   ],
   "source": [
    "clf1 = setup(df, target = 'Purchase', session_id=123, feature_selection = True, feature_selection_threshold = 0.9, remove_outliers = True, interaction_threshold = 0.4, ignore_low_variance = True, remove_multicollinearity = True, multicollinearity_threshold = 0.95, log_experiment=False, experiment_name='OJ1', fix_imbalance = True, data_split_shuffle = True, train_size = 0.8, data_split_stratify = True, fold=5, normalize = True)"
   ]
  },
  {
   "cell_type": "markdown",
   "metadata": {},
   "source": [
    "### Check model evaluation metrics in Pycaret"
   ]
  },
  {
   "cell_type": "code",
   "execution_count": 31,
   "metadata": {},
   "outputs": [
    {
     "data": {
      "text/html": [
       "<div>\n",
       "<style scoped>\n",
       "    .dataframe tbody tr th:only-of-type {\n",
       "        vertical-align: middle;\n",
       "    }\n",
       "\n",
       "    .dataframe tbody tr th {\n",
       "        vertical-align: top;\n",
       "    }\n",
       "\n",
       "    .dataframe thead th {\n",
       "        text-align: right;\n",
       "    }\n",
       "</style>\n",
       "<table border=\"1\" class=\"dataframe\">\n",
       "  <thead>\n",
       "    <tr style=\"text-align: right;\">\n",
       "      <th></th>\n",
       "      <th>Name</th>\n",
       "      <th>Display Name</th>\n",
       "      <th>Score Function</th>\n",
       "      <th>Scorer</th>\n",
       "      <th>Target</th>\n",
       "      <th>Args</th>\n",
       "      <th>Greater is Better</th>\n",
       "      <th>Multiclass</th>\n",
       "      <th>Custom</th>\n",
       "    </tr>\n",
       "    <tr>\n",
       "      <th>ID</th>\n",
       "      <th></th>\n",
       "      <th></th>\n",
       "      <th></th>\n",
       "      <th></th>\n",
       "      <th></th>\n",
       "      <th></th>\n",
       "      <th></th>\n",
       "      <th></th>\n",
       "      <th></th>\n",
       "    </tr>\n",
       "  </thead>\n",
       "  <tbody>\n",
       "    <tr>\n",
       "      <th>acc</th>\n",
       "      <td>Accuracy</td>\n",
       "      <td>Accuracy</td>\n",
       "      <td>&lt;function accuracy_score at 0x000002EA7774A8B0&gt;</td>\n",
       "      <td>accuracy</td>\n",
       "      <td>pred</td>\n",
       "      <td>{}</td>\n",
       "      <td>True</td>\n",
       "      <td>True</td>\n",
       "      <td>False</td>\n",
       "    </tr>\n",
       "    <tr>\n",
       "      <th>auc</th>\n",
       "      <td>AUC</td>\n",
       "      <td>AUC</td>\n",
       "      <td>&lt;function roc_auc_score at 0x000002EA77744790&gt;</td>\n",
       "      <td>make_scorer(roc_auc_score, needs_proba=True, e...</td>\n",
       "      <td>pred_proba</td>\n",
       "      <td>{'average': 'weighted', 'multi_class': 'ovr'}</td>\n",
       "      <td>True</td>\n",
       "      <td>True</td>\n",
       "      <td>False</td>\n",
       "    </tr>\n",
       "    <tr>\n",
       "      <th>recall</th>\n",
       "      <td>Recall</td>\n",
       "      <td>Recall</td>\n",
       "      <td>&lt;function binary_multiclass_score_func.&lt;locals...</td>\n",
       "      <td>make_scorer(wrapper, average=macro)</td>\n",
       "      <td>pred</td>\n",
       "      <td>{'average': 'macro'}</td>\n",
       "      <td>True</td>\n",
       "      <td>True</td>\n",
       "      <td>False</td>\n",
       "    </tr>\n",
       "    <tr>\n",
       "      <th>precision</th>\n",
       "      <td>Precision</td>\n",
       "      <td>Prec.</td>\n",
       "      <td>&lt;function binary_multiclass_score_func.&lt;locals...</td>\n",
       "      <td>make_scorer(wrapper, average=weighted)</td>\n",
       "      <td>pred</td>\n",
       "      <td>{'average': 'weighted'}</td>\n",
       "      <td>True</td>\n",
       "      <td>True</td>\n",
       "      <td>False</td>\n",
       "    </tr>\n",
       "    <tr>\n",
       "      <th>f1</th>\n",
       "      <td>F1</td>\n",
       "      <td>F1</td>\n",
       "      <td>&lt;function binary_multiclass_score_func.&lt;locals...</td>\n",
       "      <td>make_scorer(wrapper, average=weighted)</td>\n",
       "      <td>pred</td>\n",
       "      <td>{'average': 'weighted'}</td>\n",
       "      <td>True</td>\n",
       "      <td>True</td>\n",
       "      <td>False</td>\n",
       "    </tr>\n",
       "    <tr>\n",
       "      <th>kappa</th>\n",
       "      <td>Kappa</td>\n",
       "      <td>Kappa</td>\n",
       "      <td>&lt;function cohen_kappa_score at 0x000002EA7774A...</td>\n",
       "      <td>make_scorer(cohen_kappa_score)</td>\n",
       "      <td>pred</td>\n",
       "      <td>{}</td>\n",
       "      <td>True</td>\n",
       "      <td>True</td>\n",
       "      <td>False</td>\n",
       "    </tr>\n",
       "    <tr>\n",
       "      <th>mcc</th>\n",
       "      <td>MCC</td>\n",
       "      <td>MCC</td>\n",
       "      <td>&lt;function matthews_corrcoef at 0x000002EA7774A...</td>\n",
       "      <td>make_scorer(matthews_corrcoef)</td>\n",
       "      <td>pred</td>\n",
       "      <td>{}</td>\n",
       "      <td>True</td>\n",
       "      <td>True</td>\n",
       "      <td>False</td>\n",
       "    </tr>\n",
       "  </tbody>\n",
       "</table>\n",
       "</div>"
      ],
      "text/plain": [
       "                Name Display Name  \\\n",
       "ID                                  \n",
       "acc         Accuracy     Accuracy   \n",
       "auc              AUC          AUC   \n",
       "recall        Recall       Recall   \n",
       "precision  Precision        Prec.   \n",
       "f1                F1           F1   \n",
       "kappa          Kappa        Kappa   \n",
       "mcc              MCC          MCC   \n",
       "\n",
       "                                              Score Function  \\\n",
       "ID                                                             \n",
       "acc          <function accuracy_score at 0x000002EA7774A8B0>   \n",
       "auc           <function roc_auc_score at 0x000002EA77744790>   \n",
       "recall     <function binary_multiclass_score_func.<locals...   \n",
       "precision  <function binary_multiclass_score_func.<locals...   \n",
       "f1         <function binary_multiclass_score_func.<locals...   \n",
       "kappa      <function cohen_kappa_score at 0x000002EA7774A...   \n",
       "mcc        <function matthews_corrcoef at 0x000002EA7774A...   \n",
       "\n",
       "                                                      Scorer      Target  \\\n",
       "ID                                                                         \n",
       "acc                                                 accuracy        pred   \n",
       "auc        make_scorer(roc_auc_score, needs_proba=True, e...  pred_proba   \n",
       "recall                   make_scorer(wrapper, average=macro)        pred   \n",
       "precision             make_scorer(wrapper, average=weighted)        pred   \n",
       "f1                    make_scorer(wrapper, average=weighted)        pred   \n",
       "kappa                         make_scorer(cohen_kappa_score)        pred   \n",
       "mcc                           make_scorer(matthews_corrcoef)        pred   \n",
       "\n",
       "                                                    Args  Greater is Better  \\\n",
       "ID                                                                            \n",
       "acc                                                   {}               True   \n",
       "auc        {'average': 'weighted', 'multi_class': 'ovr'}               True   \n",
       "recall                              {'average': 'macro'}               True   \n",
       "precision                        {'average': 'weighted'}               True   \n",
       "f1                               {'average': 'weighted'}               True   \n",
       "kappa                                                 {}               True   \n",
       "mcc                                                   {}               True   \n",
       "\n",
       "           Multiclass  Custom  \n",
       "ID                             \n",
       "acc              True   False  \n",
       "auc              True   False  \n",
       "recall           True   False  \n",
       "precision        True   False  \n",
       "f1               True   False  \n",
       "kappa            True   False  \n",
       "mcc              True   False  "
      ]
     },
     "execution_count": 31,
     "metadata": {},
     "output_type": "execute_result"
    }
   ],
   "source": [
    "all_metrics = get_metrics()  \n",
    "all_metrics"
   ]
  },
  {
   "cell_type": "markdown",
   "metadata": {},
   "source": [
    "### Add 2 model evaluation metrics - F1 Macro and Precision Macro\n",
    "- Recall score is averaged by macro already"
   ]
  },
  {
   "cell_type": "code",
   "execution_count": 32,
   "metadata": {},
   "outputs": [
    {
     "data": {
      "text/plain": [
       "Name                                                    F1 Mac\n",
       "Display Name                                            F1 Mac\n",
       "Score Function       <function f1_score at 0x000002EA777680D0>\n",
       "Scorer                    make_scorer(f1_score, average=macro)\n",
       "Target                                                    pred\n",
       "Args                                      {'average': 'macro'}\n",
       "Greater is Better                                         True\n",
       "Multiclass                                               False\n",
       "Custom                                                    True\n",
       "Name: F1_macro, dtype: object"
      ]
     },
     "execution_count": 32,
     "metadata": {},
     "output_type": "execute_result"
    }
   ],
   "source": [
    "from sklearn.metrics import f1_score\n",
    "add_metric('F1_macro', 'F1 Mac', f1_score, greater_is_better = True, multiclass=False, average = 'macro')"
   ]
  },
  {
   "cell_type": "code",
   "execution_count": 33,
   "metadata": {},
   "outputs": [
    {
     "data": {
      "text/plain": [
       "Name                                                        Prec. Mac\n",
       "Display Name                                                Prec. Mac\n",
       "Score Function       <function precision_score at 0x000002EA777685E0>\n",
       "Scorer                    make_scorer(precision_score, average=macro)\n",
       "Target                                                           pred\n",
       "Args                                             {'average': 'macro'}\n",
       "Greater is Better                                                True\n",
       "Multiclass                                                      False\n",
       "Custom                                                           True\n",
       "Name: Precision_macro, dtype: object"
      ]
     },
     "execution_count": 33,
     "metadata": {},
     "output_type": "execute_result"
    }
   ],
   "source": [
    "from sklearn.metrics import precision_score\n",
    "\n",
    "add_metric('Precision_macro', 'Prec. Mac', precision_score, greater_is_better = True, multiclass=False, average = 'macro')"
   ]
  },
  {
   "cell_type": "markdown",
   "metadata": {},
   "source": [
    "### Compare top 5 models, out of 15 best performing models\n",
    "- Selected Logistic Regression, Gradient Boosting Classifier and CatBoost Classifier"
   ]
  },
  {
   "cell_type": "code",
   "execution_count": 34,
   "metadata": {},
   "outputs": [
    {
     "data": {
      "text/html": [
       "<style  type=\"text/css\" >\n",
       "    #T_cda2c20a_3da5_11eb_a317_3065ec67c176 th {\n",
       "          text-align: left;\n",
       "    }    #T_cda2c20a_3da5_11eb_a317_3065ec67c176row0_col0 {\n",
       "            text-align:  left;\n",
       "            text-align:  left;\n",
       "        }    #T_cda2c20a_3da5_11eb_a317_3065ec67c176row0_col1 {\n",
       "            text-align:  left;\n",
       "            text-align:  left;\n",
       "            background-color:  yellow;\n",
       "        }    #T_cda2c20a_3da5_11eb_a317_3065ec67c176row0_col2 {\n",
       "            text-align:  left;\n",
       "            text-align:  left;\n",
       "            : ;\n",
       "        }    #T_cda2c20a_3da5_11eb_a317_3065ec67c176row0_col3 {\n",
       "            text-align:  left;\n",
       "            text-align:  left;\n",
       "            : ;\n",
       "        }    #T_cda2c20a_3da5_11eb_a317_3065ec67c176row0_col4 {\n",
       "            text-align:  left;\n",
       "            text-align:  left;\n",
       "            : ;\n",
       "        }    #T_cda2c20a_3da5_11eb_a317_3065ec67c176row0_col5 {\n",
       "            text-align:  left;\n",
       "            text-align:  left;\n",
       "            background-color:  yellow;\n",
       "        }    #T_cda2c20a_3da5_11eb_a317_3065ec67c176row0_col6 {\n",
       "            text-align:  left;\n",
       "            text-align:  left;\n",
       "            background-color:  yellow;\n",
       "        }    #T_cda2c20a_3da5_11eb_a317_3065ec67c176row0_col7 {\n",
       "            text-align:  left;\n",
       "            text-align:  left;\n",
       "            background-color:  yellow;\n",
       "        }    #T_cda2c20a_3da5_11eb_a317_3065ec67c176row0_col8 {\n",
       "            text-align:  left;\n",
       "            text-align:  left;\n",
       "            background-color:  yellow;\n",
       "        }    #T_cda2c20a_3da5_11eb_a317_3065ec67c176row0_col9 {\n",
       "            text-align:  left;\n",
       "            text-align:  left;\n",
       "            background-color:  yellow;\n",
       "        }    #T_cda2c20a_3da5_11eb_a317_3065ec67c176row0_col10 {\n",
       "            text-align:  left;\n",
       "            text-align:  left;\n",
       "            : ;\n",
       "            background-color:  lightgrey;\n",
       "        }    #T_cda2c20a_3da5_11eb_a317_3065ec67c176row1_col0 {\n",
       "            text-align:  left;\n",
       "            text-align:  left;\n",
       "        }    #T_cda2c20a_3da5_11eb_a317_3065ec67c176row1_col1 {\n",
       "            text-align:  left;\n",
       "            text-align:  left;\n",
       "            : ;\n",
       "        }    #T_cda2c20a_3da5_11eb_a317_3065ec67c176row1_col2 {\n",
       "            text-align:  left;\n",
       "            text-align:  left;\n",
       "            : ;\n",
       "        }    #T_cda2c20a_3da5_11eb_a317_3065ec67c176row1_col3 {\n",
       "            text-align:  left;\n",
       "            text-align:  left;\n",
       "            : ;\n",
       "        }    #T_cda2c20a_3da5_11eb_a317_3065ec67c176row1_col4 {\n",
       "            text-align:  left;\n",
       "            text-align:  left;\n",
       "            : ;\n",
       "        }    #T_cda2c20a_3da5_11eb_a317_3065ec67c176row1_col5 {\n",
       "            text-align:  left;\n",
       "            text-align:  left;\n",
       "            : ;\n",
       "        }    #T_cda2c20a_3da5_11eb_a317_3065ec67c176row1_col6 {\n",
       "            text-align:  left;\n",
       "            text-align:  left;\n",
       "            : ;\n",
       "        }    #T_cda2c20a_3da5_11eb_a317_3065ec67c176row1_col7 {\n",
       "            text-align:  left;\n",
       "            text-align:  left;\n",
       "            : ;\n",
       "        }    #T_cda2c20a_3da5_11eb_a317_3065ec67c176row1_col8 {\n",
       "            text-align:  left;\n",
       "            text-align:  left;\n",
       "            : ;\n",
       "        }    #T_cda2c20a_3da5_11eb_a317_3065ec67c176row1_col9 {\n",
       "            text-align:  left;\n",
       "            text-align:  left;\n",
       "            : ;\n",
       "        }    #T_cda2c20a_3da5_11eb_a317_3065ec67c176row1_col10 {\n",
       "            text-align:  left;\n",
       "            text-align:  left;\n",
       "            : ;\n",
       "            background-color:  lightgrey;\n",
       "        }    #T_cda2c20a_3da5_11eb_a317_3065ec67c176row2_col0 {\n",
       "            text-align:  left;\n",
       "            text-align:  left;\n",
       "        }    #T_cda2c20a_3da5_11eb_a317_3065ec67c176row2_col1 {\n",
       "            text-align:  left;\n",
       "            text-align:  left;\n",
       "            : ;\n",
       "        }    #T_cda2c20a_3da5_11eb_a317_3065ec67c176row2_col2 {\n",
       "            text-align:  left;\n",
       "            text-align:  left;\n",
       "            : ;\n",
       "        }    #T_cda2c20a_3da5_11eb_a317_3065ec67c176row2_col3 {\n",
       "            text-align:  left;\n",
       "            text-align:  left;\n",
       "            : ;\n",
       "        }    #T_cda2c20a_3da5_11eb_a317_3065ec67c176row2_col4 {\n",
       "            text-align:  left;\n",
       "            text-align:  left;\n",
       "            background-color:  yellow;\n",
       "        }    #T_cda2c20a_3da5_11eb_a317_3065ec67c176row2_col5 {\n",
       "            text-align:  left;\n",
       "            text-align:  left;\n",
       "            : ;\n",
       "        }    #T_cda2c20a_3da5_11eb_a317_3065ec67c176row2_col6 {\n",
       "            text-align:  left;\n",
       "            text-align:  left;\n",
       "            : ;\n",
       "        }    #T_cda2c20a_3da5_11eb_a317_3065ec67c176row2_col7 {\n",
       "            text-align:  left;\n",
       "            text-align:  left;\n",
       "            : ;\n",
       "        }    #T_cda2c20a_3da5_11eb_a317_3065ec67c176row2_col8 {\n",
       "            text-align:  left;\n",
       "            text-align:  left;\n",
       "            : ;\n",
       "        }    #T_cda2c20a_3da5_11eb_a317_3065ec67c176row2_col9 {\n",
       "            text-align:  left;\n",
       "            text-align:  left;\n",
       "            : ;\n",
       "        }    #T_cda2c20a_3da5_11eb_a317_3065ec67c176row2_col10 {\n",
       "            text-align:  left;\n",
       "            text-align:  left;\n",
       "            : ;\n",
       "            background-color:  lightgrey;\n",
       "        }    #T_cda2c20a_3da5_11eb_a317_3065ec67c176row3_col0 {\n",
       "            text-align:  left;\n",
       "            text-align:  left;\n",
       "        }    #T_cda2c20a_3da5_11eb_a317_3065ec67c176row3_col1 {\n",
       "            text-align:  left;\n",
       "            text-align:  left;\n",
       "            : ;\n",
       "        }    #T_cda2c20a_3da5_11eb_a317_3065ec67c176row3_col2 {\n",
       "            text-align:  left;\n",
       "            text-align:  left;\n",
       "            background-color:  yellow;\n",
       "        }    #T_cda2c20a_3da5_11eb_a317_3065ec67c176row3_col3 {\n",
       "            text-align:  left;\n",
       "            text-align:  left;\n",
       "            : ;\n",
       "        }    #T_cda2c20a_3da5_11eb_a317_3065ec67c176row3_col4 {\n",
       "            text-align:  left;\n",
       "            text-align:  left;\n",
       "            background-color:  yellow;\n",
       "        }    #T_cda2c20a_3da5_11eb_a317_3065ec67c176row3_col5 {\n",
       "            text-align:  left;\n",
       "            text-align:  left;\n",
       "            : ;\n",
       "        }    #T_cda2c20a_3da5_11eb_a317_3065ec67c176row3_col6 {\n",
       "            text-align:  left;\n",
       "            text-align:  left;\n",
       "            : ;\n",
       "        }    #T_cda2c20a_3da5_11eb_a317_3065ec67c176row3_col7 {\n",
       "            text-align:  left;\n",
       "            text-align:  left;\n",
       "            : ;\n",
       "        }    #T_cda2c20a_3da5_11eb_a317_3065ec67c176row3_col8 {\n",
       "            text-align:  left;\n",
       "            text-align:  left;\n",
       "            : ;\n",
       "        }    #T_cda2c20a_3da5_11eb_a317_3065ec67c176row3_col9 {\n",
       "            text-align:  left;\n",
       "            text-align:  left;\n",
       "            : ;\n",
       "        }    #T_cda2c20a_3da5_11eb_a317_3065ec67c176row3_col10 {\n",
       "            text-align:  left;\n",
       "            text-align:  left;\n",
       "            : ;\n",
       "            background-color:  lightgrey;\n",
       "        }    #T_cda2c20a_3da5_11eb_a317_3065ec67c176row4_col0 {\n",
       "            text-align:  left;\n",
       "            text-align:  left;\n",
       "        }    #T_cda2c20a_3da5_11eb_a317_3065ec67c176row4_col1 {\n",
       "            text-align:  left;\n",
       "            text-align:  left;\n",
       "            : ;\n",
       "        }    #T_cda2c20a_3da5_11eb_a317_3065ec67c176row4_col2 {\n",
       "            text-align:  left;\n",
       "            text-align:  left;\n",
       "            : ;\n",
       "        }    #T_cda2c20a_3da5_11eb_a317_3065ec67c176row4_col3 {\n",
       "            text-align:  left;\n",
       "            text-align:  left;\n",
       "            : ;\n",
       "        }    #T_cda2c20a_3da5_11eb_a317_3065ec67c176row4_col4 {\n",
       "            text-align:  left;\n",
       "            text-align:  left;\n",
       "            : ;\n",
       "        }    #T_cda2c20a_3da5_11eb_a317_3065ec67c176row4_col5 {\n",
       "            text-align:  left;\n",
       "            text-align:  left;\n",
       "            : ;\n",
       "        }    #T_cda2c20a_3da5_11eb_a317_3065ec67c176row4_col6 {\n",
       "            text-align:  left;\n",
       "            text-align:  left;\n",
       "            : ;\n",
       "        }    #T_cda2c20a_3da5_11eb_a317_3065ec67c176row4_col7 {\n",
       "            text-align:  left;\n",
       "            text-align:  left;\n",
       "            : ;\n",
       "        }    #T_cda2c20a_3da5_11eb_a317_3065ec67c176row4_col8 {\n",
       "            text-align:  left;\n",
       "            text-align:  left;\n",
       "            : ;\n",
       "        }    #T_cda2c20a_3da5_11eb_a317_3065ec67c176row4_col9 {\n",
       "            text-align:  left;\n",
       "            text-align:  left;\n",
       "            : ;\n",
       "        }    #T_cda2c20a_3da5_11eb_a317_3065ec67c176row4_col10 {\n",
       "            text-align:  left;\n",
       "            text-align:  left;\n",
       "            : ;\n",
       "            background-color:  lightgrey;\n",
       "        }    #T_cda2c20a_3da5_11eb_a317_3065ec67c176row5_col0 {\n",
       "            text-align:  left;\n",
       "            text-align:  left;\n",
       "        }    #T_cda2c20a_3da5_11eb_a317_3065ec67c176row5_col1 {\n",
       "            text-align:  left;\n",
       "            text-align:  left;\n",
       "            : ;\n",
       "        }    #T_cda2c20a_3da5_11eb_a317_3065ec67c176row5_col2 {\n",
       "            text-align:  left;\n",
       "            text-align:  left;\n",
       "            : ;\n",
       "        }    #T_cda2c20a_3da5_11eb_a317_3065ec67c176row5_col3 {\n",
       "            text-align:  left;\n",
       "            text-align:  left;\n",
       "            background-color:  yellow;\n",
       "        }    #T_cda2c20a_3da5_11eb_a317_3065ec67c176row5_col4 {\n",
       "            text-align:  left;\n",
       "            text-align:  left;\n",
       "            : ;\n",
       "        }    #T_cda2c20a_3da5_11eb_a317_3065ec67c176row5_col5 {\n",
       "            text-align:  left;\n",
       "            text-align:  left;\n",
       "            : ;\n",
       "        }    #T_cda2c20a_3da5_11eb_a317_3065ec67c176row5_col6 {\n",
       "            text-align:  left;\n",
       "            text-align:  left;\n",
       "            : ;\n",
       "        }    #T_cda2c20a_3da5_11eb_a317_3065ec67c176row5_col7 {\n",
       "            text-align:  left;\n",
       "            text-align:  left;\n",
       "            : ;\n",
       "        }    #T_cda2c20a_3da5_11eb_a317_3065ec67c176row5_col8 {\n",
       "            text-align:  left;\n",
       "            text-align:  left;\n",
       "            : ;\n",
       "        }    #T_cda2c20a_3da5_11eb_a317_3065ec67c176row5_col9 {\n",
       "            text-align:  left;\n",
       "            text-align:  left;\n",
       "            : ;\n",
       "        }    #T_cda2c20a_3da5_11eb_a317_3065ec67c176row5_col10 {\n",
       "            text-align:  left;\n",
       "            text-align:  left;\n",
       "            : ;\n",
       "            background-color:  lightgrey;\n",
       "        }    #T_cda2c20a_3da5_11eb_a317_3065ec67c176row6_col0 {\n",
       "            text-align:  left;\n",
       "            text-align:  left;\n",
       "        }    #T_cda2c20a_3da5_11eb_a317_3065ec67c176row6_col1 {\n",
       "            text-align:  left;\n",
       "            text-align:  left;\n",
       "            : ;\n",
       "        }    #T_cda2c20a_3da5_11eb_a317_3065ec67c176row6_col2 {\n",
       "            text-align:  left;\n",
       "            text-align:  left;\n",
       "            : ;\n",
       "        }    #T_cda2c20a_3da5_11eb_a317_3065ec67c176row6_col3 {\n",
       "            text-align:  left;\n",
       "            text-align:  left;\n",
       "            : ;\n",
       "        }    #T_cda2c20a_3da5_11eb_a317_3065ec67c176row6_col4 {\n",
       "            text-align:  left;\n",
       "            text-align:  left;\n",
       "            : ;\n",
       "        }    #T_cda2c20a_3da5_11eb_a317_3065ec67c176row6_col5 {\n",
       "            text-align:  left;\n",
       "            text-align:  left;\n",
       "            : ;\n",
       "        }    #T_cda2c20a_3da5_11eb_a317_3065ec67c176row6_col6 {\n",
       "            text-align:  left;\n",
       "            text-align:  left;\n",
       "            : ;\n",
       "        }    #T_cda2c20a_3da5_11eb_a317_3065ec67c176row6_col7 {\n",
       "            text-align:  left;\n",
       "            text-align:  left;\n",
       "            : ;\n",
       "        }    #T_cda2c20a_3da5_11eb_a317_3065ec67c176row6_col8 {\n",
       "            text-align:  left;\n",
       "            text-align:  left;\n",
       "            : ;\n",
       "        }    #T_cda2c20a_3da5_11eb_a317_3065ec67c176row6_col9 {\n",
       "            text-align:  left;\n",
       "            text-align:  left;\n",
       "            : ;\n",
       "        }    #T_cda2c20a_3da5_11eb_a317_3065ec67c176row6_col10 {\n",
       "            text-align:  left;\n",
       "            text-align:  left;\n",
       "            : ;\n",
       "            background-color:  lightgrey;\n",
       "        }    #T_cda2c20a_3da5_11eb_a317_3065ec67c176row7_col0 {\n",
       "            text-align:  left;\n",
       "            text-align:  left;\n",
       "        }    #T_cda2c20a_3da5_11eb_a317_3065ec67c176row7_col1 {\n",
       "            text-align:  left;\n",
       "            text-align:  left;\n",
       "            : ;\n",
       "        }    #T_cda2c20a_3da5_11eb_a317_3065ec67c176row7_col2 {\n",
       "            text-align:  left;\n",
       "            text-align:  left;\n",
       "            : ;\n",
       "        }    #T_cda2c20a_3da5_11eb_a317_3065ec67c176row7_col3 {\n",
       "            text-align:  left;\n",
       "            text-align:  left;\n",
       "            : ;\n",
       "        }    #T_cda2c20a_3da5_11eb_a317_3065ec67c176row7_col4 {\n",
       "            text-align:  left;\n",
       "            text-align:  left;\n",
       "            : ;\n",
       "        }    #T_cda2c20a_3da5_11eb_a317_3065ec67c176row7_col5 {\n",
       "            text-align:  left;\n",
       "            text-align:  left;\n",
       "            : ;\n",
       "        }    #T_cda2c20a_3da5_11eb_a317_3065ec67c176row7_col6 {\n",
       "            text-align:  left;\n",
       "            text-align:  left;\n",
       "            : ;\n",
       "        }    #T_cda2c20a_3da5_11eb_a317_3065ec67c176row7_col7 {\n",
       "            text-align:  left;\n",
       "            text-align:  left;\n",
       "            : ;\n",
       "        }    #T_cda2c20a_3da5_11eb_a317_3065ec67c176row7_col8 {\n",
       "            text-align:  left;\n",
       "            text-align:  left;\n",
       "            : ;\n",
       "        }    #T_cda2c20a_3da5_11eb_a317_3065ec67c176row7_col9 {\n",
       "            text-align:  left;\n",
       "            text-align:  left;\n",
       "            : ;\n",
       "        }    #T_cda2c20a_3da5_11eb_a317_3065ec67c176row7_col10 {\n",
       "            text-align:  left;\n",
       "            text-align:  left;\n",
       "            : ;\n",
       "            background-color:  lightgrey;\n",
       "        }    #T_cda2c20a_3da5_11eb_a317_3065ec67c176row8_col0 {\n",
       "            text-align:  left;\n",
       "            text-align:  left;\n",
       "        }    #T_cda2c20a_3da5_11eb_a317_3065ec67c176row8_col1 {\n",
       "            text-align:  left;\n",
       "            text-align:  left;\n",
       "            : ;\n",
       "        }    #T_cda2c20a_3da5_11eb_a317_3065ec67c176row8_col2 {\n",
       "            text-align:  left;\n",
       "            text-align:  left;\n",
       "            : ;\n",
       "        }    #T_cda2c20a_3da5_11eb_a317_3065ec67c176row8_col3 {\n",
       "            text-align:  left;\n",
       "            text-align:  left;\n",
       "            : ;\n",
       "        }    #T_cda2c20a_3da5_11eb_a317_3065ec67c176row8_col4 {\n",
       "            text-align:  left;\n",
       "            text-align:  left;\n",
       "            : ;\n",
       "        }    #T_cda2c20a_3da5_11eb_a317_3065ec67c176row8_col5 {\n",
       "            text-align:  left;\n",
       "            text-align:  left;\n",
       "            : ;\n",
       "        }    #T_cda2c20a_3da5_11eb_a317_3065ec67c176row8_col6 {\n",
       "            text-align:  left;\n",
       "            text-align:  left;\n",
       "            : ;\n",
       "        }    #T_cda2c20a_3da5_11eb_a317_3065ec67c176row8_col7 {\n",
       "            text-align:  left;\n",
       "            text-align:  left;\n",
       "            : ;\n",
       "        }    #T_cda2c20a_3da5_11eb_a317_3065ec67c176row8_col8 {\n",
       "            text-align:  left;\n",
       "            text-align:  left;\n",
       "            : ;\n",
       "        }    #T_cda2c20a_3da5_11eb_a317_3065ec67c176row8_col9 {\n",
       "            text-align:  left;\n",
       "            text-align:  left;\n",
       "            : ;\n",
       "        }    #T_cda2c20a_3da5_11eb_a317_3065ec67c176row8_col10 {\n",
       "            text-align:  left;\n",
       "            text-align:  left;\n",
       "            : ;\n",
       "            background-color:  lightgrey;\n",
       "        }    #T_cda2c20a_3da5_11eb_a317_3065ec67c176row9_col0 {\n",
       "            text-align:  left;\n",
       "            text-align:  left;\n",
       "        }    #T_cda2c20a_3da5_11eb_a317_3065ec67c176row9_col1 {\n",
       "            text-align:  left;\n",
       "            text-align:  left;\n",
       "            : ;\n",
       "        }    #T_cda2c20a_3da5_11eb_a317_3065ec67c176row9_col2 {\n",
       "            text-align:  left;\n",
       "            text-align:  left;\n",
       "            : ;\n",
       "        }    #T_cda2c20a_3da5_11eb_a317_3065ec67c176row9_col3 {\n",
       "            text-align:  left;\n",
       "            text-align:  left;\n",
       "            : ;\n",
       "        }    #T_cda2c20a_3da5_11eb_a317_3065ec67c176row9_col4 {\n",
       "            text-align:  left;\n",
       "            text-align:  left;\n",
       "            : ;\n",
       "        }    #T_cda2c20a_3da5_11eb_a317_3065ec67c176row9_col5 {\n",
       "            text-align:  left;\n",
       "            text-align:  left;\n",
       "            : ;\n",
       "        }    #T_cda2c20a_3da5_11eb_a317_3065ec67c176row9_col6 {\n",
       "            text-align:  left;\n",
       "            text-align:  left;\n",
       "            : ;\n",
       "        }    #T_cda2c20a_3da5_11eb_a317_3065ec67c176row9_col7 {\n",
       "            text-align:  left;\n",
       "            text-align:  left;\n",
       "            : ;\n",
       "        }    #T_cda2c20a_3da5_11eb_a317_3065ec67c176row9_col8 {\n",
       "            text-align:  left;\n",
       "            text-align:  left;\n",
       "            : ;\n",
       "        }    #T_cda2c20a_3da5_11eb_a317_3065ec67c176row9_col9 {\n",
       "            text-align:  left;\n",
       "            text-align:  left;\n",
       "            : ;\n",
       "        }    #T_cda2c20a_3da5_11eb_a317_3065ec67c176row9_col10 {\n",
       "            text-align:  left;\n",
       "            text-align:  left;\n",
       "            : ;\n",
       "            background-color:  lightgrey;\n",
       "        }    #T_cda2c20a_3da5_11eb_a317_3065ec67c176row10_col0 {\n",
       "            text-align:  left;\n",
       "            text-align:  left;\n",
       "        }    #T_cda2c20a_3da5_11eb_a317_3065ec67c176row10_col1 {\n",
       "            text-align:  left;\n",
       "            text-align:  left;\n",
       "            : ;\n",
       "        }    #T_cda2c20a_3da5_11eb_a317_3065ec67c176row10_col2 {\n",
       "            text-align:  left;\n",
       "            text-align:  left;\n",
       "            : ;\n",
       "        }    #T_cda2c20a_3da5_11eb_a317_3065ec67c176row10_col3 {\n",
       "            text-align:  left;\n",
       "            text-align:  left;\n",
       "            : ;\n",
       "        }    #T_cda2c20a_3da5_11eb_a317_3065ec67c176row10_col4 {\n",
       "            text-align:  left;\n",
       "            text-align:  left;\n",
       "            : ;\n",
       "        }    #T_cda2c20a_3da5_11eb_a317_3065ec67c176row10_col5 {\n",
       "            text-align:  left;\n",
       "            text-align:  left;\n",
       "            : ;\n",
       "        }    #T_cda2c20a_3da5_11eb_a317_3065ec67c176row10_col6 {\n",
       "            text-align:  left;\n",
       "            text-align:  left;\n",
       "            : ;\n",
       "        }    #T_cda2c20a_3da5_11eb_a317_3065ec67c176row10_col7 {\n",
       "            text-align:  left;\n",
       "            text-align:  left;\n",
       "            : ;\n",
       "        }    #T_cda2c20a_3da5_11eb_a317_3065ec67c176row10_col8 {\n",
       "            text-align:  left;\n",
       "            text-align:  left;\n",
       "            : ;\n",
       "        }    #T_cda2c20a_3da5_11eb_a317_3065ec67c176row10_col9 {\n",
       "            text-align:  left;\n",
       "            text-align:  left;\n",
       "            : ;\n",
       "        }    #T_cda2c20a_3da5_11eb_a317_3065ec67c176row10_col10 {\n",
       "            text-align:  left;\n",
       "            text-align:  left;\n",
       "            : ;\n",
       "            background-color:  lightgrey;\n",
       "        }    #T_cda2c20a_3da5_11eb_a317_3065ec67c176row11_col0 {\n",
       "            text-align:  left;\n",
       "            text-align:  left;\n",
       "        }    #T_cda2c20a_3da5_11eb_a317_3065ec67c176row11_col1 {\n",
       "            text-align:  left;\n",
       "            text-align:  left;\n",
       "            : ;\n",
       "        }    #T_cda2c20a_3da5_11eb_a317_3065ec67c176row11_col2 {\n",
       "            text-align:  left;\n",
       "            text-align:  left;\n",
       "            : ;\n",
       "        }    #T_cda2c20a_3da5_11eb_a317_3065ec67c176row11_col3 {\n",
       "            text-align:  left;\n",
       "            text-align:  left;\n",
       "            : ;\n",
       "        }    #T_cda2c20a_3da5_11eb_a317_3065ec67c176row11_col4 {\n",
       "            text-align:  left;\n",
       "            text-align:  left;\n",
       "            : ;\n",
       "        }    #T_cda2c20a_3da5_11eb_a317_3065ec67c176row11_col5 {\n",
       "            text-align:  left;\n",
       "            text-align:  left;\n",
       "            : ;\n",
       "        }    #T_cda2c20a_3da5_11eb_a317_3065ec67c176row11_col6 {\n",
       "            text-align:  left;\n",
       "            text-align:  left;\n",
       "            : ;\n",
       "        }    #T_cda2c20a_3da5_11eb_a317_3065ec67c176row11_col7 {\n",
       "            text-align:  left;\n",
       "            text-align:  left;\n",
       "            : ;\n",
       "        }    #T_cda2c20a_3da5_11eb_a317_3065ec67c176row11_col8 {\n",
       "            text-align:  left;\n",
       "            text-align:  left;\n",
       "            : ;\n",
       "        }    #T_cda2c20a_3da5_11eb_a317_3065ec67c176row11_col9 {\n",
       "            text-align:  left;\n",
       "            text-align:  left;\n",
       "            : ;\n",
       "        }    #T_cda2c20a_3da5_11eb_a317_3065ec67c176row11_col10 {\n",
       "            text-align:  left;\n",
       "            text-align:  left;\n",
       "            : ;\n",
       "            background-color:  lightgrey;\n",
       "        }    #T_cda2c20a_3da5_11eb_a317_3065ec67c176row12_col0 {\n",
       "            text-align:  left;\n",
       "            text-align:  left;\n",
       "        }    #T_cda2c20a_3da5_11eb_a317_3065ec67c176row12_col1 {\n",
       "            text-align:  left;\n",
       "            text-align:  left;\n",
       "            : ;\n",
       "        }    #T_cda2c20a_3da5_11eb_a317_3065ec67c176row12_col2 {\n",
       "            text-align:  left;\n",
       "            text-align:  left;\n",
       "            : ;\n",
       "        }    #T_cda2c20a_3da5_11eb_a317_3065ec67c176row12_col3 {\n",
       "            text-align:  left;\n",
       "            text-align:  left;\n",
       "            : ;\n",
       "        }    #T_cda2c20a_3da5_11eb_a317_3065ec67c176row12_col4 {\n",
       "            text-align:  left;\n",
       "            text-align:  left;\n",
       "            : ;\n",
       "        }    #T_cda2c20a_3da5_11eb_a317_3065ec67c176row12_col5 {\n",
       "            text-align:  left;\n",
       "            text-align:  left;\n",
       "            : ;\n",
       "        }    #T_cda2c20a_3da5_11eb_a317_3065ec67c176row12_col6 {\n",
       "            text-align:  left;\n",
       "            text-align:  left;\n",
       "            : ;\n",
       "        }    #T_cda2c20a_3da5_11eb_a317_3065ec67c176row12_col7 {\n",
       "            text-align:  left;\n",
       "            text-align:  left;\n",
       "            : ;\n",
       "        }    #T_cda2c20a_3da5_11eb_a317_3065ec67c176row12_col8 {\n",
       "            text-align:  left;\n",
       "            text-align:  left;\n",
       "            : ;\n",
       "        }    #T_cda2c20a_3da5_11eb_a317_3065ec67c176row12_col9 {\n",
       "            text-align:  left;\n",
       "            text-align:  left;\n",
       "            : ;\n",
       "        }    #T_cda2c20a_3da5_11eb_a317_3065ec67c176row12_col10 {\n",
       "            text-align:  left;\n",
       "            text-align:  left;\n",
       "            : ;\n",
       "            background-color:  lightgrey;\n",
       "        }    #T_cda2c20a_3da5_11eb_a317_3065ec67c176row13_col0 {\n",
       "            text-align:  left;\n",
       "            text-align:  left;\n",
       "        }    #T_cda2c20a_3da5_11eb_a317_3065ec67c176row13_col1 {\n",
       "            text-align:  left;\n",
       "            text-align:  left;\n",
       "            : ;\n",
       "        }    #T_cda2c20a_3da5_11eb_a317_3065ec67c176row13_col2 {\n",
       "            text-align:  left;\n",
       "            text-align:  left;\n",
       "            : ;\n",
       "        }    #T_cda2c20a_3da5_11eb_a317_3065ec67c176row13_col3 {\n",
       "            text-align:  left;\n",
       "            text-align:  left;\n",
       "            : ;\n",
       "        }    #T_cda2c20a_3da5_11eb_a317_3065ec67c176row13_col4 {\n",
       "            text-align:  left;\n",
       "            text-align:  left;\n",
       "            : ;\n",
       "        }    #T_cda2c20a_3da5_11eb_a317_3065ec67c176row13_col5 {\n",
       "            text-align:  left;\n",
       "            text-align:  left;\n",
       "            : ;\n",
       "        }    #T_cda2c20a_3da5_11eb_a317_3065ec67c176row13_col6 {\n",
       "            text-align:  left;\n",
       "            text-align:  left;\n",
       "            : ;\n",
       "        }    #T_cda2c20a_3da5_11eb_a317_3065ec67c176row13_col7 {\n",
       "            text-align:  left;\n",
       "            text-align:  left;\n",
       "            : ;\n",
       "        }    #T_cda2c20a_3da5_11eb_a317_3065ec67c176row13_col8 {\n",
       "            text-align:  left;\n",
       "            text-align:  left;\n",
       "            : ;\n",
       "        }    #T_cda2c20a_3da5_11eb_a317_3065ec67c176row13_col9 {\n",
       "            text-align:  left;\n",
       "            text-align:  left;\n",
       "            : ;\n",
       "        }    #T_cda2c20a_3da5_11eb_a317_3065ec67c176row13_col10 {\n",
       "            text-align:  left;\n",
       "            text-align:  left;\n",
       "            background-color:  yellow;\n",
       "            background-color:  lightgrey;\n",
       "        }    #T_cda2c20a_3da5_11eb_a317_3065ec67c176row14_col0 {\n",
       "            text-align:  left;\n",
       "            text-align:  left;\n",
       "        }    #T_cda2c20a_3da5_11eb_a317_3065ec67c176row14_col1 {\n",
       "            text-align:  left;\n",
       "            text-align:  left;\n",
       "            : ;\n",
       "        }    #T_cda2c20a_3da5_11eb_a317_3065ec67c176row14_col2 {\n",
       "            text-align:  left;\n",
       "            text-align:  left;\n",
       "            : ;\n",
       "        }    #T_cda2c20a_3da5_11eb_a317_3065ec67c176row14_col3 {\n",
       "            text-align:  left;\n",
       "            text-align:  left;\n",
       "            : ;\n",
       "        }    #T_cda2c20a_3da5_11eb_a317_3065ec67c176row14_col4 {\n",
       "            text-align:  left;\n",
       "            text-align:  left;\n",
       "            : ;\n",
       "        }    #T_cda2c20a_3da5_11eb_a317_3065ec67c176row14_col5 {\n",
       "            text-align:  left;\n",
       "            text-align:  left;\n",
       "            : ;\n",
       "        }    #T_cda2c20a_3da5_11eb_a317_3065ec67c176row14_col6 {\n",
       "            text-align:  left;\n",
       "            text-align:  left;\n",
       "            : ;\n",
       "        }    #T_cda2c20a_3da5_11eb_a317_3065ec67c176row14_col7 {\n",
       "            text-align:  left;\n",
       "            text-align:  left;\n",
       "            : ;\n",
       "        }    #T_cda2c20a_3da5_11eb_a317_3065ec67c176row14_col8 {\n",
       "            text-align:  left;\n",
       "            text-align:  left;\n",
       "            : ;\n",
       "        }    #T_cda2c20a_3da5_11eb_a317_3065ec67c176row14_col9 {\n",
       "            text-align:  left;\n",
       "            text-align:  left;\n",
       "            : ;\n",
       "        }    #T_cda2c20a_3da5_11eb_a317_3065ec67c176row14_col10 {\n",
       "            text-align:  left;\n",
       "            text-align:  left;\n",
       "            : ;\n",
       "            background-color:  lightgrey;\n",
       "        }</style><table id=\"T_cda2c20a_3da5_11eb_a317_3065ec67c176\" ><thead>    <tr>        <th class=\"blank level0\" ></th>        <th class=\"col_heading level0 col0\" >Model</th>        <th class=\"col_heading level0 col1\" >Accuracy</th>        <th class=\"col_heading level0 col2\" >AUC</th>        <th class=\"col_heading level0 col3\" >Recall</th>        <th class=\"col_heading level0 col4\" >Prec.</th>        <th class=\"col_heading level0 col5\" >F1</th>        <th class=\"col_heading level0 col6\" >Kappa</th>        <th class=\"col_heading level0 col7\" >MCC</th>        <th class=\"col_heading level0 col8\" >F1 Mac</th>        <th class=\"col_heading level0 col9\" >Prec. Mac</th>        <th class=\"col_heading level0 col10\" >TT (Sec)</th>    </tr></thead><tbody>\n",
       "                <tr>\n",
       "                        <th id=\"T_cda2c20a_3da5_11eb_a317_3065ec67c176level0_row0\" class=\"row_heading level0 row0\" >lr</th>\n",
       "                        <td id=\"T_cda2c20a_3da5_11eb_a317_3065ec67c176row0_col0\" class=\"data row0 col0\" >Logistic Regression</td>\n",
       "                        <td id=\"T_cda2c20a_3da5_11eb_a317_3065ec67c176row0_col1\" class=\"data row0 col1\" >0.8130</td>\n",
       "                        <td id=\"T_cda2c20a_3da5_11eb_a317_3065ec67c176row0_col2\" class=\"data row0 col2\" >0.8825</td>\n",
       "                        <td id=\"T_cda2c20a_3da5_11eb_a317_3065ec67c176row0_col3\" class=\"data row0 col3\" >0.8208</td>\n",
       "                        <td id=\"T_cda2c20a_3da5_11eb_a317_3065ec67c176row0_col4\" class=\"data row0 col4\" >0.8632</td>\n",
       "                        <td id=\"T_cda2c20a_3da5_11eb_a317_3065ec67c176row0_col5\" class=\"data row0 col5\" >0.8413</td>\n",
       "                        <td id=\"T_cda2c20a_3da5_11eb_a317_3065ec67c176row0_col6\" class=\"data row0 col6\" >0.6141</td>\n",
       "                        <td id=\"T_cda2c20a_3da5_11eb_a317_3065ec67c176row0_col7\" class=\"data row0 col7\" >0.6156</td>\n",
       "                        <td id=\"T_cda2c20a_3da5_11eb_a317_3065ec67c176row0_col8\" class=\"data row0 col8\" >0.8069</td>\n",
       "                        <td id=\"T_cda2c20a_3da5_11eb_a317_3065ec67c176row0_col9\" class=\"data row0 col9\" >0.8046</td>\n",
       "                        <td id=\"T_cda2c20a_3da5_11eb_a317_3065ec67c176row0_col10\" class=\"data row0 col10\" >1.3560</td>\n",
       "            </tr>\n",
       "            <tr>\n",
       "                        <th id=\"T_cda2c20a_3da5_11eb_a317_3065ec67c176level0_row1\" class=\"row_heading level0 row1\" >gbc</th>\n",
       "                        <td id=\"T_cda2c20a_3da5_11eb_a317_3065ec67c176row1_col0\" class=\"data row1 col0\" >Gradient Boosting Classifier</td>\n",
       "                        <td id=\"T_cda2c20a_3da5_11eb_a317_3065ec67c176row1_col1\" class=\"data row1 col1\" >0.8118</td>\n",
       "                        <td id=\"T_cda2c20a_3da5_11eb_a317_3065ec67c176row1_col2\" class=\"data row1 col2\" >0.8814</td>\n",
       "                        <td id=\"T_cda2c20a_3da5_11eb_a317_3065ec67c176row1_col3\" class=\"data row1 col3\" >0.8228</td>\n",
       "                        <td id=\"T_cda2c20a_3da5_11eb_a317_3065ec67c176row1_col4\" class=\"data row1 col4\" >0.8599</td>\n",
       "                        <td id=\"T_cda2c20a_3da5_11eb_a317_3065ec67c176row1_col5\" class=\"data row1 col5\" >0.8408</td>\n",
       "                        <td id=\"T_cda2c20a_3da5_11eb_a317_3065ec67c176row1_col6\" class=\"data row1 col6\" >0.6109</td>\n",
       "                        <td id=\"T_cda2c20a_3da5_11eb_a317_3065ec67c176row1_col7\" class=\"data row1 col7\" >0.6122</td>\n",
       "                        <td id=\"T_cda2c20a_3da5_11eb_a317_3065ec67c176row1_col8\" class=\"data row1 col8\" >0.8053</td>\n",
       "                        <td id=\"T_cda2c20a_3da5_11eb_a317_3065ec67c176row1_col9\" class=\"data row1 col9\" >0.8033</td>\n",
       "                        <td id=\"T_cda2c20a_3da5_11eb_a317_3065ec67c176row1_col10\" class=\"data row1 col10\" >0.0940</td>\n",
       "            </tr>\n",
       "            <tr>\n",
       "                        <th id=\"T_cda2c20a_3da5_11eb_a317_3065ec67c176level0_row2\" class=\"row_heading level0 row2\" >ridge</th>\n",
       "                        <td id=\"T_cda2c20a_3da5_11eb_a317_3065ec67c176row2_col0\" class=\"data row2 col0\" >Ridge Classifier</td>\n",
       "                        <td id=\"T_cda2c20a_3da5_11eb_a317_3065ec67c176row2_col1\" class=\"data row2 col1\" >0.8106</td>\n",
       "                        <td id=\"T_cda2c20a_3da5_11eb_a317_3065ec67c176row2_col2\" class=\"data row2 col2\" >0.0000</td>\n",
       "                        <td id=\"T_cda2c20a_3da5_11eb_a317_3065ec67c176row2_col3\" class=\"data row2 col3\" >0.8147</td>\n",
       "                        <td id=\"T_cda2c20a_3da5_11eb_a317_3065ec67c176row2_col4\" class=\"data row2 col4\" >0.8641</td>\n",
       "                        <td id=\"T_cda2c20a_3da5_11eb_a317_3065ec67c176row2_col5\" class=\"data row2 col5\" >0.8385</td>\n",
       "                        <td id=\"T_cda2c20a_3da5_11eb_a317_3065ec67c176row2_col6\" class=\"data row2 col6\" >0.6098</td>\n",
       "                        <td id=\"T_cda2c20a_3da5_11eb_a317_3065ec67c176row2_col7\" class=\"data row2 col7\" >0.6116</td>\n",
       "                        <td id=\"T_cda2c20a_3da5_11eb_a317_3065ec67c176row2_col8\" class=\"data row2 col8\" >0.8046</td>\n",
       "                        <td id=\"T_cda2c20a_3da5_11eb_a317_3065ec67c176row2_col9\" class=\"data row2 col9\" >0.8022</td>\n",
       "                        <td id=\"T_cda2c20a_3da5_11eb_a317_3065ec67c176row2_col10\" class=\"data row2 col10\" >0.0240</td>\n",
       "            </tr>\n",
       "            <tr>\n",
       "                        <th id=\"T_cda2c20a_3da5_11eb_a317_3065ec67c176level0_row3\" class=\"row_heading level0 row3\" >lda</th>\n",
       "                        <td id=\"T_cda2c20a_3da5_11eb_a317_3065ec67c176row3_col0\" class=\"data row3 col0\" >Linear Discriminant Analysis</td>\n",
       "                        <td id=\"T_cda2c20a_3da5_11eb_a317_3065ec67c176row3_col1\" class=\"data row3 col1\" >0.8106</td>\n",
       "                        <td id=\"T_cda2c20a_3da5_11eb_a317_3065ec67c176row3_col2\" class=\"data row3 col2\" >0.8831</td>\n",
       "                        <td id=\"T_cda2c20a_3da5_11eb_a317_3065ec67c176row3_col3\" class=\"data row3 col3\" >0.8147</td>\n",
       "                        <td id=\"T_cda2c20a_3da5_11eb_a317_3065ec67c176row3_col4\" class=\"data row3 col4\" >0.8641</td>\n",
       "                        <td id=\"T_cda2c20a_3da5_11eb_a317_3065ec67c176row3_col5\" class=\"data row3 col5\" >0.8385</td>\n",
       "                        <td id=\"T_cda2c20a_3da5_11eb_a317_3065ec67c176row3_col6\" class=\"data row3 col6\" >0.6098</td>\n",
       "                        <td id=\"T_cda2c20a_3da5_11eb_a317_3065ec67c176row3_col7\" class=\"data row3 col7\" >0.6116</td>\n",
       "                        <td id=\"T_cda2c20a_3da5_11eb_a317_3065ec67c176row3_col8\" class=\"data row3 col8\" >0.8046</td>\n",
       "                        <td id=\"T_cda2c20a_3da5_11eb_a317_3065ec67c176row3_col9\" class=\"data row3 col9\" >0.8022</td>\n",
       "                        <td id=\"T_cda2c20a_3da5_11eb_a317_3065ec67c176row3_col10\" class=\"data row3 col10\" >0.0220</td>\n",
       "            </tr>\n",
       "            <tr>\n",
       "                        <th id=\"T_cda2c20a_3da5_11eb_a317_3065ec67c176level0_row4\" class=\"row_heading level0 row4\" >catboost</th>\n",
       "                        <td id=\"T_cda2c20a_3da5_11eb_a317_3065ec67c176row4_col0\" class=\"data row4 col0\" >CatBoost Classifier</td>\n",
       "                        <td id=\"T_cda2c20a_3da5_11eb_a317_3065ec67c176row4_col1\" class=\"data row4 col1\" >0.8081</td>\n",
       "                        <td id=\"T_cda2c20a_3da5_11eb_a317_3065ec67c176row4_col2\" class=\"data row4 col2\" >0.8796</td>\n",
       "                        <td id=\"T_cda2c20a_3da5_11eb_a317_3065ec67c176row4_col3\" class=\"data row4 col3\" >0.8289</td>\n",
       "                        <td id=\"T_cda2c20a_3da5_11eb_a317_3065ec67c176row4_col4\" class=\"data row4 col4\" >0.8502</td>\n",
       "                        <td id=\"T_cda2c20a_3da5_11eb_a317_3065ec67c176row4_col5\" class=\"data row4 col5\" >0.8392</td>\n",
       "                        <td id=\"T_cda2c20a_3da5_11eb_a317_3065ec67c176row4_col6\" class=\"data row4 col6\" >0.6014</td>\n",
       "                        <td id=\"T_cda2c20a_3da5_11eb_a317_3065ec67c176row4_col7\" class=\"data row4 col7\" >0.6022</td>\n",
       "                        <td id=\"T_cda2c20a_3da5_11eb_a317_3065ec67c176row4_col8\" class=\"data row4 col8\" >0.8006</td>\n",
       "                        <td id=\"T_cda2c20a_3da5_11eb_a317_3065ec67c176row4_col9\" class=\"data row4 col9\" >0.7995</td>\n",
       "                        <td id=\"T_cda2c20a_3da5_11eb_a317_3065ec67c176row4_col10\" class=\"data row4 col10\" >1.9500</td>\n",
       "            </tr>\n",
       "            <tr>\n",
       "                        <th id=\"T_cda2c20a_3da5_11eb_a317_3065ec67c176level0_row5\" class=\"row_heading level0 row5\" >xgboost</th>\n",
       "                        <td id=\"T_cda2c20a_3da5_11eb_a317_3065ec67c176row5_col0\" class=\"data row5 col0\" >Extreme Gradient Boosting</td>\n",
       "                        <td id=\"T_cda2c20a_3da5_11eb_a317_3065ec67c176row5_col1\" class=\"data row5 col1\" >0.8019</td>\n",
       "                        <td id=\"T_cda2c20a_3da5_11eb_a317_3065ec67c176row5_col2\" class=\"data row5 col2\" >0.8626</td>\n",
       "                        <td id=\"T_cda2c20a_3da5_11eb_a317_3065ec67c176row5_col3\" class=\"data row5 col3\" >0.8350</td>\n",
       "                        <td id=\"T_cda2c20a_3da5_11eb_a317_3065ec67c176row5_col4\" class=\"data row5 col4\" >0.8376</td>\n",
       "                        <td id=\"T_cda2c20a_3da5_11eb_a317_3065ec67c176row5_col5\" class=\"data row5 col5\" >0.8361</td>\n",
       "                        <td id=\"T_cda2c20a_3da5_11eb_a317_3065ec67c176row5_col6\" class=\"data row5 col6\" >0.5857</td>\n",
       "                        <td id=\"T_cda2c20a_3da5_11eb_a317_3065ec67c176row5_col7\" class=\"data row5 col7\" >0.5863</td>\n",
       "                        <td id=\"T_cda2c20a_3da5_11eb_a317_3065ec67c176row5_col8\" class=\"data row5 col8\" >0.7928</td>\n",
       "                        <td id=\"T_cda2c20a_3da5_11eb_a317_3065ec67c176row5_col9\" class=\"data row5 col9\" >0.7931</td>\n",
       "                        <td id=\"T_cda2c20a_3da5_11eb_a317_3065ec67c176row5_col10\" class=\"data row5 col10\" >0.5420</td>\n",
       "            </tr>\n",
       "            <tr>\n",
       "                        <th id=\"T_cda2c20a_3da5_11eb_a317_3065ec67c176level0_row6\" class=\"row_heading level0 row6\" >rf</th>\n",
       "                        <td id=\"T_cda2c20a_3da5_11eb_a317_3065ec67c176row6_col0\" class=\"data row6 col0\" >Random Forest Classifier</td>\n",
       "                        <td id=\"T_cda2c20a_3da5_11eb_a317_3065ec67c176row6_col1\" class=\"data row6 col1\" >0.7982</td>\n",
       "                        <td id=\"T_cda2c20a_3da5_11eb_a317_3065ec67c176row6_col2\" class=\"data row6 col2\" >0.8601</td>\n",
       "                        <td id=\"T_cda2c20a_3da5_11eb_a317_3065ec67c176row6_col3\" class=\"data row6 col3\" >0.8249</td>\n",
       "                        <td id=\"T_cda2c20a_3da5_11eb_a317_3065ec67c176row6_col4\" class=\"data row6 col4\" >0.8390</td>\n",
       "                        <td id=\"T_cda2c20a_3da5_11eb_a317_3065ec67c176row6_col5\" class=\"data row6 col5\" >0.8315</td>\n",
       "                        <td id=\"T_cda2c20a_3da5_11eb_a317_3065ec67c176row6_col6\" class=\"data row6 col6\" >0.5801</td>\n",
       "                        <td id=\"T_cda2c20a_3da5_11eb_a317_3065ec67c176row6_col7\" class=\"data row6 col7\" >0.5809</td>\n",
       "                        <td id=\"T_cda2c20a_3da5_11eb_a317_3065ec67c176row6_col8\" class=\"data row6 col8\" >0.7899</td>\n",
       "                        <td id=\"T_cda2c20a_3da5_11eb_a317_3065ec67c176row6_col9\" class=\"data row6 col9\" >0.7895</td>\n",
       "                        <td id=\"T_cda2c20a_3da5_11eb_a317_3065ec67c176row6_col10\" class=\"data row6 col10\" >0.2300</td>\n",
       "            </tr>\n",
       "            <tr>\n",
       "                        <th id=\"T_cda2c20a_3da5_11eb_a317_3065ec67c176level0_row7\" class=\"row_heading level0 row7\" >lightgbm</th>\n",
       "                        <td id=\"T_cda2c20a_3da5_11eb_a317_3065ec67c176row7_col0\" class=\"data row7 col0\" >Light Gradient Boosting Machine</td>\n",
       "                        <td id=\"T_cda2c20a_3da5_11eb_a317_3065ec67c176row7_col1\" class=\"data row7 col1\" >0.7970</td>\n",
       "                        <td id=\"T_cda2c20a_3da5_11eb_a317_3065ec67c176row7_col2\" class=\"data row7 col2\" >0.8655</td>\n",
       "                        <td id=\"T_cda2c20a_3da5_11eb_a317_3065ec67c176row7_col3\" class=\"data row7 col3\" >0.8330</td>\n",
       "                        <td id=\"T_cda2c20a_3da5_11eb_a317_3065ec67c176row7_col4\" class=\"data row7 col4\" >0.8321</td>\n",
       "                        <td id=\"T_cda2c20a_3da5_11eb_a317_3065ec67c176row7_col5\" class=\"data row7 col5\" >0.8321</td>\n",
       "                        <td id=\"T_cda2c20a_3da5_11eb_a317_3065ec67c176row7_col6\" class=\"data row7 col6\" >0.5753</td>\n",
       "                        <td id=\"T_cda2c20a_3da5_11eb_a317_3065ec67c176row7_col7\" class=\"data row7 col7\" >0.5763</td>\n",
       "                        <td id=\"T_cda2c20a_3da5_11eb_a317_3065ec67c176row7_col8\" class=\"data row7 col8\" >0.7875</td>\n",
       "                        <td id=\"T_cda2c20a_3da5_11eb_a317_3065ec67c176row7_col9\" class=\"data row7 col9\" >0.7888</td>\n",
       "                        <td id=\"T_cda2c20a_3da5_11eb_a317_3065ec67c176row7_col10\" class=\"data row7 col10\" >0.0720</td>\n",
       "            </tr>\n",
       "            <tr>\n",
       "                        <th id=\"T_cda2c20a_3da5_11eb_a317_3065ec67c176level0_row8\" class=\"row_heading level0 row8\" >ada</th>\n",
       "                        <td id=\"T_cda2c20a_3da5_11eb_a317_3065ec67c176row8_col0\" class=\"data row8 col0\" >Ada Boost Classifier</td>\n",
       "                        <td id=\"T_cda2c20a_3da5_11eb_a317_3065ec67c176row8_col1\" class=\"data row8 col1\" >0.7946</td>\n",
       "                        <td id=\"T_cda2c20a_3da5_11eb_a317_3065ec67c176row8_col2\" class=\"data row8 col2\" >0.8687</td>\n",
       "                        <td id=\"T_cda2c20a_3da5_11eb_a317_3065ec67c176row8_col3\" class=\"data row8 col3\" >0.8024</td>\n",
       "                        <td id=\"T_cda2c20a_3da5_11eb_a317_3065ec67c176row8_col4\" class=\"data row8 col4\" >0.8503</td>\n",
       "                        <td id=\"T_cda2c20a_3da5_11eb_a317_3065ec67c176row8_col5\" class=\"data row8 col5\" >0.8250</td>\n",
       "                        <td id=\"T_cda2c20a_3da5_11eb_a317_3065ec67c176row8_col6\" class=\"data row8 col6\" >0.5765</td>\n",
       "                        <td id=\"T_cda2c20a_3da5_11eb_a317_3065ec67c176row8_col7\" class=\"data row8 col7\" >0.5791</td>\n",
       "                        <td id=\"T_cda2c20a_3da5_11eb_a317_3065ec67c176row8_col8\" class=\"data row8 col8\" >0.7878</td>\n",
       "                        <td id=\"T_cda2c20a_3da5_11eb_a317_3065ec67c176row8_col9\" class=\"data row8 col9\" >0.7866</td>\n",
       "                        <td id=\"T_cda2c20a_3da5_11eb_a317_3065ec67c176row8_col10\" class=\"data row8 col10\" >0.0860</td>\n",
       "            </tr>\n",
       "            <tr>\n",
       "                        <th id=\"T_cda2c20a_3da5_11eb_a317_3065ec67c176level0_row9\" class=\"row_heading level0 row9\" >svm</th>\n",
       "                        <td id=\"T_cda2c20a_3da5_11eb_a317_3065ec67c176row9_col0\" class=\"data row9 col0\" >SVM - Linear Kernel</td>\n",
       "                        <td id=\"T_cda2c20a_3da5_11eb_a317_3065ec67c176row9_col1\" class=\"data row9 col1\" >0.7896</td>\n",
       "                        <td id=\"T_cda2c20a_3da5_11eb_a317_3065ec67c176row9_col2\" class=\"data row9 col2\" >0.0000</td>\n",
       "                        <td id=\"T_cda2c20a_3da5_11eb_a317_3065ec67c176row9_col3\" class=\"data row9 col3\" >0.8085</td>\n",
       "                        <td id=\"T_cda2c20a_3da5_11eb_a317_3065ec67c176row9_col4\" class=\"data row9 col4\" >0.8403</td>\n",
       "                        <td id=\"T_cda2c20a_3da5_11eb_a317_3065ec67c176row9_col5\" class=\"data row9 col5\" >0.8234</td>\n",
       "                        <td id=\"T_cda2c20a_3da5_11eb_a317_3065ec67c176row9_col6\" class=\"data row9 col6\" >0.5630</td>\n",
       "                        <td id=\"T_cda2c20a_3da5_11eb_a317_3065ec67c176row9_col7\" class=\"data row9 col7\" >0.5651</td>\n",
       "                        <td id=\"T_cda2c20a_3da5_11eb_a317_3065ec67c176row9_col8\" class=\"data row9 col8\" >0.7811</td>\n",
       "                        <td id=\"T_cda2c20a_3da5_11eb_a317_3065ec67c176row9_col9\" class=\"data row9 col9\" >0.7805</td>\n",
       "                        <td id=\"T_cda2c20a_3da5_11eb_a317_3065ec67c176row9_col10\" class=\"data row9 col10\" >0.0240</td>\n",
       "            </tr>\n",
       "            <tr>\n",
       "                        <th id=\"T_cda2c20a_3da5_11eb_a317_3065ec67c176level0_row10\" class=\"row_heading level0 row10\" >knn</th>\n",
       "                        <td id=\"T_cda2c20a_3da5_11eb_a317_3065ec67c176row10_col0\" class=\"data row10 col0\" >K Neighbors Classifier</td>\n",
       "                        <td id=\"T_cda2c20a_3da5_11eb_a317_3065ec67c176row10_col1\" class=\"data row10 col1\" >0.7798</td>\n",
       "                        <td id=\"T_cda2c20a_3da5_11eb_a317_3065ec67c176row10_col2\" class=\"data row10 col2\" >0.8428</td>\n",
       "                        <td id=\"T_cda2c20a_3da5_11eb_a317_3065ec67c176row10_col3\" class=\"data row10 col3\" >0.7902</td>\n",
       "                        <td id=\"T_cda2c20a_3da5_11eb_a317_3065ec67c176row10_col4\" class=\"data row10 col4\" >0.8374</td>\n",
       "                        <td id=\"T_cda2c20a_3da5_11eb_a317_3065ec67c176row10_col5\" class=\"data row10 col5\" >0.8124</td>\n",
       "                        <td id=\"T_cda2c20a_3da5_11eb_a317_3065ec67c176row10_col6\" class=\"data row10 col6\" >0.5461</td>\n",
       "                        <td id=\"T_cda2c20a_3da5_11eb_a317_3065ec67c176row10_col7\" class=\"data row10 col7\" >0.5485</td>\n",
       "                        <td id=\"T_cda2c20a_3da5_11eb_a317_3065ec67c176row10_col8\" class=\"data row10 col8\" >0.7725</td>\n",
       "                        <td id=\"T_cda2c20a_3da5_11eb_a317_3065ec67c176row10_col9\" class=\"data row10 col9\" >0.7715</td>\n",
       "                        <td id=\"T_cda2c20a_3da5_11eb_a317_3065ec67c176row10_col10\" class=\"data row10 col10\" >0.0520</td>\n",
       "            </tr>\n",
       "            <tr>\n",
       "                        <th id=\"T_cda2c20a_3da5_11eb_a317_3065ec67c176level0_row11\" class=\"row_heading level0 row11\" >et</th>\n",
       "                        <td id=\"T_cda2c20a_3da5_11eb_a317_3065ec67c176row11_col0\" class=\"data row11 col0\" >Extra Trees Classifier</td>\n",
       "                        <td id=\"T_cda2c20a_3da5_11eb_a317_3065ec67c176row11_col1\" class=\"data row11 col1\" >0.7724</td>\n",
       "                        <td id=\"T_cda2c20a_3da5_11eb_a317_3065ec67c176row11_col2\" class=\"data row11 col2\" >0.8369</td>\n",
       "                        <td id=\"T_cda2c20a_3da5_11eb_a317_3065ec67c176row11_col3\" class=\"data row11 col3\" >0.8044</td>\n",
       "                        <td id=\"T_cda2c20a_3da5_11eb_a317_3065ec67c176row11_col4\" class=\"data row11 col4\" >0.8171</td>\n",
       "                        <td id=\"T_cda2c20a_3da5_11eb_a317_3065ec67c176row11_col5\" class=\"data row11 col5\" >0.8100</td>\n",
       "                        <td id=\"T_cda2c20a_3da5_11eb_a317_3065ec67c176row11_col6\" class=\"data row11 col6\" >0.5260</td>\n",
       "                        <td id=\"T_cda2c20a_3da5_11eb_a317_3065ec67c176row11_col7\" class=\"data row11 col7\" >0.5275</td>\n",
       "                        <td id=\"T_cda2c20a_3da5_11eb_a317_3065ec67c176row11_col8\" class=\"data row11 col8\" >0.7627</td>\n",
       "                        <td id=\"T_cda2c20a_3da5_11eb_a317_3065ec67c176row11_col9\" class=\"data row11 col9\" >0.7635</td>\n",
       "                        <td id=\"T_cda2c20a_3da5_11eb_a317_3065ec67c176row11_col10\" class=\"data row11 col10\" >0.2140</td>\n",
       "            </tr>\n",
       "            <tr>\n",
       "                        <th id=\"T_cda2c20a_3da5_11eb_a317_3065ec67c176level0_row12\" class=\"row_heading level0 row12\" >dt</th>\n",
       "                        <td id=\"T_cda2c20a_3da5_11eb_a317_3065ec67c176row12_col0\" class=\"data row12 col0\" >Decision Tree Classifier</td>\n",
       "                        <td id=\"T_cda2c20a_3da5_11eb_a317_3065ec67c176row12_col1\" class=\"data row12 col1\" >0.7440</td>\n",
       "                        <td id=\"T_cda2c20a_3da5_11eb_a317_3065ec67c176row12_col2\" class=\"data row12 col2\" >0.7425</td>\n",
       "                        <td id=\"T_cda2c20a_3da5_11eb_a317_3065ec67c176row12_col3\" class=\"data row12 col3\" >0.7617</td>\n",
       "                        <td id=\"T_cda2c20a_3da5_11eb_a317_3065ec67c176row12_col4\" class=\"data row12 col4\" >0.8034</td>\n",
       "                        <td id=\"T_cda2c20a_3da5_11eb_a317_3065ec67c176row12_col5\" class=\"data row12 col5\" >0.7811</td>\n",
       "                        <td id=\"T_cda2c20a_3da5_11eb_a317_3065ec67c176row12_col6\" class=\"data row12 col6\" >0.4735</td>\n",
       "                        <td id=\"T_cda2c20a_3da5_11eb_a317_3065ec67c176row12_col7\" class=\"data row12 col7\" >0.4756</td>\n",
       "                        <td id=\"T_cda2c20a_3da5_11eb_a317_3065ec67c176row12_col8\" class=\"data row12 col8\" >0.7360</td>\n",
       "                        <td id=\"T_cda2c20a_3da5_11eb_a317_3065ec67c176row12_col9\" class=\"data row12 col9\" >0.7361</td>\n",
       "                        <td id=\"T_cda2c20a_3da5_11eb_a317_3065ec67c176row12_col10\" class=\"data row12 col10\" >0.0220</td>\n",
       "            </tr>\n",
       "            <tr>\n",
       "                        <th id=\"T_cda2c20a_3da5_11eb_a317_3065ec67c176level0_row13\" class=\"row_heading level0 row13\" >nb</th>\n",
       "                        <td id=\"T_cda2c20a_3da5_11eb_a317_3065ec67c176row13_col0\" class=\"data row13 col0\" >Naive Bayes</td>\n",
       "                        <td id=\"T_cda2c20a_3da5_11eb_a317_3065ec67c176row13_col1\" class=\"data row13 col1\" >0.7183</td>\n",
       "                        <td id=\"T_cda2c20a_3da5_11eb_a317_3065ec67c176row13_col2\" class=\"data row13 col2\" >0.8115</td>\n",
       "                        <td id=\"T_cda2c20a_3da5_11eb_a317_3065ec67c176row13_col3\" class=\"data row13 col3\" >0.6802</td>\n",
       "                        <td id=\"T_cda2c20a_3da5_11eb_a317_3065ec67c176row13_col4\" class=\"data row13 col4\" >0.8234</td>\n",
       "                        <td id=\"T_cda2c20a_3da5_11eb_a317_3065ec67c176row13_col5\" class=\"data row13 col5\" >0.7443</td>\n",
       "                        <td id=\"T_cda2c20a_3da5_11eb_a317_3065ec67c176row13_col6\" class=\"data row13 col6\" >0.4368</td>\n",
       "                        <td id=\"T_cda2c20a_3da5_11eb_a317_3065ec67c176row13_col7\" class=\"data row13 col7\" >0.4474</td>\n",
       "                        <td id=\"T_cda2c20a_3da5_11eb_a317_3065ec67c176row13_col8\" class=\"data row13 col8\" >0.7150</td>\n",
       "                        <td id=\"T_cda2c20a_3da5_11eb_a317_3065ec67c176row13_col9\" class=\"data row13 col9\" >0.7192</td>\n",
       "                        <td id=\"T_cda2c20a_3da5_11eb_a317_3065ec67c176row13_col10\" class=\"data row13 col10\" >0.0200</td>\n",
       "            </tr>\n",
       "            <tr>\n",
       "                        <th id=\"T_cda2c20a_3da5_11eb_a317_3065ec67c176level0_row14\" class=\"row_heading level0 row14\" >qda</th>\n",
       "                        <td id=\"T_cda2c20a_3da5_11eb_a317_3065ec67c176row14_col0\" class=\"data row14 col0\" >Quadratic Discriminant Analysis</td>\n",
       "                        <td id=\"T_cda2c20a_3da5_11eb_a317_3065ec67c176row14_col1\" class=\"data row14 col1\" >0.4980</td>\n",
       "                        <td id=\"T_cda2c20a_3da5_11eb_a317_3065ec67c176row14_col2\" class=\"data row14 col2\" >0.6065</td>\n",
       "                        <td id=\"T_cda2c20a_3da5_11eb_a317_3065ec67c176row14_col3\" class=\"data row14 col3\" >0.2509</td>\n",
       "                        <td id=\"T_cda2c20a_3da5_11eb_a317_3065ec67c176row14_col4\" class=\"data row14 col4\" >0.8156</td>\n",
       "                        <td id=\"T_cda2c20a_3da5_11eb_a317_3065ec67c176row14_col5\" class=\"data row14 col5\" >0.3063</td>\n",
       "                        <td id=\"T_cda2c20a_3da5_11eb_a317_3065ec67c176row14_col6\" class=\"data row14 col6\" >0.1189</td>\n",
       "                        <td id=\"T_cda2c20a_3da5_11eb_a317_3065ec67c176row14_col7\" class=\"data row14 col7\" >0.1718</td>\n",
       "                        <td id=\"T_cda2c20a_3da5_11eb_a317_3065ec67c176row14_col8\" class=\"data row14 col8\" >0.4441</td>\n",
       "                        <td id=\"T_cda2c20a_3da5_11eb_a317_3065ec67c176row14_col9\" class=\"data row14 col9\" >0.6369</td>\n",
       "                        <td id=\"T_cda2c20a_3da5_11eb_a317_3065ec67c176row14_col10\" class=\"data row14 col10\" >0.0260</td>\n",
       "            </tr>\n",
       "    </tbody></table>"
      ],
      "text/plain": [
       "<pandas.io.formats.style.Styler at 0x2ea7d11e160>"
      ]
     },
     "metadata": {},
     "output_type": "display_data"
    }
   ],
   "source": [
    "top5 = compare_models(n_select=5)"
   ]
  },
  {
   "cell_type": "markdown",
   "metadata": {},
   "source": [
    "---\n",
    "### Model 1: Create Logistic Regression model"
   ]
  },
  {
   "cell_type": "code",
   "execution_count": 35,
   "metadata": {},
   "outputs": [
    {
     "data": {
      "text/html": [
       "<style  type=\"text/css\" >\n",
       "    #T_d601c1be_3da5_11eb_8b2b_3065ec67c176row5_col0 {\n",
       "            background:  yellow;\n",
       "        }    #T_d601c1be_3da5_11eb_8b2b_3065ec67c176row5_col1 {\n",
       "            background:  yellow;\n",
       "        }    #T_d601c1be_3da5_11eb_8b2b_3065ec67c176row5_col2 {\n",
       "            background:  yellow;\n",
       "        }    #T_d601c1be_3da5_11eb_8b2b_3065ec67c176row5_col3 {\n",
       "            background:  yellow;\n",
       "        }    #T_d601c1be_3da5_11eb_8b2b_3065ec67c176row5_col4 {\n",
       "            background:  yellow;\n",
       "        }    #T_d601c1be_3da5_11eb_8b2b_3065ec67c176row5_col5 {\n",
       "            background:  yellow;\n",
       "        }    #T_d601c1be_3da5_11eb_8b2b_3065ec67c176row5_col6 {\n",
       "            background:  yellow;\n",
       "        }    #T_d601c1be_3da5_11eb_8b2b_3065ec67c176row5_col7 {\n",
       "            background:  yellow;\n",
       "        }    #T_d601c1be_3da5_11eb_8b2b_3065ec67c176row5_col8 {\n",
       "            background:  yellow;\n",
       "        }</style><table id=\"T_d601c1be_3da5_11eb_8b2b_3065ec67c176\" ><thead>    <tr>        <th class=\"blank level0\" ></th>        <th class=\"col_heading level0 col0\" >Accuracy</th>        <th class=\"col_heading level0 col1\" >AUC</th>        <th class=\"col_heading level0 col2\" >Recall</th>        <th class=\"col_heading level0 col3\" >Prec.</th>        <th class=\"col_heading level0 col4\" >F1</th>        <th class=\"col_heading level0 col5\" >Kappa</th>        <th class=\"col_heading level0 col6\" >MCC</th>        <th class=\"col_heading level0 col7\" >F1 Mac</th>        <th class=\"col_heading level0 col8\" >Prec. Mac</th>    </tr></thead><tbody>\n",
       "                <tr>\n",
       "                        <th id=\"T_d601c1be_3da5_11eb_8b2b_3065ec67c176level0_row0\" class=\"row_heading level0 row0\" >0</th>\n",
       "                        <td id=\"T_d601c1be_3da5_11eb_8b2b_3065ec67c176row0_col0\" class=\"data row0 col0\" >0.7975</td>\n",
       "                        <td id=\"T_d601c1be_3da5_11eb_8b2b_3065ec67c176row0_col1\" class=\"data row0 col1\" >0.8730</td>\n",
       "                        <td id=\"T_d601c1be_3da5_11eb_8b2b_3065ec67c176row0_col2\" class=\"data row0 col2\" >0.8163</td>\n",
       "                        <td id=\"T_d601c1be_3da5_11eb_8b2b_3065ec67c176row0_col3\" class=\"data row0 col3\" >0.8421</td>\n",
       "                        <td id=\"T_d601c1be_3da5_11eb_8b2b_3065ec67c176row0_col4\" class=\"data row0 col4\" >0.8290</td>\n",
       "                        <td id=\"T_d601c1be_3da5_11eb_8b2b_3065ec67c176row0_col5\" class=\"data row0 col5\" >0.5810</td>\n",
       "                        <td id=\"T_d601c1be_3da5_11eb_8b2b_3065ec67c176row0_col6\" class=\"data row0 col6\" >0.5815</td>\n",
       "                        <td id=\"T_d601c1be_3da5_11eb_8b2b_3065ec67c176row0_col7\" class=\"data row0 col7\" >0.7904</td>\n",
       "                        <td id=\"T_d601c1be_3da5_11eb_8b2b_3065ec67c176row0_col8\" class=\"data row0 col8\" >0.7887</td>\n",
       "            </tr>\n",
       "            <tr>\n",
       "                        <th id=\"T_d601c1be_3da5_11eb_8b2b_3065ec67c176level0_row1\" class=\"row_heading level0 row1\" >1</th>\n",
       "                        <td id=\"T_d601c1be_3da5_11eb_8b2b_3065ec67c176row1_col0\" class=\"data row1 col0\" >0.8344</td>\n",
       "                        <td id=\"T_d601c1be_3da5_11eb_8b2b_3065ec67c176row1_col1\" class=\"data row1 col1\" >0.9155</td>\n",
       "                        <td id=\"T_d601c1be_3da5_11eb_8b2b_3065ec67c176row1_col2\" class=\"data row1 col2\" >0.8469</td>\n",
       "                        <td id=\"T_d601c1be_3da5_11eb_8b2b_3065ec67c176row1_col3\" class=\"data row1 col3\" >0.8737</td>\n",
       "                        <td id=\"T_d601c1be_3da5_11eb_8b2b_3065ec67c176row1_col4\" class=\"data row1 col4\" >0.8601</td>\n",
       "                        <td id=\"T_d601c1be_3da5_11eb_8b2b_3065ec67c176row1_col5\" class=\"data row1 col5\" >0.6572</td>\n",
       "                        <td id=\"T_d601c1be_3da5_11eb_8b2b_3065ec67c176row1_col6\" class=\"data row1 col6\" >0.6577</td>\n",
       "                        <td id=\"T_d601c1be_3da5_11eb_8b2b_3065ec67c176row1_col7\" class=\"data row1 col7\" >0.8285</td>\n",
       "                        <td id=\"T_d601c1be_3da5_11eb_8b2b_3065ec67c176row1_col8\" class=\"data row1 col8\" >0.8265</td>\n",
       "            </tr>\n",
       "            <tr>\n",
       "                        <th id=\"T_d601c1be_3da5_11eb_8b2b_3065ec67c176level0_row2\" class=\"row_heading level0 row2\" >2</th>\n",
       "                        <td id=\"T_d601c1be_3da5_11eb_8b2b_3065ec67c176row2_col0\" class=\"data row2 col0\" >0.8160</td>\n",
       "                        <td id=\"T_d601c1be_3da5_11eb_8b2b_3065ec67c176row2_col1\" class=\"data row2 col1\" >0.8884</td>\n",
       "                        <td id=\"T_d601c1be_3da5_11eb_8b2b_3065ec67c176row2_col2\" class=\"data row2 col2\" >0.8182</td>\n",
       "                        <td id=\"T_d601c1be_3da5_11eb_8b2b_3065ec67c176row2_col3\" class=\"data row2 col3\" >0.8710</td>\n",
       "                        <td id=\"T_d601c1be_3da5_11eb_8b2b_3065ec67c176row2_col4\" class=\"data row2 col4\" >0.8438</td>\n",
       "                        <td id=\"T_d601c1be_3da5_11eb_8b2b_3065ec67c176row2_col5\" class=\"data row2 col5\" >0.6204</td>\n",
       "                        <td id=\"T_d601c1be_3da5_11eb_8b2b_3065ec67c176row2_col6\" class=\"data row2 col6\" >0.6222</td>\n",
       "                        <td id=\"T_d601c1be_3da5_11eb_8b2b_3065ec67c176row2_col7\" class=\"data row2 col7\" >0.8099</td>\n",
       "                        <td id=\"T_d601c1be_3da5_11eb_8b2b_3065ec67c176row2_col8\" class=\"data row2 col8\" >0.8069</td>\n",
       "            </tr>\n",
       "            <tr>\n",
       "                        <th id=\"T_d601c1be_3da5_11eb_8b2b_3065ec67c176level0_row3\" class=\"row_heading level0 row3\" >3</th>\n",
       "                        <td id=\"T_d601c1be_3da5_11eb_8b2b_3065ec67c176row3_col0\" class=\"data row3 col0\" >0.8086</td>\n",
       "                        <td id=\"T_d601c1be_3da5_11eb_8b2b_3065ec67c176row3_col1\" class=\"data row3 col1\" >0.8837</td>\n",
       "                        <td id=\"T_d601c1be_3da5_11eb_8b2b_3065ec67c176row3_col2\" class=\"data row3 col2\" >0.8265</td>\n",
       "                        <td id=\"T_d601c1be_3da5_11eb_8b2b_3065ec67c176row3_col3\" class=\"data row3 col3\" >0.8526</td>\n",
       "                        <td id=\"T_d601c1be_3da5_11eb_8b2b_3065ec67c176row3_col4\" class=\"data row3 col4\" >0.8394</td>\n",
       "                        <td id=\"T_d601c1be_3da5_11eb_8b2b_3065ec67c176row3_col5\" class=\"data row3 col5\" >0.6029</td>\n",
       "                        <td id=\"T_d601c1be_3da5_11eb_8b2b_3065ec67c176row3_col6\" class=\"data row3 col6\" >0.6033</td>\n",
       "                        <td id=\"T_d601c1be_3da5_11eb_8b2b_3065ec67c176row3_col7\" class=\"data row3 col7\" >0.8014</td>\n",
       "                        <td id=\"T_d601c1be_3da5_11eb_8b2b_3065ec67c176row3_col8\" class=\"data row3 col8\" >0.7995</td>\n",
       "            </tr>\n",
       "            <tr>\n",
       "                        <th id=\"T_d601c1be_3da5_11eb_8b2b_3065ec67c176level0_row4\" class=\"row_heading level0 row4\" >4</th>\n",
       "                        <td id=\"T_d601c1be_3da5_11eb_8b2b_3065ec67c176row4_col0\" class=\"data row4 col0\" >0.8086</td>\n",
       "                        <td id=\"T_d601c1be_3da5_11eb_8b2b_3065ec67c176row4_col1\" class=\"data row4 col1\" >0.8520</td>\n",
       "                        <td id=\"T_d601c1be_3da5_11eb_8b2b_3065ec67c176row4_col2\" class=\"data row4 col2\" >0.7959</td>\n",
       "                        <td id=\"T_d601c1be_3da5_11eb_8b2b_3065ec67c176row4_col3\" class=\"data row4 col3\" >0.8764</td>\n",
       "                        <td id=\"T_d601c1be_3da5_11eb_8b2b_3065ec67c176row4_col4\" class=\"data row4 col4\" >0.8342</td>\n",
       "                        <td id=\"T_d601c1be_3da5_11eb_8b2b_3065ec67c176row4_col5\" class=\"data row4 col5\" >0.6092</td>\n",
       "                        <td id=\"T_d601c1be_3da5_11eb_8b2b_3065ec67c176row4_col6\" class=\"data row4 col6\" >0.6131</td>\n",
       "                        <td id=\"T_d601c1be_3da5_11eb_8b2b_3065ec67c176row4_col7\" class=\"data row4 col7\" >0.8040</td>\n",
       "                        <td id=\"T_d601c1be_3da5_11eb_8b2b_3065ec67c176row4_col8\" class=\"data row4 col8\" >0.8012</td>\n",
       "            </tr>\n",
       "            <tr>\n",
       "                        <th id=\"T_d601c1be_3da5_11eb_8b2b_3065ec67c176level0_row5\" class=\"row_heading level0 row5\" >Mean</th>\n",
       "                        <td id=\"T_d601c1be_3da5_11eb_8b2b_3065ec67c176row5_col0\" class=\"data row5 col0\" >0.8130</td>\n",
       "                        <td id=\"T_d601c1be_3da5_11eb_8b2b_3065ec67c176row5_col1\" class=\"data row5 col1\" >0.8825</td>\n",
       "                        <td id=\"T_d601c1be_3da5_11eb_8b2b_3065ec67c176row5_col2\" class=\"data row5 col2\" >0.8208</td>\n",
       "                        <td id=\"T_d601c1be_3da5_11eb_8b2b_3065ec67c176row5_col3\" class=\"data row5 col3\" >0.8632</td>\n",
       "                        <td id=\"T_d601c1be_3da5_11eb_8b2b_3065ec67c176row5_col4\" class=\"data row5 col4\" >0.8413</td>\n",
       "                        <td id=\"T_d601c1be_3da5_11eb_8b2b_3065ec67c176row5_col5\" class=\"data row5 col5\" >0.6141</td>\n",
       "                        <td id=\"T_d601c1be_3da5_11eb_8b2b_3065ec67c176row5_col6\" class=\"data row5 col6\" >0.6156</td>\n",
       "                        <td id=\"T_d601c1be_3da5_11eb_8b2b_3065ec67c176row5_col7\" class=\"data row5 col7\" >0.8069</td>\n",
       "                        <td id=\"T_d601c1be_3da5_11eb_8b2b_3065ec67c176row5_col8\" class=\"data row5 col8\" >0.8046</td>\n",
       "            </tr>\n",
       "            <tr>\n",
       "                        <th id=\"T_d601c1be_3da5_11eb_8b2b_3065ec67c176level0_row6\" class=\"row_heading level0 row6\" >SD</th>\n",
       "                        <td id=\"T_d601c1be_3da5_11eb_8b2b_3065ec67c176row6_col0\" class=\"data row6 col0\" >0.0122</td>\n",
       "                        <td id=\"T_d601c1be_3da5_11eb_8b2b_3065ec67c176row6_col1\" class=\"data row6 col1\" >0.0207</td>\n",
       "                        <td id=\"T_d601c1be_3da5_11eb_8b2b_3065ec67c176row6_col2\" class=\"data row6 col2\" >0.0165</td>\n",
       "                        <td id=\"T_d601c1be_3da5_11eb_8b2b_3065ec67c176row6_col3\" class=\"data row6 col3\" >0.0134</td>\n",
       "                        <td id=\"T_d601c1be_3da5_11eb_8b2b_3065ec67c176row6_col4\" class=\"data row6 col4\" >0.0106</td>\n",
       "                        <td id=\"T_d601c1be_3da5_11eb_8b2b_3065ec67c176row6_col5\" class=\"data row6 col5\" >0.0251</td>\n",
       "                        <td id=\"T_d601c1be_3da5_11eb_8b2b_3065ec67c176row6_col6\" class=\"data row6 col6\" >0.0250</td>\n",
       "                        <td id=\"T_d601c1be_3da5_11eb_8b2b_3065ec67c176row6_col7\" class=\"data row6 col7\" >0.0126</td>\n",
       "                        <td id=\"T_d601c1be_3da5_11eb_8b2b_3065ec67c176row6_col8\" class=\"data row6 col8\" >0.0125</td>\n",
       "            </tr>\n",
       "    </tbody></table>"
      ],
      "text/plain": [
       "<pandas.io.formats.style.Styler at 0x2ea7d1d8fd0>"
      ]
     },
     "metadata": {},
     "output_type": "display_data"
    }
   ],
   "source": [
    "lr = create_model('lr')"
   ]
  },
  {
   "cell_type": "markdown",
   "metadata": {},
   "source": [
    "#### Tune Logistic Regression model to optimize F1 Macro score, with 50 iterations"
   ]
  },
  {
   "cell_type": "code",
   "execution_count": 36,
   "metadata": {},
   "outputs": [
    {
     "data": {
      "text/html": [
       "<style  type=\"text/css\" >\n",
       "    #T_da6400fb_3da5_11eb_b321_3065ec67c176row5_col0 {\n",
       "            background:  yellow;\n",
       "        }    #T_da6400fb_3da5_11eb_b321_3065ec67c176row5_col1 {\n",
       "            background:  yellow;\n",
       "        }    #T_da6400fb_3da5_11eb_b321_3065ec67c176row5_col2 {\n",
       "            background:  yellow;\n",
       "        }    #T_da6400fb_3da5_11eb_b321_3065ec67c176row5_col3 {\n",
       "            background:  yellow;\n",
       "        }    #T_da6400fb_3da5_11eb_b321_3065ec67c176row5_col4 {\n",
       "            background:  yellow;\n",
       "        }    #T_da6400fb_3da5_11eb_b321_3065ec67c176row5_col5 {\n",
       "            background:  yellow;\n",
       "        }    #T_da6400fb_3da5_11eb_b321_3065ec67c176row5_col6 {\n",
       "            background:  yellow;\n",
       "        }    #T_da6400fb_3da5_11eb_b321_3065ec67c176row5_col7 {\n",
       "            background:  yellow;\n",
       "        }    #T_da6400fb_3da5_11eb_b321_3065ec67c176row5_col8 {\n",
       "            background:  yellow;\n",
       "        }</style><table id=\"T_da6400fb_3da5_11eb_b321_3065ec67c176\" ><thead>    <tr>        <th class=\"blank level0\" ></th>        <th class=\"col_heading level0 col0\" >Accuracy</th>        <th class=\"col_heading level0 col1\" >AUC</th>        <th class=\"col_heading level0 col2\" >Recall</th>        <th class=\"col_heading level0 col3\" >Prec.</th>        <th class=\"col_heading level0 col4\" >F1</th>        <th class=\"col_heading level0 col5\" >Kappa</th>        <th class=\"col_heading level0 col6\" >MCC</th>        <th class=\"col_heading level0 col7\" >F1 Mac</th>        <th class=\"col_heading level0 col8\" >Prec. Mac</th>    </tr></thead><tbody>\n",
       "                <tr>\n",
       "                        <th id=\"T_da6400fb_3da5_11eb_b321_3065ec67c176level0_row0\" class=\"row_heading level0 row0\" >0</th>\n",
       "                        <td id=\"T_da6400fb_3da5_11eb_b321_3065ec67c176row0_col0\" class=\"data row0 col0\" >0.8221</td>\n",
       "                        <td id=\"T_da6400fb_3da5_11eb_b321_3065ec67c176row0_col1\" class=\"data row0 col1\" >0.8876</td>\n",
       "                        <td id=\"T_da6400fb_3da5_11eb_b321_3065ec67c176row0_col2\" class=\"data row0 col2\" >0.8469</td>\n",
       "                        <td id=\"T_da6400fb_3da5_11eb_b321_3065ec67c176row0_col3\" class=\"data row0 col3\" >0.8557</td>\n",
       "                        <td id=\"T_da6400fb_3da5_11eb_b321_3065ec67c176row0_col4\" class=\"data row0 col4\" >0.8513</td>\n",
       "                        <td id=\"T_da6400fb_3da5_11eb_b321_3065ec67c176row0_col5\" class=\"data row0 col5\" >0.6299</td>\n",
       "                        <td id=\"T_da6400fb_3da5_11eb_b321_3065ec67c176row0_col6\" class=\"data row0 col6\" >0.6300</td>\n",
       "                        <td id=\"T_da6400fb_3da5_11eb_b321_3065ec67c176row0_col7\" class=\"data row0 col7\" >0.8150</td>\n",
       "                        <td id=\"T_da6400fb_3da5_11eb_b321_3065ec67c176row0_col8\" class=\"data row0 col8\" >0.8142</td>\n",
       "            </tr>\n",
       "            <tr>\n",
       "                        <th id=\"T_da6400fb_3da5_11eb_b321_3065ec67c176level0_row1\" class=\"row_heading level0 row1\" >1</th>\n",
       "                        <td id=\"T_da6400fb_3da5_11eb_b321_3065ec67c176row1_col0\" class=\"data row1 col0\" >0.8405</td>\n",
       "                        <td id=\"T_da6400fb_3da5_11eb_b321_3065ec67c176row1_col1\" class=\"data row1 col1\" >0.9197</td>\n",
       "                        <td id=\"T_da6400fb_3da5_11eb_b321_3065ec67c176row1_col2\" class=\"data row1 col2\" >0.8469</td>\n",
       "                        <td id=\"T_da6400fb_3da5_11eb_b321_3065ec67c176row1_col3\" class=\"data row1 col3\" >0.8830</td>\n",
       "                        <td id=\"T_da6400fb_3da5_11eb_b321_3065ec67c176row1_col4\" class=\"data row1 col4\" >0.8646</td>\n",
       "                        <td id=\"T_da6400fb_3da5_11eb_b321_3065ec67c176row1_col5\" class=\"data row1 col5\" >0.6708</td>\n",
       "                        <td id=\"T_da6400fb_3da5_11eb_b321_3065ec67c176row1_col6\" class=\"data row1 col6\" >0.6716</td>\n",
       "                        <td id=\"T_da6400fb_3da5_11eb_b321_3065ec67c176row1_col7\" class=\"data row1 col7\" >0.8353</td>\n",
       "                        <td id=\"T_da6400fb_3da5_11eb_b321_3065ec67c176row1_col8\" class=\"data row1 col8\" >0.8328</td>\n",
       "            </tr>\n",
       "            <tr>\n",
       "                        <th id=\"T_da6400fb_3da5_11eb_b321_3065ec67c176level0_row2\" class=\"row_heading level0 row2\" >2</th>\n",
       "                        <td id=\"T_da6400fb_3da5_11eb_b321_3065ec67c176row2_col0\" class=\"data row2 col0\" >0.8344</td>\n",
       "                        <td id=\"T_da6400fb_3da5_11eb_b321_3065ec67c176row2_col1\" class=\"data row2 col1\" >0.8979</td>\n",
       "                        <td id=\"T_da6400fb_3da5_11eb_b321_3065ec67c176row2_col2\" class=\"data row2 col2\" >0.8384</td>\n",
       "                        <td id=\"T_da6400fb_3da5_11eb_b321_3065ec67c176row2_col3\" class=\"data row2 col3\" >0.8830</td>\n",
       "                        <td id=\"T_da6400fb_3da5_11eb_b321_3065ec67c176row2_col4\" class=\"data row2 col4\" >0.8601</td>\n",
       "                        <td id=\"T_da6400fb_3da5_11eb_b321_3065ec67c176row2_col5\" class=\"data row2 col5\" >0.6574</td>\n",
       "                        <td id=\"T_da6400fb_3da5_11eb_b321_3065ec67c176row2_col6\" class=\"data row2 col6\" >0.6588</td>\n",
       "                        <td id=\"T_da6400fb_3da5_11eb_b321_3065ec67c176row2_col7\" class=\"data row2 col7\" >0.8285</td>\n",
       "                        <td id=\"T_da6400fb_3da5_11eb_b321_3065ec67c176row2_col8\" class=\"data row2 col8\" >0.8255</td>\n",
       "            </tr>\n",
       "            <tr>\n",
       "                        <th id=\"T_da6400fb_3da5_11eb_b321_3065ec67c176level0_row3\" class=\"row_heading level0 row3\" >3</th>\n",
       "                        <td id=\"T_da6400fb_3da5_11eb_b321_3065ec67c176row3_col0\" class=\"data row3 col0\" >0.8025</td>\n",
       "                        <td id=\"T_da6400fb_3da5_11eb_b321_3065ec67c176row3_col1\" class=\"data row3 col1\" >0.8867</td>\n",
       "                        <td id=\"T_da6400fb_3da5_11eb_b321_3065ec67c176row3_col2\" class=\"data row3 col2\" >0.8061</td>\n",
       "                        <td id=\"T_da6400fb_3da5_11eb_b321_3065ec67c176row3_col3\" class=\"data row3 col3\" >0.8587</td>\n",
       "                        <td id=\"T_da6400fb_3da5_11eb_b321_3065ec67c176row3_col4\" class=\"data row3 col4\" >0.8316</td>\n",
       "                        <td id=\"T_da6400fb_3da5_11eb_b321_3065ec67c176row3_col5\" class=\"data row3 col5\" >0.5933</td>\n",
       "                        <td id=\"T_da6400fb_3da5_11eb_b321_3065ec67c176row3_col6\" class=\"data row3 col6\" >0.5951</td>\n",
       "                        <td id=\"T_da6400fb_3da5_11eb_b321_3065ec67c176row3_col7\" class=\"data row3 col7\" >0.7964</td>\n",
       "                        <td id=\"T_da6400fb_3da5_11eb_b321_3065ec67c176row3_col8\" class=\"data row3 col8\" >0.7936</td>\n",
       "            </tr>\n",
       "            <tr>\n",
       "                        <th id=\"T_da6400fb_3da5_11eb_b321_3065ec67c176level0_row4\" class=\"row_heading level0 row4\" >4</th>\n",
       "                        <td id=\"T_da6400fb_3da5_11eb_b321_3065ec67c176row4_col0\" class=\"data row4 col0\" >0.7901</td>\n",
       "                        <td id=\"T_da6400fb_3da5_11eb_b321_3065ec67c176row4_col1\" class=\"data row4 col1\" >0.8509</td>\n",
       "                        <td id=\"T_da6400fb_3da5_11eb_b321_3065ec67c176row4_col2\" class=\"data row4 col2\" >0.7959</td>\n",
       "                        <td id=\"T_da6400fb_3da5_11eb_b321_3065ec67c176row4_col3\" class=\"data row4 col3\" >0.8478</td>\n",
       "                        <td id=\"T_da6400fb_3da5_11eb_b321_3065ec67c176row4_col4\" class=\"data row4 col4\" >0.8211</td>\n",
       "                        <td id=\"T_da6400fb_3da5_11eb_b321_3065ec67c176row4_col5\" class=\"data row4 col5\" >0.5679</td>\n",
       "                        <td id=\"T_da6400fb_3da5_11eb_b321_3065ec67c176row4_col6\" class=\"data row4 col6\" >0.5696</td>\n",
       "                        <td id=\"T_da6400fb_3da5_11eb_b321_3065ec67c176row4_col7\" class=\"data row4 col7\" >0.7837</td>\n",
       "                        <td id=\"T_da6400fb_3da5_11eb_b321_3065ec67c176row4_col8\" class=\"data row4 col8\" >0.7811</td>\n",
       "            </tr>\n",
       "            <tr>\n",
       "                        <th id=\"T_da6400fb_3da5_11eb_b321_3065ec67c176level0_row5\" class=\"row_heading level0 row5\" >Mean</th>\n",
       "                        <td id=\"T_da6400fb_3da5_11eb_b321_3065ec67c176row5_col0\" class=\"data row5 col0\" >0.8179</td>\n",
       "                        <td id=\"T_da6400fb_3da5_11eb_b321_3065ec67c176row5_col1\" class=\"data row5 col1\" >0.8886</td>\n",
       "                        <td id=\"T_da6400fb_3da5_11eb_b321_3065ec67c176row5_col2\" class=\"data row5 col2\" >0.8269</td>\n",
       "                        <td id=\"T_da6400fb_3da5_11eb_b321_3065ec67c176row5_col3\" class=\"data row5 col3\" >0.8656</td>\n",
       "                        <td id=\"T_da6400fb_3da5_11eb_b321_3065ec67c176row5_col4\" class=\"data row5 col4\" >0.8457</td>\n",
       "                        <td id=\"T_da6400fb_3da5_11eb_b321_3065ec67c176row5_col5\" class=\"data row5 col5\" >0.6239</td>\n",
       "                        <td id=\"T_da6400fb_3da5_11eb_b321_3065ec67c176row5_col6\" class=\"data row5 col6\" >0.6250</td>\n",
       "                        <td id=\"T_da6400fb_3da5_11eb_b321_3065ec67c176row5_col7\" class=\"data row5 col7\" >0.8118</td>\n",
       "                        <td id=\"T_da6400fb_3da5_11eb_b321_3065ec67c176row5_col8\" class=\"data row5 col8\" >0.8094</td>\n",
       "            </tr>\n",
       "            <tr>\n",
       "                        <th id=\"T_da6400fb_3da5_11eb_b321_3065ec67c176level0_row6\" class=\"row_heading level0 row6\" >SD</th>\n",
       "                        <td id=\"T_da6400fb_3da5_11eb_b321_3065ec67c176row6_col0\" class=\"data row6 col0\" >0.0190</td>\n",
       "                        <td id=\"T_da6400fb_3da5_11eb_b321_3065ec67c176row6_col1\" class=\"data row6 col1\" >0.0223</td>\n",
       "                        <td id=\"T_da6400fb_3da5_11eb_b321_3065ec67c176row6_col2\" class=\"data row6 col2\" >0.0216</td>\n",
       "                        <td id=\"T_da6400fb_3da5_11eb_b321_3065ec67c176row6_col3\" class=\"data row6 col3\" >0.0146</td>\n",
       "                        <td id=\"T_da6400fb_3da5_11eb_b321_3065ec67c176row6_col4\" class=\"data row6 col4\" >0.0167</td>\n",
       "                        <td id=\"T_da6400fb_3da5_11eb_b321_3065ec67c176row6_col5\" class=\"data row6 col5\" >0.0385</td>\n",
       "                        <td id=\"T_da6400fb_3da5_11eb_b321_3065ec67c176row6_col6\" class=\"data row6 col6\" >0.0382</td>\n",
       "                        <td id=\"T_da6400fb_3da5_11eb_b321_3065ec67c176row6_col7\" class=\"data row6 col7\" >0.0193</td>\n",
       "                        <td id=\"T_da6400fb_3da5_11eb_b321_3065ec67c176row6_col8\" class=\"data row6 col8\" >0.0194</td>\n",
       "            </tr>\n",
       "    </tbody></table>"
      ],
      "text/plain": [
       "<pandas.io.formats.style.Styler at 0x2ea79a5b790>"
      ]
     },
     "metadata": {},
     "output_type": "display_data"
    }
   ],
   "source": [
    "tuned_lr = tune_model(lr, optimize = 'F1 Mac', n_iter=50) "
   ]
  },
  {
   "cell_type": "markdown",
   "metadata": {},
   "source": [
    "#### Logistic Regression model parameters before tuning"
   ]
  },
  {
   "cell_type": "code",
   "execution_count": 37,
   "metadata": {},
   "outputs": [
    {
     "name": "stdout",
     "output_type": "stream",
     "text": [
      "LogisticRegression(C=1.0, class_weight=None, dual=False, fit_intercept=True,\n",
      "                   intercept_scaling=1, l1_ratio=None, max_iter=1000,\n",
      "                   multi_class='auto', n_jobs=None, penalty='l2',\n",
      "                   random_state=123, solver='lbfgs', tol=0.0001, verbose=0,\n",
      "                   warm_start=False)\n"
     ]
    }
   ],
   "source": [
    "print(lr)"
   ]
  },
  {
   "cell_type": "markdown",
   "metadata": {},
   "source": [
    "#### Logistic Regression mode parameters after hyperparameter tuning"
   ]
  },
  {
   "cell_type": "code",
   "execution_count": 38,
   "metadata": {},
   "outputs": [
    {
     "name": "stdout",
     "output_type": "stream",
     "text": [
      "LogisticRegression(C=0.024, class_weight='balanced', dual=False,\n",
      "                   fit_intercept=True, intercept_scaling=1, l1_ratio=None,\n",
      "                   max_iter=1000, multi_class='auto', n_jobs=None, penalty='l2',\n",
      "                   random_state=123, solver='lbfgs', tol=0.0001, verbose=0,\n",
      "                   warm_start=False)\n"
     ]
    }
   ],
   "source": [
    "print(tuned_lr)"
   ]
  },
  {
   "cell_type": "markdown",
   "metadata": {},
   "source": [
    "#### Plot tuned Logistic Regression to visualize model performance - ROC Curve"
   ]
  },
  {
   "cell_type": "code",
   "execution_count": 39,
   "metadata": {},
   "outputs": [
    {
     "data": {
      "image/png": "[encoded data removed]",
      "text/plain": [
       "<Figure size 576x396 with 1 Axes>"
      ]
     },
     "metadata": {},
     "output_type": "display_data"
    }
   ],
   "source": [
    "plot_model(tuned_lr)"
   ]
  },
  {
   "cell_type": "markdown",
   "metadata": {},
   "source": [
    "#### Logistic Regression model Feature Importance"
   ]
  },
  {
   "cell_type": "code",
   "execution_count": 40,
   "metadata": {},
   "outputs": [
    {
     "data": {
      "image/png": "[encoded data removed]",
      "text/plain": [
       "<Figure size 800x500 with 1 Axes>"
      ]
     },
     "metadata": {},
     "output_type": "display_data"
    }
   ],
   "source": [
    "plot_model(tuned_lr, plot = 'feature_all')"
   ]
  },
  {
   "cell_type": "markdown",
   "metadata": {},
   "source": [
    "#### Logistic Regression model prediction performance on holdout \n",
    "\n",
    "#### Best Performance out of the 3 Models\n",
    "- F1 Macro=0.855, Precision Macro=0.851, Recall Macro=0.855, Accuracy=0.860, AUC=0.935"
   ]
  },
  {
   "cell_type": "code",
   "execution_count": 41,
   "metadata": {},
   "outputs": [
    {
     "data": {
      "text/html": [
       "<style  type=\"text/css\" >\n",
       "</style><table id=\"T_e90f226b_3da5_11eb_ba70_3065ec67c176\" ><thead>    <tr>        <th class=\"blank level0\" ></th>        <th class=\"col_heading level0 col0\" >Model</th>        <th class=\"col_heading level0 col1\" >Accuracy</th>        <th class=\"col_heading level0 col2\" >AUC</th>        <th class=\"col_heading level0 col3\" >Recall</th>        <th class=\"col_heading level0 col4\" >Prec.</th>        <th class=\"col_heading level0 col5\" >F1</th>        <th class=\"col_heading level0 col6\" >Kappa</th>        <th class=\"col_heading level0 col7\" >MCC</th>        <th class=\"col_heading level0 col8\" >F1 Mac</th>        <th class=\"col_heading level0 col9\" >Prec. Mac</th>    </tr></thead><tbody>\n",
       "                <tr>\n",
       "                        <th id=\"T_e90f226b_3da5_11eb_ba70_3065ec67c176level0_row0\" class=\"row_heading level0 row0\" >0</th>\n",
       "                        <td id=\"T_e90f226b_3da5_11eb_ba70_3065ec67c176row0_col0\" class=\"data row0 col0\" >Logistic Regression</td>\n",
       "                        <td id=\"T_e90f226b_3da5_11eb_ba70_3065ec67c176row0_col1\" class=\"data row0 col1\" >0.860</td>\n",
       "                        <td id=\"T_e90f226b_3da5_11eb_ba70_3065ec67c176row0_col2\" class=\"data row0 col2\" >0.935</td>\n",
       "                        <td id=\"T_e90f226b_3da5_11eb_ba70_3065ec67c176row0_col3\" class=\"data row0 col3\" >0.855</td>\n",
       "                        <td id=\"T_e90f226b_3da5_11eb_ba70_3065ec67c176row0_col4\" class=\"data row0 col4\" >0.911</td>\n",
       "                        <td id=\"T_e90f226b_3da5_11eb_ba70_3065ec67c176row0_col5\" class=\"data row0 col5\" >0.882</td>\n",
       "                        <td id=\"T_e90f226b_3da5_11eb_ba70_3065ec67c176row0_col6\" class=\"data row0 col6\" >0.710</td>\n",
       "                        <td id=\"T_e90f226b_3da5_11eb_ba70_3065ec67c176row0_col7\" class=\"data row0 col7\" >0.712</td>\n",
       "                        <td id=\"T_e90f226b_3da5_11eb_ba70_3065ec67c176row0_col8\" class=\"data row0 col8\" >0.855</td>\n",
       "                        <td id=\"T_e90f226b_3da5_11eb_ba70_3065ec67c176row0_col9\" class=\"data row0 col9\" >0.851</td>\n",
       "            </tr>\n",
       "    </tbody></table>"
      ],
      "text/plain": [
       "<pandas.io.formats.style.Styler at 0x2ea7d1de0a0>"
      ]
     },
     "metadata": {},
     "output_type": "display_data"
    }
   ],
   "source": [
    "predict_model(tuned_lr, round=3);"
   ]
  },
  {
   "cell_type": "markdown",
   "metadata": {},
   "source": [
    "#### Logistic Regression model Confusion Matrix"
   ]
  },
  {
   "cell_type": "code",
   "execution_count": 42,
   "metadata": {},
   "outputs": [
    {
     "data": {
      "image/png": "[encoded data removed]",
      "text/plain": [
       "<Figure size 576x396 with 1 Axes>"
      ]
     },
     "metadata": {},
     "output_type": "display_data"
    }
   ],
   "source": [
    "plot_model(tuned_lr, plot = 'confusion_matrix')"
   ]
  },
  {
   "cell_type": "markdown",
   "metadata": {},
   "source": [
    "#### Logistic Regression model Classification Report"
   ]
  },
  {
   "cell_type": "code",
   "execution_count": 43,
   "metadata": {},
   "outputs": [
    {
     "data": {
      "image/png": "[encoded data removed]",
      "text/plain": [
       "<Figure size 576x396 with 2 Axes>"
      ]
     },
     "metadata": {},
     "output_type": "display_data"
    }
   ],
   "source": [
    "plot_model(tuned_lr, plot = 'class_report')"
   ]
  },
  {
   "cell_type": "markdown",
   "metadata": {},
   "source": [
    "#### Logistic Regression model Threshold Plot"
   ]
  },
  {
   "cell_type": "code",
   "execution_count": 44,
   "metadata": {},
   "outputs": [
    {
     "data": {
      "image/png": "[encoded data removed]",
      "text/plain": [
       "<Figure size 576x396 with 1 Axes>"
      ]
     },
     "metadata": {},
     "output_type": "display_data"
    }
   ],
   "source": [
    "plot_model(tuned_lr, plot='threshold')"
   ]
  },
  {
   "cell_type": "markdown",
   "metadata": {},
   "source": [
    "---\n",
    "### Logistic Regression - Manuel method instead of Pycaret\n",
    " \n",
    "#### Before hyperparameter tuning"
   ]
  },
  {
   "cell_type": "code",
   "execution_count": 45,
   "metadata": {},
   "outputs": [],
   "source": [
    "from sklearn.linear_model import LogisticRegression\n",
    "\n",
    "clf_lr = LogisticRegression(random_state=123).fit(X_train_all, y_train)"
   ]
  },
  {
   "cell_type": "code",
   "execution_count": 46,
   "metadata": {},
   "outputs": [
    {
     "name": "stdout",
     "output_type": "stream",
     "text": [
      "F1 Macro= 0.804\n",
      "              precision    recall  f1-score   support\n",
      "\n",
      "           0       0.81      0.70      0.75        84\n",
      "           1       0.82      0.89      0.86       130\n",
      "\n",
      "    accuracy                           0.82       214\n",
      "   macro avg       0.82      0.80      0.80       214\n",
      "weighted avg       0.82      0.82      0.82       214\n",
      "\n"
     ]
    }
   ],
   "source": [
    "from sklearn.metrics import f1_score, classification_report\n",
    "\n",
    "lr_preds = clf_lr.predict(X_test_all)\n",
    "\n",
    "print(\"F1 Macro= {:.3f}\".format(f1_score(y_test, lr_preds, average='macro')))\n",
    "print(classification_report(y_test, lr_preds))"
   ]
  },
  {
   "cell_type": "markdown",
   "metadata": {},
   "source": [
    "#### Pipeline for SMOTE, PCA\n",
    "#### Pass the pipeline object into GridSearchCV for hyperparameter tuning with Stratified K-Folds = 5, and 3 jobs running in parallel  "
   ]
  },
  {
   "cell_type": "code",
   "execution_count": 47,
   "metadata": {},
   "outputs": [],
   "source": [
    "from imblearn.pipeline import Pipeline\n",
    "from sklearn.decomposition import PCA\n",
    "from imblearn.over_sampling import SMOTE\n",
    "from sklearn.model_selection import GridSearchCV\n",
    "\n",
    "sm = SMOTE(random_state = 42)\n",
    "lrc = LogisticRegression(random_state=123)\n",
    "pca = PCA()\n",
    "\n",
    "pipe1 = Pipeline([('sm', sm), ('pca', pca), ('lrc', lrc)])\n",
    "\n",
    "param_lr = {\n",
    "    'pca__n_components': [4, 5, 6, 7, 10],\n",
    "    'lrc__C': [1.0, 0.024, 0.01, 0.001],\n",
    "    'lrc__class_weight':[None, 'balanced'],\n",
    "}\n",
    "\n",
    "search_1 = GridSearchCV(pipe1, param_lr, \n",
    "                      cv=5, n_jobs=3, scoring='f1_macro', return_train_score=True)"
   ]
  },
  {
   "cell_type": "code",
   "execution_count": 48,
   "metadata": {},
   "outputs": [],
   "source": [
    "search_lr = search_1.fit(X_train_all, y_train)"
   ]
  },
  {
   "cell_type": "markdown",
   "metadata": {},
   "source": [
    "#### Best hyperparameter values after tuning"
   ]
  },
  {
   "cell_type": "code",
   "execution_count": 49,
   "metadata": {},
   "outputs": [
    {
     "data": {
      "text/plain": [
       "{'lrc__C': 0.024, 'lrc__class_weight': None, 'pca__n_components': 5}"
      ]
     },
     "execution_count": 49,
     "metadata": {},
     "output_type": "execute_result"
    },
    {
     "data": {
      "text/plain": [
       "0.8199592648002902"
      ]
     },
     "execution_count": 49,
     "metadata": {},
     "output_type": "execute_result"
    },
    {
     "data": {
      "text/plain": [
       "Pipeline(memory=None,\n",
       "         steps=[('sm',\n",
       "                 SMOTE(k_neighbors=5, n_jobs=None, random_state=42,\n",
       "                       sampling_strategy='auto')),\n",
       "                ('pca',\n",
       "                 PCA(copy=True, iterated_power='auto', n_components=5,\n",
       "                     random_state=None, svd_solver='auto', tol=0.0,\n",
       "                     whiten=False)),\n",
       "                ('lrc',\n",
       "                 LogisticRegression(C=0.024, class_weight=None, dual=False,\n",
       "                                    fit_intercept=True, intercept_scaling=1,\n",
       "                                    l1_ratio=None, max_iter=100,\n",
       "                                    multi_class='auto', n_jobs=None,\n",
       "                                    penalty='l2', random_state=123,\n",
       "                                    solver='lbfgs', tol=0.0001, verbose=0,\n",
       "                                    warm_start=False))],\n",
       "         verbose=False)"
      ]
     },
     "execution_count": 49,
     "metadata": {},
     "output_type": "execute_result"
    }
   ],
   "source": [
    "search_lr.best_params_\n",
    "search_lr.best_score_\n",
    "search_lr.best_estimator_"
   ]
  },
  {
   "cell_type": "markdown",
   "metadata": {},
   "source": [
    "#### Model performance after hyperparameter tuning"
   ]
  },
  {
   "cell_type": "code",
   "execution_count": 50,
   "metadata": {},
   "outputs": [
    {
     "name": "stdout",
     "output_type": "stream",
     "text": [
      "F1 Macro= 0.793\n",
      "              precision    recall  f1-score   support\n",
      "\n",
      "           0       0.76      0.74      0.75        84\n",
      "           1       0.83      0.85      0.84       130\n",
      "\n",
      "    accuracy                           0.80       214\n",
      "   macro avg       0.79      0.79      0.79       214\n",
      "weighted avg       0.80      0.80      0.80       214\n",
      "\n"
     ]
    }
   ],
   "source": [
    "lr_bpreds = search_lr.predict(X_test_all)\n",
    "\n",
    "print(\"F1 Macro= {:.3f}\".format(f1_score(y_test, lr_bpreds, average='macro')))\n",
    "print(classification_report(y_test, lr_bpreds))"
   ]
  },
  {
   "cell_type": "code",
   "execution_count": 51,
   "metadata": {},
   "outputs": [
    {
     "data": {
      "image/png": "[encoded data removed]",
      "text/plain": [
       "<Figure size 576x396 with 2 Axes>"
      ]
     },
     "metadata": {},
     "output_type": "display_data"
    }
   ],
   "source": [
    "from yellowbrick.classifier import classification_report, confusion_matrix\n",
    "\n",
    "visualizer_lr = classification_report(search_lr, X_train_all, y_train, X_test_all, y_test, classes = [0 ,1], support=True);"
   ]
  },
  {
   "cell_type": "code",
   "execution_count": 52,
   "metadata": {},
   "outputs": [
    {
     "data": {
      "image/png": "[encoded data removed]",
      "text/plain": [
       "<Figure size 576x396 with 1 Axes>"
      ]
     },
     "metadata": {},
     "output_type": "display_data"
    }
   ],
   "source": [
    "confusion_matrix(search_lr, X_train_all, y_train, X_test_all, y_test, classes=[0, 1]);"
   ]
  },
  {
   "cell_type": "markdown",
   "metadata": {},
   "source": [
    "---\n",
    "### Model 2: Create Gradient Boosting Classifier"
   ]
  },
  {
   "cell_type": "code",
   "execution_count": 53,
   "metadata": {},
   "outputs": [
    {
     "data": {
      "text/html": [
       "<style  type=\"text/css\" >\n",
       "    #T_257d3589_3da6_11eb_86ba_3065ec67c176row5_col0 {\n",
       "            background:  yellow;\n",
       "        }    #T_257d3589_3da6_11eb_86ba_3065ec67c176row5_col1 {\n",
       "            background:  yellow;\n",
       "        }    #T_257d3589_3da6_11eb_86ba_3065ec67c176row5_col2 {\n",
       "            background:  yellow;\n",
       "        }    #T_257d3589_3da6_11eb_86ba_3065ec67c176row5_col3 {\n",
       "            background:  yellow;\n",
       "        }    #T_257d3589_3da6_11eb_86ba_3065ec67c176row5_col4 {\n",
       "            background:  yellow;\n",
       "        }    #T_257d3589_3da6_11eb_86ba_3065ec67c176row5_col5 {\n",
       "            background:  yellow;\n",
       "        }    #T_257d3589_3da6_11eb_86ba_3065ec67c176row5_col6 {\n",
       "            background:  yellow;\n",
       "        }    #T_257d3589_3da6_11eb_86ba_3065ec67c176row5_col7 {\n",
       "            background:  yellow;\n",
       "        }    #T_257d3589_3da6_11eb_86ba_3065ec67c176row5_col8 {\n",
       "            background:  yellow;\n",
       "        }</style><table id=\"T_257d3589_3da6_11eb_86ba_3065ec67c176\" ><thead>    <tr>        <th class=\"blank level0\" ></th>        <th class=\"col_heading level0 col0\" >Accuracy</th>        <th class=\"col_heading level0 col1\" >AUC</th>        <th class=\"col_heading level0 col2\" >Recall</th>        <th class=\"col_heading level0 col3\" >Prec.</th>        <th class=\"col_heading level0 col4\" >F1</th>        <th class=\"col_heading level0 col5\" >Kappa</th>        <th class=\"col_heading level0 col6\" >MCC</th>        <th class=\"col_heading level0 col7\" >F1 Mac</th>        <th class=\"col_heading level0 col8\" >Prec. Mac</th>    </tr></thead><tbody>\n",
       "                <tr>\n",
       "                        <th id=\"T_257d3589_3da6_11eb_86ba_3065ec67c176level0_row0\" class=\"row_heading level0 row0\" >0</th>\n",
       "                        <td id=\"T_257d3589_3da6_11eb_86ba_3065ec67c176row0_col0\" class=\"data row0 col0\" >0.8098</td>\n",
       "                        <td id=\"T_257d3589_3da6_11eb_86ba_3065ec67c176row0_col1\" class=\"data row0 col1\" >0.8802</td>\n",
       "                        <td id=\"T_257d3589_3da6_11eb_86ba_3065ec67c176row0_col2\" class=\"data row0 col2\" >0.8163</td>\n",
       "                        <td id=\"T_257d3589_3da6_11eb_86ba_3065ec67c176row0_col3\" class=\"data row0 col3\" >0.8602</td>\n",
       "                        <td id=\"T_257d3589_3da6_11eb_86ba_3065ec67c176row0_col4\" class=\"data row0 col4\" >0.8377</td>\n",
       "                        <td id=\"T_257d3589_3da6_11eb_86ba_3065ec67c176row0_col5\" class=\"data row0 col5\" >0.6084</td>\n",
       "                        <td id=\"T_257d3589_3da6_11eb_86ba_3065ec67c176row0_col6\" class=\"data row0 col6\" >0.6097</td>\n",
       "                        <td id=\"T_257d3589_3da6_11eb_86ba_3065ec67c176row0_col7\" class=\"data row0 col7\" >0.8040</td>\n",
       "                        <td id=\"T_257d3589_3da6_11eb_86ba_3065ec67c176row0_col8\" class=\"data row0 col8\" >0.8015</td>\n",
       "            </tr>\n",
       "            <tr>\n",
       "                        <th id=\"T_257d3589_3da6_11eb_86ba_3065ec67c176level0_row1\" class=\"row_heading level0 row1\" >1</th>\n",
       "                        <td id=\"T_257d3589_3da6_11eb_86ba_3065ec67c176row1_col0\" class=\"data row1 col0\" >0.8282</td>\n",
       "                        <td id=\"T_257d3589_3da6_11eb_86ba_3065ec67c176row1_col1\" class=\"data row1 col1\" >0.9049</td>\n",
       "                        <td id=\"T_257d3589_3da6_11eb_86ba_3065ec67c176row1_col2\" class=\"data row1 col2\" >0.8571</td>\n",
       "                        <td id=\"T_257d3589_3da6_11eb_86ba_3065ec67c176row1_col3\" class=\"data row1 col3\" >0.8571</td>\n",
       "                        <td id=\"T_257d3589_3da6_11eb_86ba_3065ec67c176row1_col4\" class=\"data row1 col4\" >0.8571</td>\n",
       "                        <td id=\"T_257d3589_3da6_11eb_86ba_3065ec67c176row1_col5\" class=\"data row1 col5\" >0.6418</td>\n",
       "                        <td id=\"T_257d3589_3da6_11eb_86ba_3065ec67c176row1_col6\" class=\"data row1 col6\" >0.6418</td>\n",
       "                        <td id=\"T_257d3589_3da6_11eb_86ba_3065ec67c176row1_col7\" class=\"data row1 col7\" >0.8209</td>\n",
       "                        <td id=\"T_257d3589_3da6_11eb_86ba_3065ec67c176row1_col8\" class=\"data row1 col8\" >0.8209</td>\n",
       "            </tr>\n",
       "            <tr>\n",
       "                        <th id=\"T_257d3589_3da6_11eb_86ba_3065ec67c176level0_row2\" class=\"row_heading level0 row2\" >2</th>\n",
       "                        <td id=\"T_257d3589_3da6_11eb_86ba_3065ec67c176row2_col0\" class=\"data row2 col0\" >0.8282</td>\n",
       "                        <td id=\"T_257d3589_3da6_11eb_86ba_3065ec67c176row2_col1\" class=\"data row2 col1\" >0.9036</td>\n",
       "                        <td id=\"T_257d3589_3da6_11eb_86ba_3065ec67c176row2_col2\" class=\"data row2 col2\" >0.8182</td>\n",
       "                        <td id=\"T_257d3589_3da6_11eb_86ba_3065ec67c176row2_col3\" class=\"data row2 col3\" >0.8901</td>\n",
       "                        <td id=\"T_257d3589_3da6_11eb_86ba_3065ec67c176row2_col4\" class=\"data row2 col4\" >0.8526</td>\n",
       "                        <td id=\"T_257d3589_3da6_11eb_86ba_3065ec67c176row2_col5\" class=\"data row2 col5\" >0.6476</td>\n",
       "                        <td id=\"T_257d3589_3da6_11eb_86ba_3065ec67c176row2_col6\" class=\"data row2 col6\" >0.6509</td>\n",
       "                        <td id=\"T_257d3589_3da6_11eb_86ba_3065ec67c176row2_col7\" class=\"data row2 col7\" >0.8234</td>\n",
       "                        <td id=\"T_257d3589_3da6_11eb_86ba_3065ec67c176row2_col8\" class=\"data row2 col8\" >0.8201</td>\n",
       "            </tr>\n",
       "            <tr>\n",
       "                        <th id=\"T_257d3589_3da6_11eb_86ba_3065ec67c176level0_row3\" class=\"row_heading level0 row3\" >3</th>\n",
       "                        <td id=\"T_257d3589_3da6_11eb_86ba_3065ec67c176row3_col0\" class=\"data row3 col0\" >0.8025</td>\n",
       "                        <td id=\"T_257d3589_3da6_11eb_86ba_3065ec67c176row3_col1\" class=\"data row3 col1\" >0.8650</td>\n",
       "                        <td id=\"T_257d3589_3da6_11eb_86ba_3065ec67c176row3_col2\" class=\"data row3 col2\" >0.8061</td>\n",
       "                        <td id=\"T_257d3589_3da6_11eb_86ba_3065ec67c176row3_col3\" class=\"data row3 col3\" >0.8587</td>\n",
       "                        <td id=\"T_257d3589_3da6_11eb_86ba_3065ec67c176row3_col4\" class=\"data row3 col4\" >0.8316</td>\n",
       "                        <td id=\"T_257d3589_3da6_11eb_86ba_3065ec67c176row3_col5\" class=\"data row3 col5\" >0.5933</td>\n",
       "                        <td id=\"T_257d3589_3da6_11eb_86ba_3065ec67c176row3_col6\" class=\"data row3 col6\" >0.5951</td>\n",
       "                        <td id=\"T_257d3589_3da6_11eb_86ba_3065ec67c176row3_col7\" class=\"data row3 col7\" >0.7964</td>\n",
       "                        <td id=\"T_257d3589_3da6_11eb_86ba_3065ec67c176row3_col8\" class=\"data row3 col8\" >0.7936</td>\n",
       "            </tr>\n",
       "            <tr>\n",
       "                        <th id=\"T_257d3589_3da6_11eb_86ba_3065ec67c176level0_row4\" class=\"row_heading level0 row4\" >4</th>\n",
       "                        <td id=\"T_257d3589_3da6_11eb_86ba_3065ec67c176row4_col0\" class=\"data row4 col0\" >0.7901</td>\n",
       "                        <td id=\"T_257d3589_3da6_11eb_86ba_3065ec67c176row4_col1\" class=\"data row4 col1\" >0.8536</td>\n",
       "                        <td id=\"T_257d3589_3da6_11eb_86ba_3065ec67c176row4_col2\" class=\"data row4 col2\" >0.8163</td>\n",
       "                        <td id=\"T_257d3589_3da6_11eb_86ba_3065ec67c176row4_col3\" class=\"data row4 col3\" >0.8333</td>\n",
       "                        <td id=\"T_257d3589_3da6_11eb_86ba_3065ec67c176row4_col4\" class=\"data row4 col4\" >0.8247</td>\n",
       "                        <td id=\"T_257d3589_3da6_11eb_86ba_3065ec67c176row4_col5\" class=\"data row4 col5\" >0.5633</td>\n",
       "                        <td id=\"T_257d3589_3da6_11eb_86ba_3065ec67c176row4_col6\" class=\"data row4 col6\" >0.5635</td>\n",
       "                        <td id=\"T_257d3589_3da6_11eb_86ba_3065ec67c176row4_col7\" class=\"data row4 col7\" >0.7816</td>\n",
       "                        <td id=\"T_257d3589_3da6_11eb_86ba_3065ec67c176row4_col8\" class=\"data row4 col8\" >0.7803</td>\n",
       "            </tr>\n",
       "            <tr>\n",
       "                        <th id=\"T_257d3589_3da6_11eb_86ba_3065ec67c176level0_row5\" class=\"row_heading level0 row5\" >Mean</th>\n",
       "                        <td id=\"T_257d3589_3da6_11eb_86ba_3065ec67c176row5_col0\" class=\"data row5 col0\" >0.8118</td>\n",
       "                        <td id=\"T_257d3589_3da6_11eb_86ba_3065ec67c176row5_col1\" class=\"data row5 col1\" >0.8814</td>\n",
       "                        <td id=\"T_257d3589_3da6_11eb_86ba_3065ec67c176row5_col2\" class=\"data row5 col2\" >0.8228</td>\n",
       "                        <td id=\"T_257d3589_3da6_11eb_86ba_3065ec67c176row5_col3\" class=\"data row5 col3\" >0.8599</td>\n",
       "                        <td id=\"T_257d3589_3da6_11eb_86ba_3065ec67c176row5_col4\" class=\"data row5 col4\" >0.8408</td>\n",
       "                        <td id=\"T_257d3589_3da6_11eb_86ba_3065ec67c176row5_col5\" class=\"data row5 col5\" >0.6109</td>\n",
       "                        <td id=\"T_257d3589_3da6_11eb_86ba_3065ec67c176row5_col6\" class=\"data row5 col6\" >0.6122</td>\n",
       "                        <td id=\"T_257d3589_3da6_11eb_86ba_3065ec67c176row5_col7\" class=\"data row5 col7\" >0.8053</td>\n",
       "                        <td id=\"T_257d3589_3da6_11eb_86ba_3065ec67c176row5_col8\" class=\"data row5 col8\" >0.8033</td>\n",
       "            </tr>\n",
       "            <tr>\n",
       "                        <th id=\"T_257d3589_3da6_11eb_86ba_3065ec67c176level0_row6\" class=\"row_heading level0 row6\" >SD</th>\n",
       "                        <td id=\"T_257d3589_3da6_11eb_86ba_3065ec67c176row6_col0\" class=\"data row6 col0\" >0.0148</td>\n",
       "                        <td id=\"T_257d3589_3da6_11eb_86ba_3065ec67c176row6_col1\" class=\"data row6 col1\" >0.0204</td>\n",
       "                        <td id=\"T_257d3589_3da6_11eb_86ba_3065ec67c176row6_col2\" class=\"data row6 col2\" >0.0177</td>\n",
       "                        <td id=\"T_257d3589_3da6_11eb_86ba_3065ec67c176row6_col3\" class=\"data row6 col3\" >0.0180</td>\n",
       "                        <td id=\"T_257d3589_3da6_11eb_86ba_3065ec67c176row6_col4\" class=\"data row6 col4\" >0.0123</td>\n",
       "                        <td id=\"T_257d3589_3da6_11eb_86ba_3065ec67c176row6_col5\" class=\"data row6 col5\" >0.0313</td>\n",
       "                        <td id=\"T_257d3589_3da6_11eb_86ba_3065ec67c176row6_col6\" class=\"data row6 col6\" >0.0318</td>\n",
       "                        <td id=\"T_257d3589_3da6_11eb_86ba_3065ec67c176row6_col7\" class=\"data row6 col7\" >0.0156</td>\n",
       "                        <td id=\"T_257d3589_3da6_11eb_86ba_3065ec67c176row6_col8\" class=\"data row6 col8\" >0.0156</td>\n",
       "            </tr>\n",
       "    </tbody></table>"
      ],
      "text/plain": [
       "<pandas.io.formats.style.Styler at 0x2ea7e4863a0>"
      ]
     },
     "metadata": {},
     "output_type": "display_data"
    }
   ],
   "source": [
    "gbc = create_model('gbc')"
   ]
  },
  {
   "cell_type": "markdown",
   "metadata": {},
   "source": [
    "#### Tune Gradient Boosting Classifier to optimize F1 Macro score, with 50 iterations"
   ]
  },
  {
   "cell_type": "code",
   "execution_count": 54,
   "metadata": {},
   "outputs": [
    {
     "data": {
      "text/html": [
       "<style  type=\"text/css\" >\n",
       "    #T_378b70c4_3da6_11eb_b266_3065ec67c176row5_col0 {\n",
       "            background:  yellow;\n",
       "        }    #T_378b70c4_3da6_11eb_b266_3065ec67c176row5_col1 {\n",
       "            background:  yellow;\n",
       "        }    #T_378b70c4_3da6_11eb_b266_3065ec67c176row5_col2 {\n",
       "            background:  yellow;\n",
       "        }    #T_378b70c4_3da6_11eb_b266_3065ec67c176row5_col3 {\n",
       "            background:  yellow;\n",
       "        }    #T_378b70c4_3da6_11eb_b266_3065ec67c176row5_col4 {\n",
       "            background:  yellow;\n",
       "        }    #T_378b70c4_3da6_11eb_b266_3065ec67c176row5_col5 {\n",
       "            background:  yellow;\n",
       "        }    #T_378b70c4_3da6_11eb_b266_3065ec67c176row5_col6 {\n",
       "            background:  yellow;\n",
       "        }    #T_378b70c4_3da6_11eb_b266_3065ec67c176row5_col7 {\n",
       "            background:  yellow;\n",
       "        }    #T_378b70c4_3da6_11eb_b266_3065ec67c176row5_col8 {\n",
       "            background:  yellow;\n",
       "        }</style><table id=\"T_378b70c4_3da6_11eb_b266_3065ec67c176\" ><thead>    <tr>        <th class=\"blank level0\" ></th>        <th class=\"col_heading level0 col0\" >Accuracy</th>        <th class=\"col_heading level0 col1\" >AUC</th>        <th class=\"col_heading level0 col2\" >Recall</th>        <th class=\"col_heading level0 col3\" >Prec.</th>        <th class=\"col_heading level0 col4\" >F1</th>        <th class=\"col_heading level0 col5\" >Kappa</th>        <th class=\"col_heading level0 col6\" >MCC</th>        <th class=\"col_heading level0 col7\" >F1 Mac</th>        <th class=\"col_heading level0 col8\" >Prec. Mac</th>    </tr></thead><tbody>\n",
       "                <tr>\n",
       "                        <th id=\"T_378b70c4_3da6_11eb_b266_3065ec67c176level0_row0\" class=\"row_heading level0 row0\" >0</th>\n",
       "                        <td id=\"T_378b70c4_3da6_11eb_b266_3065ec67c176row0_col0\" class=\"data row0 col0\" >0.8160</td>\n",
       "                        <td id=\"T_378b70c4_3da6_11eb_b266_3065ec67c176row0_col1\" class=\"data row0 col1\" >0.8904</td>\n",
       "                        <td id=\"T_378b70c4_3da6_11eb_b266_3065ec67c176row0_col2\" class=\"data row0 col2\" >0.8367</td>\n",
       "                        <td id=\"T_378b70c4_3da6_11eb_b266_3065ec67c176row0_col3\" class=\"data row0 col3\" >0.8542</td>\n",
       "                        <td id=\"T_378b70c4_3da6_11eb_b266_3065ec67c176row0_col4\" class=\"data row0 col4\" >0.8454</td>\n",
       "                        <td id=\"T_378b70c4_3da6_11eb_b266_3065ec67c176row0_col5\" class=\"data row0 col5\" >0.6181</td>\n",
       "                        <td id=\"T_378b70c4_3da6_11eb_b266_3065ec67c176row0_col6\" class=\"data row0 col6\" >0.6183</td>\n",
       "                        <td id=\"T_378b70c4_3da6_11eb_b266_3065ec67c176row0_col7\" class=\"data row0 col7\" >0.8090</td>\n",
       "                        <td id=\"T_378b70c4_3da6_11eb_b266_3065ec67c176row0_col8\" class=\"data row0 col8\" >0.8077</td>\n",
       "            </tr>\n",
       "            <tr>\n",
       "                        <th id=\"T_378b70c4_3da6_11eb_b266_3065ec67c176level0_row1\" class=\"row_heading level0 row1\" >1</th>\n",
       "                        <td id=\"T_378b70c4_3da6_11eb_b266_3065ec67c176row1_col0\" class=\"data row1 col0\" >0.8344</td>\n",
       "                        <td id=\"T_378b70c4_3da6_11eb_b266_3065ec67c176row1_col1\" class=\"data row1 col1\" >0.9137</td>\n",
       "                        <td id=\"T_378b70c4_3da6_11eb_b266_3065ec67c176row1_col2\" class=\"data row1 col2\" >0.8673</td>\n",
       "                        <td id=\"T_378b70c4_3da6_11eb_b266_3065ec67c176row1_col3\" class=\"data row1 col3\" >0.8586</td>\n",
       "                        <td id=\"T_378b70c4_3da6_11eb_b266_3065ec67c176row1_col4\" class=\"data row1 col4\" >0.8629</td>\n",
       "                        <td id=\"T_378b70c4_3da6_11eb_b266_3065ec67c176row1_col5\" class=\"data row1 col5\" >0.6537</td>\n",
       "                        <td id=\"T_378b70c4_3da6_11eb_b266_3065ec67c176row1_col6\" class=\"data row1 col6\" >0.6537</td>\n",
       "                        <td id=\"T_378b70c4_3da6_11eb_b266_3065ec67c176row1_col7\" class=\"data row1 col7\" >0.8268</td>\n",
       "                        <td id=\"T_378b70c4_3da6_11eb_b266_3065ec67c176row1_col8\" class=\"data row1 col8\" >0.8277</td>\n",
       "            </tr>\n",
       "            <tr>\n",
       "                        <th id=\"T_378b70c4_3da6_11eb_b266_3065ec67c176level0_row2\" class=\"row_heading level0 row2\" >2</th>\n",
       "                        <td id=\"T_378b70c4_3da6_11eb_b266_3065ec67c176row2_col0\" class=\"data row2 col0\" >0.8344</td>\n",
       "                        <td id=\"T_378b70c4_3da6_11eb_b266_3065ec67c176row2_col1\" class=\"data row2 col1\" >0.8845</td>\n",
       "                        <td id=\"T_378b70c4_3da6_11eb_b266_3065ec67c176row2_col2\" class=\"data row2 col2\" >0.8586</td>\n",
       "                        <td id=\"T_378b70c4_3da6_11eb_b266_3065ec67c176row2_col3\" class=\"data row2 col3\" >0.8673</td>\n",
       "                        <td id=\"T_378b70c4_3da6_11eb_b266_3065ec67c176row2_col4\" class=\"data row2 col4\" >0.8629</td>\n",
       "                        <td id=\"T_378b70c4_3da6_11eb_b266_3065ec67c176row2_col5\" class=\"data row2 col5\" >0.6537</td>\n",
       "                        <td id=\"T_378b70c4_3da6_11eb_b266_3065ec67c176row2_col6\" class=\"data row2 col6\" >0.6537</td>\n",
       "                        <td id=\"T_378b70c4_3da6_11eb_b266_3065ec67c176row2_col7\" class=\"data row2 col7\" >0.8268</td>\n",
       "                        <td id=\"T_378b70c4_3da6_11eb_b266_3065ec67c176row2_col8\" class=\"data row2 col8\" >0.8260</td>\n",
       "            </tr>\n",
       "            <tr>\n",
       "                        <th id=\"T_378b70c4_3da6_11eb_b266_3065ec67c176level0_row3\" class=\"row_heading level0 row3\" >3</th>\n",
       "                        <td id=\"T_378b70c4_3da6_11eb_b266_3065ec67c176row3_col0\" class=\"data row3 col0\" >0.8025</td>\n",
       "                        <td id=\"T_378b70c4_3da6_11eb_b266_3065ec67c176row3_col1\" class=\"data row3 col1\" >0.8878</td>\n",
       "                        <td id=\"T_378b70c4_3da6_11eb_b266_3065ec67c176row3_col2\" class=\"data row3 col2\" >0.7857</td>\n",
       "                        <td id=\"T_378b70c4_3da6_11eb_b266_3065ec67c176row3_col3\" class=\"data row3 col3\" >0.8750</td>\n",
       "                        <td id=\"T_378b70c4_3da6_11eb_b266_3065ec67c176row3_col4\" class=\"data row3 col4\" >0.8280</td>\n",
       "                        <td id=\"T_378b70c4_3da6_11eb_b266_3065ec67c176row3_col5\" class=\"data row3 col5\" >0.5976</td>\n",
       "                        <td id=\"T_378b70c4_3da6_11eb_b266_3065ec67c176row3_col6\" class=\"data row3 col6\" >0.6024</td>\n",
       "                        <td id=\"T_378b70c4_3da6_11eb_b266_3065ec67c176row3_col7\" class=\"data row3 col7\" >0.7980</td>\n",
       "                        <td id=\"T_378b70c4_3da6_11eb_b266_3065ec67c176row3_col8\" class=\"data row3 col8\" >0.7956</td>\n",
       "            </tr>\n",
       "            <tr>\n",
       "                        <th id=\"T_378b70c4_3da6_11eb_b266_3065ec67c176level0_row4\" class=\"row_heading level0 row4\" >4</th>\n",
       "                        <td id=\"T_378b70c4_3da6_11eb_b266_3065ec67c176row4_col0\" class=\"data row4 col0\" >0.8210</td>\n",
       "                        <td id=\"T_378b70c4_3da6_11eb_b266_3065ec67c176row4_col1\" class=\"data row4 col1\" >0.8593</td>\n",
       "                        <td id=\"T_378b70c4_3da6_11eb_b266_3065ec67c176row4_col2\" class=\"data row4 col2\" >0.8265</td>\n",
       "                        <td id=\"T_378b70c4_3da6_11eb_b266_3065ec67c176row4_col3\" class=\"data row4 col3\" >0.8710</td>\n",
       "                        <td id=\"T_378b70c4_3da6_11eb_b266_3065ec67c176row4_col4\" class=\"data row4 col4\" >0.8482</td>\n",
       "                        <td id=\"T_378b70c4_3da6_11eb_b266_3065ec67c176row4_col5\" class=\"data row4 col5\" >0.6305</td>\n",
       "                        <td id=\"T_378b70c4_3da6_11eb_b266_3065ec67c176row4_col6\" class=\"data row4 col6\" >0.6318</td>\n",
       "                        <td id=\"T_378b70c4_3da6_11eb_b266_3065ec67c176row4_col7\" class=\"data row4 col7\" >0.8151</td>\n",
       "                        <td id=\"T_378b70c4_3da6_11eb_b266_3065ec67c176row4_col8\" class=\"data row4 col8\" >0.8123</td>\n",
       "            </tr>\n",
       "            <tr>\n",
       "                        <th id=\"T_378b70c4_3da6_11eb_b266_3065ec67c176level0_row5\" class=\"row_heading level0 row5\" >Mean</th>\n",
       "                        <td id=\"T_378b70c4_3da6_11eb_b266_3065ec67c176row5_col0\" class=\"data row5 col0\" >0.8216</td>\n",
       "                        <td id=\"T_378b70c4_3da6_11eb_b266_3065ec67c176row5_col1\" class=\"data row5 col1\" >0.8871</td>\n",
       "                        <td id=\"T_378b70c4_3da6_11eb_b266_3065ec67c176row5_col2\" class=\"data row5 col2\" >0.8350</td>\n",
       "                        <td id=\"T_378b70c4_3da6_11eb_b266_3065ec67c176row5_col3\" class=\"data row5 col3\" >0.8652</td>\n",
       "                        <td id=\"T_378b70c4_3da6_11eb_b266_3065ec67c176row5_col4\" class=\"data row5 col4\" >0.8495</td>\n",
       "                        <td id=\"T_378b70c4_3da6_11eb_b266_3065ec67c176row5_col5\" class=\"data row5 col5\" >0.6307</td>\n",
       "                        <td id=\"T_378b70c4_3da6_11eb_b266_3065ec67c176row5_col6\" class=\"data row5 col6\" >0.6320</td>\n",
       "                        <td id=\"T_378b70c4_3da6_11eb_b266_3065ec67c176row5_col7\" class=\"data row5 col7\" >0.8152</td>\n",
       "                        <td id=\"T_378b70c4_3da6_11eb_b266_3065ec67c176row5_col8\" class=\"data row5 col8\" >0.8139</td>\n",
       "            </tr>\n",
       "            <tr>\n",
       "                        <th id=\"T_378b70c4_3da6_11eb_b266_3065ec67c176level0_row6\" class=\"row_heading level0 row6\" >SD</th>\n",
       "                        <td id=\"T_378b70c4_3da6_11eb_b266_3065ec67c176row6_col0\" class=\"data row6 col0\" >0.0120</td>\n",
       "                        <td id=\"T_378b70c4_3da6_11eb_b266_3065ec67c176row6_col1\" class=\"data row6 col1\" >0.0173</td>\n",
       "                        <td id=\"T_378b70c4_3da6_11eb_b266_3065ec67c176row6_col2\" class=\"data row6 col2\" >0.0287</td>\n",
       "                        <td id=\"T_378b70c4_3da6_11eb_b266_3065ec67c176row6_col3\" class=\"data row6 col3\" >0.0077</td>\n",
       "                        <td id=\"T_378b70c4_3da6_11eb_b266_3065ec67c176row6_col4\" class=\"data row6 col4\" >0.0130</td>\n",
       "                        <td id=\"T_378b70c4_3da6_11eb_b266_3065ec67c176row6_col5\" class=\"data row6 col5\" >0.0215</td>\n",
       "                        <td id=\"T_378b70c4_3da6_11eb_b266_3065ec67c176row6_col6\" class=\"data row6 col6\" >0.0200</td>\n",
       "                        <td id=\"T_378b70c4_3da6_11eb_b266_3065ec67c176row6_col7\" class=\"data row6 col7\" >0.0110</td>\n",
       "                        <td id=\"T_378b70c4_3da6_11eb_b266_3065ec67c176row6_col8\" class=\"data row6 col8\" >0.0119</td>\n",
       "            </tr>\n",
       "    </tbody></table>"
      ],
      "text/plain": [
       "<pandas.io.formats.style.Styler at 0x2ea77f85250>"
      ]
     },
     "metadata": {},
     "output_type": "display_data"
    }
   ],
   "source": [
    "tuned_gbc = tune_model(gbc, optimize = 'F1 Mac', n_iter=50) "
   ]
  },
  {
   "cell_type": "markdown",
   "metadata": {},
   "source": [
    "#### Plot tuned Gradient Boosting Classifier to visualize model performance - ROC Curve"
   ]
  },
  {
   "cell_type": "code",
   "execution_count": 55,
   "metadata": {},
   "outputs": [
    {
     "data": {
      "image/png": "[encoded data removed]",
      "text/plain": [
       "<Figure size 576x396 with 1 Axes>"
      ]
     },
     "metadata": {},
     "output_type": "display_data"
    }
   ],
   "source": [
    "plot_model(tuned_gbc)"
   ]
  },
  {
   "cell_type": "markdown",
   "metadata": {},
   "source": [
    "#### Gradient Boosting Classifier parameters before tuning"
   ]
  },
  {
   "cell_type": "code",
   "execution_count": 56,
   "metadata": {},
   "outputs": [
    {
     "name": "stdout",
     "output_type": "stream",
     "text": [
      "GradientBoostingClassifier(ccp_alpha=0.0, criterion='friedman_mse', init=None,\n",
      "                           learning_rate=0.1, loss='deviance', max_depth=3,\n",
      "                           max_features=None, max_leaf_nodes=None,\n",
      "                           min_impurity_decrease=0.0, min_impurity_split=None,\n",
      "                           min_samples_leaf=1, min_samples_split=2,\n",
      "                           min_weight_fraction_leaf=0.0, n_estimators=100,\n",
      "                           n_iter_no_change=None, presort='deprecated',\n",
      "                           random_state=123, subsample=1.0, tol=0.0001,\n",
      "                           validation_fraction=0.1, verbose=0,\n",
      "                           warm_start=False)\n"
     ]
    }
   ],
   "source": [
    "print(gbc)"
   ]
  },
  {
   "cell_type": "markdown",
   "metadata": {},
   "source": [
    "#### Gradient Boosting Classifier parameters after hyperparameter tuning"
   ]
  },
  {
   "cell_type": "code",
   "execution_count": 57,
   "metadata": {},
   "outputs": [
    {
     "name": "stdout",
     "output_type": "stream",
     "text": [
      "GradientBoostingClassifier(ccp_alpha=0.0, criterion='friedman_mse', init=None,\n",
      "                           learning_rate=0.302, loss='deviance', max_depth=7,\n",
      "                           max_features='sqrt', max_leaf_nodes=None,\n",
      "                           min_impurity_decrease=0.3, min_impurity_split=None,\n",
      "                           min_samples_leaf=5, min_samples_split=9,\n",
      "                           min_weight_fraction_leaf=0.0, n_estimators=130,\n",
      "                           n_iter_no_change=None, presort='deprecated',\n",
      "                           random_state=123, subsample=1.0, tol=0.0001,\n",
      "                           validation_fraction=0.1, verbose=0,\n",
      "                           warm_start=False)\n"
     ]
    }
   ],
   "source": [
    "print(tuned_gbc)"
   ]
  },
  {
   "cell_type": "markdown",
   "metadata": {},
   "source": [
    "#### Gradient Boosting Classifier Feature Importance"
   ]
  },
  {
   "cell_type": "code",
   "execution_count": 58,
   "metadata": {},
   "outputs": [
    {
     "data": {
      "image/png": "[encoded data removed]",
      "text/plain": [
       "<Figure size 800x500 with 1 Axes>"
      ]
     },
     "metadata": {},
     "output_type": "display_data"
    }
   ],
   "source": [
    "plot_model(tuned_gbc, plot = 'feature_all')"
   ]
  },
  {
   "cell_type": "markdown",
   "metadata": {},
   "source": [
    "#### Gradient Boosting Classifier prediction performance on holdout"
   ]
  },
  {
   "cell_type": "code",
   "execution_count": 59,
   "metadata": {},
   "outputs": [
    {
     "data": {
      "text/html": [
       "<style  type=\"text/css\" >\n",
       "</style><table id=\"T_47d48da2_3da6_11eb_94ad_3065ec67c176\" ><thead>    <tr>        <th class=\"blank level0\" ></th>        <th class=\"col_heading level0 col0\" >Model</th>        <th class=\"col_heading level0 col1\" >Accuracy</th>        <th class=\"col_heading level0 col2\" >AUC</th>        <th class=\"col_heading level0 col3\" >Recall</th>        <th class=\"col_heading level0 col4\" >Prec.</th>        <th class=\"col_heading level0 col5\" >F1</th>        <th class=\"col_heading level0 col6\" >Kappa</th>        <th class=\"col_heading level0 col7\" >MCC</th>        <th class=\"col_heading level0 col8\" >F1 Mac</th>        <th class=\"col_heading level0 col9\" >Prec. Mac</th>    </tr></thead><tbody>\n",
       "                <tr>\n",
       "                        <th id=\"T_47d48da2_3da6_11eb_94ad_3065ec67c176level0_row0\" class=\"row_heading level0 row0\" >0</th>\n",
       "                        <td id=\"T_47d48da2_3da6_11eb_94ad_3065ec67c176row0_col0\" class=\"data row0 col0\" >Gradient Boosting Classifier</td>\n",
       "                        <td id=\"T_47d48da2_3da6_11eb_94ad_3065ec67c176row0_col1\" class=\"data row0 col1\" >0.808</td>\n",
       "                        <td id=\"T_47d48da2_3da6_11eb_94ad_3065ec67c176row0_col2\" class=\"data row0 col2\" >0.906</td>\n",
       "                        <td id=\"T_47d48da2_3da6_11eb_94ad_3065ec67c176row0_col3\" class=\"data row0 col3\" >0.802</td>\n",
       "                        <td id=\"T_47d48da2_3da6_11eb_94ad_3065ec67c176row0_col4\" class=\"data row0 col4\" >0.875</td>\n",
       "                        <td id=\"T_47d48da2_3da6_11eb_94ad_3065ec67c176row0_col5\" class=\"data row0 col5\" >0.837</td>\n",
       "                        <td id=\"T_47d48da2_3da6_11eb_94ad_3065ec67c176row0_col6\" class=\"data row0 col6\" >0.606</td>\n",
       "                        <td id=\"T_47d48da2_3da6_11eb_94ad_3065ec67c176row0_col7\" class=\"data row0 col7\" >0.610</td>\n",
       "                        <td id=\"T_47d48da2_3da6_11eb_94ad_3065ec67c176row0_col8\" class=\"data row0 col8\" >0.803</td>\n",
       "                        <td id=\"T_47d48da2_3da6_11eb_94ad_3065ec67c176row0_col9\" class=\"data row0 col9\" >0.799</td>\n",
       "            </tr>\n",
       "    </tbody></table>"
      ],
      "text/plain": [
       "<pandas.io.formats.style.Styler at 0x2ea77fd3850>"
      ]
     },
     "metadata": {},
     "output_type": "display_data"
    }
   ],
   "source": [
    "predict_model(tuned_gbc, round=3);"
   ]
  },
  {
   "cell_type": "markdown",
   "metadata": {},
   "source": [
    "#### Gradient Boosting Classifier Confusion Matrix"
   ]
  },
  {
   "cell_type": "code",
   "execution_count": 60,
   "metadata": {},
   "outputs": [
    {
     "data": {
      "image/png": "[encoded data removed]",
      "text/plain": [
       "<Figure size 576x396 with 1 Axes>"
      ]
     },
     "metadata": {},
     "output_type": "display_data"
    }
   ],
   "source": [
    "plot_model(tuned_gbc, plot = 'confusion_matrix')"
   ]
  },
  {
   "cell_type": "markdown",
   "metadata": {},
   "source": [
    "#### Gradient Boosting Classifier Classification Report"
   ]
  },
  {
   "cell_type": "code",
   "execution_count": 61,
   "metadata": {},
   "outputs": [
    {
     "data": {
      "image/png": "[encoded data removed]",
      "text/plain": [
       "<Figure size 576x396 with 2 Axes>"
      ]
     },
     "metadata": {},
     "output_type": "display_data"
    }
   ],
   "source": [
    "plot_model(tuned_gbc, plot = 'class_report')"
   ]
  },
  {
   "cell_type": "markdown",
   "metadata": {},
   "source": [
    "#### Gradient Boosting Classifier Threshold Plot"
   ]
  },
  {
   "cell_type": "code",
   "execution_count": 62,
   "metadata": {},
   "outputs": [
    {
     "data": {
      "image/png": "[encoded data removed]",
      "text/plain": [
       "<Figure size 576x396 with 1 Axes>"
      ]
     },
     "metadata": {},
     "output_type": "display_data"
    }
   ],
   "source": [
    "plot_model(tuned_gbc, plot = 'threshold')"
   ]
  },
  {
   "cell_type": "markdown",
   "metadata": {},
   "source": [
    "---\n",
    "### Gradient Boosting Classifier - Manuel method instead of Pycaret\n",
    "\n",
    "#### Before hyperparameter tuning"
   ]
  },
  {
   "cell_type": "code",
   "execution_count": 63,
   "metadata": {},
   "outputs": [],
   "source": [
    "from sklearn.ensemble import GradientBoostingClassifier\n",
    "\n",
    "clf_gbc = GradientBoostingClassifier(random_state=123).fit(X_train_all, y_train)"
   ]
  },
  {
   "cell_type": "code",
   "execution_count": 64,
   "metadata": {},
   "outputs": [
    {
     "name": "stdout",
     "output_type": "stream",
     "text": [
      "F1 Macro= 0.783\n",
      "              precision    recall  f1-score   support\n",
      "\n",
      "           0       0.79      0.67      0.72        84\n",
      "           1       0.80      0.88      0.84       130\n",
      "\n",
      "    accuracy                           0.80       214\n",
      "   macro avg       0.80      0.78      0.78       214\n",
      "weighted avg       0.80      0.80      0.80       214\n",
      "\n"
     ]
    }
   ],
   "source": [
    "from sklearn.metrics import classification_report\n",
    "\n",
    "gbc_preds = clf_gbc.predict(X_test_all)\n",
    "\n",
    "print(\"F1 Macro= {:.3f}\".format(f1_score(y_test, gbc_preds, average='macro')))\n",
    "print(classification_report(y_test, gbc_preds))"
   ]
  },
  {
   "cell_type": "markdown",
   "metadata": {},
   "source": [
    "#### Pipeline for SMOTE, PCA\n",
    "#### Pass the pipeline object into GridSearchCV for hyperparameter tuning with Stratified K-Folds = 5, and 3 jobs running in parallel"
   ]
  },
  {
   "cell_type": "code",
   "execution_count": 65,
   "metadata": {},
   "outputs": [],
   "source": [
    "from sklearn.feature_selection import RFE\n",
    "\n",
    "gbc = GradientBoostingClassifier(random_state=123)\n",
    "rfe = RFE(estimator=gbc, n_features_to_select=10)\n",
    "\n",
    "pipe2 = Pipeline([('sm', sm), ('pca', pca), ('rfe', rfe), ('gbc', gbc)]) \n",
    "\n",
    "param_gbc = {\n",
    "    'pca__n_components': [5, 10],\n",
    "    'rfe__n_features_to_select': [4, 5],\n",
    "    'gbc__learning_rate': [0.1, 0.184, 0.3],\n",
    "    'gbc__max_depth':[3, 2],\n",
    "    'gbc__min_samples_leaf': [1, 5],\n",
    "    'gbc__min_samples_split': [2, 10],\n",
    "    'gbc__subsample': [1, 0.4]\n",
    "}\n",
    "\n",
    "search_2 = GridSearchCV(pipe2, param_gbc, \n",
    "                      cv=5, n_jobs=3, scoring='f1_macro', return_train_score=True)"
   ]
  },
  {
   "cell_type": "code",
   "execution_count": 66,
   "metadata": {},
   "outputs": [],
   "source": [
    "search_gbc = search_2.fit(X_train_all, y_train)"
   ]
  },
  {
   "cell_type": "markdown",
   "metadata": {},
   "source": [
    "#### Best hyperparameter values after tuning"
   ]
  },
  {
   "cell_type": "code",
   "execution_count": 67,
   "metadata": {},
   "outputs": [
    {
     "data": {
      "text/plain": [
       "{'gbc__learning_rate': 0.3,\n",
       " 'gbc__max_depth': 2,\n",
       " 'gbc__min_samples_leaf': 1,\n",
       " 'gbc__min_samples_split': 10,\n",
       " 'gbc__subsample': 1,\n",
       " 'pca__n_components': 10,\n",
       " 'rfe__n_features_to_select': 4}"
      ]
     },
     "execution_count": 67,
     "metadata": {},
     "output_type": "execute_result"
    },
    {
     "data": {
      "text/plain": [
       "0.8216382911516483"
      ]
     },
     "execution_count": 67,
     "metadata": {},
     "output_type": "execute_result"
    },
    {
     "data": {
      "text/plain": [
       "Pipeline(memory=None,\n",
       "         steps=[('sm',\n",
       "                 SMOTE(k_neighbors=5, n_jobs=None, random_state=42,\n",
       "                       sampling_strategy='auto')),\n",
       "                ('pca',\n",
       "                 PCA(copy=True, iterated_power='auto', n_components=10,\n",
       "                     random_state=None, svd_solver='auto', tol=0.0,\n",
       "                     whiten=False)),\n",
       "                ('rfe',\n",
       "                 RFE(estimator=GradientBoostingClassifier(ccp_alpha=0.0,\n",
       "                                                          criterion='friedman_mse',\n",
       "                                                          init=None,\n",
       "                                                          learning_rate=0.1,\n",
       "                                                          loss='de...\n",
       "                                            learning_rate=0.3, loss='deviance',\n",
       "                                            max_depth=2, max_features=None,\n",
       "                                            max_leaf_nodes=None,\n",
       "                                            min_impurity_decrease=0.0,\n",
       "                                            min_impurity_split=None,\n",
       "                                            min_samples_leaf=1,\n",
       "                                            min_samples_split=10,\n",
       "                                            min_weight_fraction_leaf=0.0,\n",
       "                                            n_estimators=100,\n",
       "                                            n_iter_no_change=None,\n",
       "                                            presort='deprecated',\n",
       "                                            random_state=123, subsample=1,\n",
       "                                            tol=0.0001, validation_fraction=0.1,\n",
       "                                            verbose=0, warm_start=False))],\n",
       "         verbose=False)"
      ]
     },
     "execution_count": 67,
     "metadata": {},
     "output_type": "execute_result"
    }
   ],
   "source": [
    "search_gbc.best_params_\n",
    "search_gbc.best_score_\n",
    "search_gbc.best_estimator_"
   ]
  },
  {
   "cell_type": "markdown",
   "metadata": {},
   "source": [
    "#### Model performance after hyperparameter tuning"
   ]
  },
  {
   "cell_type": "code",
   "execution_count": 68,
   "metadata": {},
   "outputs": [
    {
     "name": "stdout",
     "output_type": "stream",
     "text": [
      "F1 Macro= 0.800\n",
      "              precision    recall  f1-score   support\n",
      "\n",
      "           0       0.75      0.77      0.76        84\n",
      "           1       0.85      0.83      0.84       130\n",
      "\n",
      "    accuracy                           0.81       214\n",
      "   macro avg       0.80      0.80      0.80       214\n",
      "weighted avg       0.81      0.81      0.81       214\n",
      "\n"
     ]
    }
   ],
   "source": [
    "gbc_bpreds = search_gbc.predict(X_test_all)\n",
    "\n",
    "print(\"F1 Macro= {:.3f}\".format(f1_score(y_test, gbc_bpreds, average='macro')))\n",
    "print(classification_report(y_test, gbc_bpreds))"
   ]
  },
  {
   "cell_type": "code",
   "execution_count": 69,
   "metadata": {},
   "outputs": [
    {
     "data": {
      "image/png": "[encoded data removed]",
      "text/plain": [
       "<Figure size 576x396 with 2 Axes>"
      ]
     },
     "metadata": {},
     "output_type": "display_data"
    }
   ],
   "source": [
    "from yellowbrick.classifier import classification_report, confusion_matrix\n",
    "\n",
    "visualizer_gbc = classification_report(search_gbc, X_train_all, y_train, X_test_all, y_test, classes = [0 ,1], support=True);"
   ]
  },
  {
   "cell_type": "code",
   "execution_count": 70,
   "metadata": {},
   "outputs": [
    {
     "data": {
      "image/png": "[encoded data removed]",
      "text/plain": [
       "<Figure size 576x396 with 1 Axes>"
      ]
     },
     "metadata": {},
     "output_type": "display_data"
    }
   ],
   "source": [
    "confusion_matrix(search_gbc, X_train_all, y_train, X_test_all, y_test, classes=[0, 1]);"
   ]
  },
  {
   "cell_type": "markdown",
   "metadata": {},
   "source": [
    "---\n",
    "### Model 3: Create CatBoost Classifier"
   ]
  },
  {
   "cell_type": "code",
   "execution_count": 71,
   "metadata": {},
   "outputs": [
    {
     "data": {
      "text/html": [
       "<style  type=\"text/css\" >\n",
       "    #T_b59ba92f_3da7_11eb_8ad5_3065ec67c176row5_col0 {\n",
       "            background:  yellow;\n",
       "        }    #T_b59ba92f_3da7_11eb_8ad5_3065ec67c176row5_col1 {\n",
       "            background:  yellow;\n",
       "        }    #T_b59ba92f_3da7_11eb_8ad5_3065ec67c176row5_col2 {\n",
       "            background:  yellow;\n",
       "        }    #T_b59ba92f_3da7_11eb_8ad5_3065ec67c176row5_col3 {\n",
       "            background:  yellow;\n",
       "        }    #T_b59ba92f_3da7_11eb_8ad5_3065ec67c176row5_col4 {\n",
       "            background:  yellow;\n",
       "        }    #T_b59ba92f_3da7_11eb_8ad5_3065ec67c176row5_col5 {\n",
       "            background:  yellow;\n",
       "        }    #T_b59ba92f_3da7_11eb_8ad5_3065ec67c176row5_col6 {\n",
       "            background:  yellow;\n",
       "        }    #T_b59ba92f_3da7_11eb_8ad5_3065ec67c176row5_col7 {\n",
       "            background:  yellow;\n",
       "        }    #T_b59ba92f_3da7_11eb_8ad5_3065ec67c176row5_col8 {\n",
       "            background:  yellow;\n",
       "        }</style><table id=\"T_b59ba92f_3da7_11eb_8ad5_3065ec67c176\" ><thead>    <tr>        <th class=\"blank level0\" ></th>        <th class=\"col_heading level0 col0\" >Accuracy</th>        <th class=\"col_heading level0 col1\" >AUC</th>        <th class=\"col_heading level0 col2\" >Recall</th>        <th class=\"col_heading level0 col3\" >Prec.</th>        <th class=\"col_heading level0 col4\" >F1</th>        <th class=\"col_heading level0 col5\" >Kappa</th>        <th class=\"col_heading level0 col6\" >MCC</th>        <th class=\"col_heading level0 col7\" >F1 Mac</th>        <th class=\"col_heading level0 col8\" >Prec. Mac</th>    </tr></thead><tbody>\n",
       "                <tr>\n",
       "                        <th id=\"T_b59ba92f_3da7_11eb_8ad5_3065ec67c176level0_row0\" class=\"row_heading level0 row0\" >0</th>\n",
       "                        <td id=\"T_b59ba92f_3da7_11eb_8ad5_3065ec67c176row0_col0\" class=\"data row0 col0\" >0.8037</td>\n",
       "                        <td id=\"T_b59ba92f_3da7_11eb_8ad5_3065ec67c176row0_col1\" class=\"data row0 col1\" >0.8884</td>\n",
       "                        <td id=\"T_b59ba92f_3da7_11eb_8ad5_3065ec67c176row0_col2\" class=\"data row0 col2\" >0.8163</td>\n",
       "                        <td id=\"T_b59ba92f_3da7_11eb_8ad5_3065ec67c176row0_col3\" class=\"data row0 col3\" >0.8511</td>\n",
       "                        <td id=\"T_b59ba92f_3da7_11eb_8ad5_3065ec67c176row0_col4\" class=\"data row0 col4\" >0.8333</td>\n",
       "                        <td id=\"T_b59ba92f_3da7_11eb_8ad5_3065ec67c176row0_col5\" class=\"data row0 col5\" >0.5948</td>\n",
       "                        <td id=\"T_b59ba92f_3da7_11eb_8ad5_3065ec67c176row0_col6\" class=\"data row0 col6\" >0.5955</td>\n",
       "                        <td id=\"T_b59ba92f_3da7_11eb_8ad5_3065ec67c176row0_col7\" class=\"data row0 col7\" >0.7973</td>\n",
       "                        <td id=\"T_b59ba92f_3da7_11eb_8ad5_3065ec67c176row0_col8\" class=\"data row0 col8\" >0.7951</td>\n",
       "            </tr>\n",
       "            <tr>\n",
       "                        <th id=\"T_b59ba92f_3da7_11eb_8ad5_3065ec67c176level0_row1\" class=\"row_heading level0 row1\" >1</th>\n",
       "                        <td id=\"T_b59ba92f_3da7_11eb_8ad5_3065ec67c176row1_col0\" class=\"data row1 col0\" >0.8098</td>\n",
       "                        <td id=\"T_b59ba92f_3da7_11eb_8ad5_3065ec67c176row1_col1\" class=\"data row1 col1\" >0.8933</td>\n",
       "                        <td id=\"T_b59ba92f_3da7_11eb_8ad5_3065ec67c176row1_col2\" class=\"data row1 col2\" >0.8571</td>\n",
       "                        <td id=\"T_b59ba92f_3da7_11eb_8ad5_3065ec67c176row1_col3\" class=\"data row1 col3\" >0.8317</td>\n",
       "                        <td id=\"T_b59ba92f_3da7_11eb_8ad5_3065ec67c176row1_col4\" class=\"data row1 col4\" >0.8442</td>\n",
       "                        <td id=\"T_b59ba92f_3da7_11eb_8ad5_3065ec67c176row1_col5\" class=\"data row1 col5\" >0.6003</td>\n",
       "                        <td id=\"T_b59ba92f_3da7_11eb_8ad5_3065ec67c176row1_col6\" class=\"data row1 col6\" >0.6007</td>\n",
       "                        <td id=\"T_b59ba92f_3da7_11eb_8ad5_3065ec67c176row1_col7\" class=\"data row1 col7\" >0.8001</td>\n",
       "                        <td id=\"T_b59ba92f_3da7_11eb_8ad5_3065ec67c176row1_col8\" class=\"data row1 col8\" >0.8029</td>\n",
       "            </tr>\n",
       "            <tr>\n",
       "                        <th id=\"T_b59ba92f_3da7_11eb_8ad5_3065ec67c176level0_row2\" class=\"row_heading level0 row2\" >2</th>\n",
       "                        <td id=\"T_b59ba92f_3da7_11eb_8ad5_3065ec67c176row2_col0\" class=\"data row2 col0\" >0.8160</td>\n",
       "                        <td id=\"T_b59ba92f_3da7_11eb_8ad5_3065ec67c176row2_col1\" class=\"data row2 col1\" >0.8971</td>\n",
       "                        <td id=\"T_b59ba92f_3da7_11eb_8ad5_3065ec67c176row2_col2\" class=\"data row2 col2\" >0.8182</td>\n",
       "                        <td id=\"T_b59ba92f_3da7_11eb_8ad5_3065ec67c176row2_col3\" class=\"data row2 col3\" >0.8710</td>\n",
       "                        <td id=\"T_b59ba92f_3da7_11eb_8ad5_3065ec67c176row2_col4\" class=\"data row2 col4\" >0.8438</td>\n",
       "                        <td id=\"T_b59ba92f_3da7_11eb_8ad5_3065ec67c176row2_col5\" class=\"data row2 col5\" >0.6204</td>\n",
       "                        <td id=\"T_b59ba92f_3da7_11eb_8ad5_3065ec67c176row2_col6\" class=\"data row2 col6\" >0.6222</td>\n",
       "                        <td id=\"T_b59ba92f_3da7_11eb_8ad5_3065ec67c176row2_col7\" class=\"data row2 col7\" >0.8099</td>\n",
       "                        <td id=\"T_b59ba92f_3da7_11eb_8ad5_3065ec67c176row2_col8\" class=\"data row2 col8\" >0.8069</td>\n",
       "            </tr>\n",
       "            <tr>\n",
       "                        <th id=\"T_b59ba92f_3da7_11eb_8ad5_3065ec67c176level0_row3\" class=\"row_heading level0 row3\" >3</th>\n",
       "                        <td id=\"T_b59ba92f_3da7_11eb_8ad5_3065ec67c176row3_col0\" class=\"data row3 col0\" >0.8210</td>\n",
       "                        <td id=\"T_b59ba92f_3da7_11eb_8ad5_3065ec67c176row3_col1\" class=\"data row3 col1\" >0.8764</td>\n",
       "                        <td id=\"T_b59ba92f_3da7_11eb_8ad5_3065ec67c176row3_col2\" class=\"data row3 col2\" >0.8265</td>\n",
       "                        <td id=\"T_b59ba92f_3da7_11eb_8ad5_3065ec67c176row3_col3\" class=\"data row3 col3\" >0.8710</td>\n",
       "                        <td id=\"T_b59ba92f_3da7_11eb_8ad5_3065ec67c176row3_col4\" class=\"data row3 col4\" >0.8482</td>\n",
       "                        <td id=\"T_b59ba92f_3da7_11eb_8ad5_3065ec67c176row3_col5\" class=\"data row3 col5\" >0.6305</td>\n",
       "                        <td id=\"T_b59ba92f_3da7_11eb_8ad5_3065ec67c176row3_col6\" class=\"data row3 col6\" >0.6318</td>\n",
       "                        <td id=\"T_b59ba92f_3da7_11eb_8ad5_3065ec67c176row3_col7\" class=\"data row3 col7\" >0.8151</td>\n",
       "                        <td id=\"T_b59ba92f_3da7_11eb_8ad5_3065ec67c176row3_col8\" class=\"data row3 col8\" >0.8123</td>\n",
       "            </tr>\n",
       "            <tr>\n",
       "                        <th id=\"T_b59ba92f_3da7_11eb_8ad5_3065ec67c176level0_row4\" class=\"row_heading level0 row4\" >4</th>\n",
       "                        <td id=\"T_b59ba92f_3da7_11eb_8ad5_3065ec67c176row4_col0\" class=\"data row4 col0\" >0.7901</td>\n",
       "                        <td id=\"T_b59ba92f_3da7_11eb_8ad5_3065ec67c176row4_col1\" class=\"data row4 col1\" >0.8430</td>\n",
       "                        <td id=\"T_b59ba92f_3da7_11eb_8ad5_3065ec67c176row4_col2\" class=\"data row4 col2\" >0.8265</td>\n",
       "                        <td id=\"T_b59ba92f_3da7_11eb_8ad5_3065ec67c176row4_col3\" class=\"data row4 col3\" >0.8265</td>\n",
       "                        <td id=\"T_b59ba92f_3da7_11eb_8ad5_3065ec67c176row4_col4\" class=\"data row4 col4\" >0.8265</td>\n",
       "                        <td id=\"T_b59ba92f_3da7_11eb_8ad5_3065ec67c176row4_col5\" class=\"data row4 col5\" >0.5609</td>\n",
       "                        <td id=\"T_b59ba92f_3da7_11eb_8ad5_3065ec67c176row4_col6\" class=\"data row4 col6\" >0.5609</td>\n",
       "                        <td id=\"T_b59ba92f_3da7_11eb_8ad5_3065ec67c176row4_col7\" class=\"data row4 col7\" >0.7805</td>\n",
       "                        <td id=\"T_b59ba92f_3da7_11eb_8ad5_3065ec67c176row4_col8\" class=\"data row4 col8\" >0.7805</td>\n",
       "            </tr>\n",
       "            <tr>\n",
       "                        <th id=\"T_b59ba92f_3da7_11eb_8ad5_3065ec67c176level0_row5\" class=\"row_heading level0 row5\" >Mean</th>\n",
       "                        <td id=\"T_b59ba92f_3da7_11eb_8ad5_3065ec67c176row5_col0\" class=\"data row5 col0\" >0.8081</td>\n",
       "                        <td id=\"T_b59ba92f_3da7_11eb_8ad5_3065ec67c176row5_col1\" class=\"data row5 col1\" >0.8796</td>\n",
       "                        <td id=\"T_b59ba92f_3da7_11eb_8ad5_3065ec67c176row5_col2\" class=\"data row5 col2\" >0.8289</td>\n",
       "                        <td id=\"T_b59ba92f_3da7_11eb_8ad5_3065ec67c176row5_col3\" class=\"data row5 col3\" >0.8502</td>\n",
       "                        <td id=\"T_b59ba92f_3da7_11eb_8ad5_3065ec67c176row5_col4\" class=\"data row5 col4\" >0.8392</td>\n",
       "                        <td id=\"T_b59ba92f_3da7_11eb_8ad5_3065ec67c176row5_col5\" class=\"data row5 col5\" >0.6014</td>\n",
       "                        <td id=\"T_b59ba92f_3da7_11eb_8ad5_3065ec67c176row5_col6\" class=\"data row5 col6\" >0.6022</td>\n",
       "                        <td id=\"T_b59ba92f_3da7_11eb_8ad5_3065ec67c176row5_col7\" class=\"data row5 col7\" >0.8006</td>\n",
       "                        <td id=\"T_b59ba92f_3da7_11eb_8ad5_3065ec67c176row5_col8\" class=\"data row5 col8\" >0.7995</td>\n",
       "            </tr>\n",
       "            <tr>\n",
       "                        <th id=\"T_b59ba92f_3da7_11eb_8ad5_3065ec67c176level0_row6\" class=\"row_heading level0 row6\" >SD</th>\n",
       "                        <td id=\"T_b59ba92f_3da7_11eb_8ad5_3065ec67c176row6_col0\" class=\"data row6 col0\" >0.0107</td>\n",
       "                        <td id=\"T_b59ba92f_3da7_11eb_8ad5_3065ec67c176row6_col1\" class=\"data row6 col1\" >0.0196</td>\n",
       "                        <td id=\"T_b59ba92f_3da7_11eb_8ad5_3065ec67c176row6_col2\" class=\"data row6 col2\" >0.0147</td>\n",
       "                        <td id=\"T_b59ba92f_3da7_11eb_8ad5_3065ec67c176row6_col3\" class=\"data row6 col3\" >0.0188</td>\n",
       "                        <td id=\"T_b59ba92f_3da7_11eb_8ad5_3065ec67c176row6_col4\" class=\"data row6 col4\" >0.0080</td>\n",
       "                        <td id=\"T_b59ba92f_3da7_11eb_8ad5_3065ec67c176row6_col5\" class=\"data row6 col5\" >0.0240</td>\n",
       "                        <td id=\"T_b59ba92f_3da7_11eb_8ad5_3065ec67c176row6_col6\" class=\"data row6 col6\" >0.0246</td>\n",
       "                        <td id=\"T_b59ba92f_3da7_11eb_8ad5_3065ec67c176row6_col7\" class=\"data row6 col7\" >0.0119</td>\n",
       "                        <td id=\"T_b59ba92f_3da7_11eb_8ad5_3065ec67c176row6_col8\" class=\"data row6 col8\" >0.0111</td>\n",
       "            </tr>\n",
       "    </tbody></table>"
      ],
      "text/plain": [
       "<pandas.io.formats.style.Styler at 0x2ea7e9e14f0>"
      ]
     },
     "metadata": {},
     "output_type": "display_data"
    }
   ],
   "source": [
    "cb = create_model('catboost')"
   ]
  },
  {
   "cell_type": "markdown",
   "metadata": {},
   "source": [
    "#### Tune CatBoost Classifier to optimize F1 Macro score, with 30 iterations"
   ]
  },
  {
   "cell_type": "code",
   "execution_count": 72,
   "metadata": {},
   "outputs": [
    {
     "data": {
      "text/html": [
       "<style  type=\"text/css\" >\n",
       "    #T_d2b9d808_3da7_11eb_a1cf_3065ec67c176row5_col0 {\n",
       "            background:  yellow;\n",
       "        }    #T_d2b9d808_3da7_11eb_a1cf_3065ec67c176row5_col1 {\n",
       "            background:  yellow;\n",
       "        }    #T_d2b9d808_3da7_11eb_a1cf_3065ec67c176row5_col2 {\n",
       "            background:  yellow;\n",
       "        }    #T_d2b9d808_3da7_11eb_a1cf_3065ec67c176row5_col3 {\n",
       "            background:  yellow;\n",
       "        }    #T_d2b9d808_3da7_11eb_a1cf_3065ec67c176row5_col4 {\n",
       "            background:  yellow;\n",
       "        }    #T_d2b9d808_3da7_11eb_a1cf_3065ec67c176row5_col5 {\n",
       "            background:  yellow;\n",
       "        }    #T_d2b9d808_3da7_11eb_a1cf_3065ec67c176row5_col6 {\n",
       "            background:  yellow;\n",
       "        }    #T_d2b9d808_3da7_11eb_a1cf_3065ec67c176row5_col7 {\n",
       "            background:  yellow;\n",
       "        }    #T_d2b9d808_3da7_11eb_a1cf_3065ec67c176row5_col8 {\n",
       "            background:  yellow;\n",
       "        }</style><table id=\"T_d2b9d808_3da7_11eb_a1cf_3065ec67c176\" ><thead>    <tr>        <th class=\"blank level0\" ></th>        <th class=\"col_heading level0 col0\" >Accuracy</th>        <th class=\"col_heading level0 col1\" >AUC</th>        <th class=\"col_heading level0 col2\" >Recall</th>        <th class=\"col_heading level0 col3\" >Prec.</th>        <th class=\"col_heading level0 col4\" >F1</th>        <th class=\"col_heading level0 col5\" >Kappa</th>        <th class=\"col_heading level0 col6\" >MCC</th>        <th class=\"col_heading level0 col7\" >F1 Mac</th>        <th class=\"col_heading level0 col8\" >Prec. Mac</th>    </tr></thead><tbody>\n",
       "                <tr>\n",
       "                        <th id=\"T_d2b9d808_3da7_11eb_a1cf_3065ec67c176level0_row0\" class=\"row_heading level0 row0\" >0</th>\n",
       "                        <td id=\"T_d2b9d808_3da7_11eb_a1cf_3065ec67c176row0_col0\" class=\"data row0 col0\" >0.8282</td>\n",
       "                        <td id=\"T_d2b9d808_3da7_11eb_a1cf_3065ec67c176row0_col1\" class=\"data row0 col1\" >0.8874</td>\n",
       "                        <td id=\"T_d2b9d808_3da7_11eb_a1cf_3065ec67c176row0_col2\" class=\"data row0 col2\" >0.8469</td>\n",
       "                        <td id=\"T_d2b9d808_3da7_11eb_a1cf_3065ec67c176row0_col3\" class=\"data row0 col3\" >0.8646</td>\n",
       "                        <td id=\"T_d2b9d808_3da7_11eb_a1cf_3065ec67c176row0_col4\" class=\"data row0 col4\" >0.8557</td>\n",
       "                        <td id=\"T_d2b9d808_3da7_11eb_a1cf_3065ec67c176row0_col5\" class=\"data row0 col5\" >0.6436</td>\n",
       "                        <td id=\"T_d2b9d808_3da7_11eb_a1cf_3065ec67c176row0_col6\" class=\"data row0 col6\" >0.6438</td>\n",
       "                        <td id=\"T_d2b9d808_3da7_11eb_a1cf_3065ec67c176row0_col7\" class=\"data row0 col7\" >0.8218</td>\n",
       "                        <td id=\"T_d2b9d808_3da7_11eb_a1cf_3065ec67c176row0_col8\" class=\"data row0 col8\" >0.8204</td>\n",
       "            </tr>\n",
       "            <tr>\n",
       "                        <th id=\"T_d2b9d808_3da7_11eb_a1cf_3065ec67c176level0_row1\" class=\"row_heading level0 row1\" >1</th>\n",
       "                        <td id=\"T_d2b9d808_3da7_11eb_a1cf_3065ec67c176row1_col0\" class=\"data row1 col0\" >0.8466</td>\n",
       "                        <td id=\"T_d2b9d808_3da7_11eb_a1cf_3065ec67c176row1_col1\" class=\"data row1 col1\" >0.9133</td>\n",
       "                        <td id=\"T_d2b9d808_3da7_11eb_a1cf_3065ec67c176row1_col2\" class=\"data row1 col2\" >0.8673</td>\n",
       "                        <td id=\"T_d2b9d808_3da7_11eb_a1cf_3065ec67c176row1_col3\" class=\"data row1 col3\" >0.8763</td>\n",
       "                        <td id=\"T_d2b9d808_3da7_11eb_a1cf_3065ec67c176row1_col4\" class=\"data row1 col4\" >0.8718</td>\n",
       "                        <td id=\"T_d2b9d808_3da7_11eb_a1cf_3065ec67c176row1_col5\" class=\"data row1 col5\" >0.6810</td>\n",
       "                        <td id=\"T_d2b9d808_3da7_11eb_a1cf_3065ec67c176row1_col6\" class=\"data row1 col6\" >0.6810</td>\n",
       "                        <td id=\"T_d2b9d808_3da7_11eb_a1cf_3065ec67c176row1_col7\" class=\"data row1 col7\" >0.8405</td>\n",
       "                        <td id=\"T_d2b9d808_3da7_11eb_a1cf_3065ec67c176row1_col8\" class=\"data row1 col8\" >0.8397</td>\n",
       "            </tr>\n",
       "            <tr>\n",
       "                        <th id=\"T_d2b9d808_3da7_11eb_a1cf_3065ec67c176level0_row2\" class=\"row_heading level0 row2\" >2</th>\n",
       "                        <td id=\"T_d2b9d808_3da7_11eb_a1cf_3065ec67c176row2_col0\" class=\"data row2 col0\" >0.8037</td>\n",
       "                        <td id=\"T_d2b9d808_3da7_11eb_a1cf_3065ec67c176row2_col1\" class=\"data row2 col1\" >0.8920</td>\n",
       "                        <td id=\"T_d2b9d808_3da7_11eb_a1cf_3065ec67c176row2_col2\" class=\"data row2 col2\" >0.8182</td>\n",
       "                        <td id=\"T_d2b9d808_3da7_11eb_a1cf_3065ec67c176row2_col3\" class=\"data row2 col3\" >0.8526</td>\n",
       "                        <td id=\"T_d2b9d808_3da7_11eb_a1cf_3065ec67c176row2_col4\" class=\"data row2 col4\" >0.8351</td>\n",
       "                        <td id=\"T_d2b9d808_3da7_11eb_a1cf_3065ec67c176row2_col5\" class=\"data row2 col5\" >0.5929</td>\n",
       "                        <td id=\"T_d2b9d808_3da7_11eb_a1cf_3065ec67c176row2_col6\" class=\"data row2 col6\" >0.5937</td>\n",
       "                        <td id=\"T_d2b9d808_3da7_11eb_a1cf_3065ec67c176row2_col7\" class=\"data row2 col7\" >0.7963</td>\n",
       "                        <td id=\"T_d2b9d808_3da7_11eb_a1cf_3065ec67c176row2_col8\" class=\"data row2 col8\" >0.7940</td>\n",
       "            </tr>\n",
       "            <tr>\n",
       "                        <th id=\"T_d2b9d808_3da7_11eb_a1cf_3065ec67c176level0_row3\" class=\"row_heading level0 row3\" >3</th>\n",
       "                        <td id=\"T_d2b9d808_3da7_11eb_a1cf_3065ec67c176row3_col0\" class=\"data row3 col0\" >0.7963</td>\n",
       "                        <td id=\"T_d2b9d808_3da7_11eb_a1cf_3065ec67c176row3_col1\" class=\"data row3 col1\" >0.8808</td>\n",
       "                        <td id=\"T_d2b9d808_3da7_11eb_a1cf_3065ec67c176row3_col2\" class=\"data row3 col2\" >0.7857</td>\n",
       "                        <td id=\"T_d2b9d808_3da7_11eb_a1cf_3065ec67c176row3_col3\" class=\"data row3 col3\" >0.8652</td>\n",
       "                        <td id=\"T_d2b9d808_3da7_11eb_a1cf_3065ec67c176row3_col4\" class=\"data row3 col4\" >0.8235</td>\n",
       "                        <td id=\"T_d2b9d808_3da7_11eb_a1cf_3065ec67c176row3_col5\" class=\"data row3 col5\" >0.5840</td>\n",
       "                        <td id=\"T_d2b9d808_3da7_11eb_a1cf_3065ec67c176row3_col6\" class=\"data row3 col6\" >0.5878</td>\n",
       "                        <td id=\"T_d2b9d808_3da7_11eb_a1cf_3065ec67c176row3_col7\" class=\"data row3 col7\" >0.7913</td>\n",
       "                        <td id=\"T_d2b9d808_3da7_11eb_a1cf_3065ec67c176row3_col8\" class=\"data row3 col8\" >0.7887</td>\n",
       "            </tr>\n",
       "            <tr>\n",
       "                        <th id=\"T_d2b9d808_3da7_11eb_a1cf_3065ec67c176level0_row4\" class=\"row_heading level0 row4\" >4</th>\n",
       "                        <td id=\"T_d2b9d808_3da7_11eb_a1cf_3065ec67c176row4_col0\" class=\"data row4 col0\" >0.8210</td>\n",
       "                        <td id=\"T_d2b9d808_3da7_11eb_a1cf_3065ec67c176row4_col1\" class=\"data row4 col1\" >0.8551</td>\n",
       "                        <td id=\"T_d2b9d808_3da7_11eb_a1cf_3065ec67c176row4_col2\" class=\"data row4 col2\" >0.8163</td>\n",
       "                        <td id=\"T_d2b9d808_3da7_11eb_a1cf_3065ec67c176row4_col3\" class=\"data row4 col3\" >0.8791</td>\n",
       "                        <td id=\"T_d2b9d808_3da7_11eb_a1cf_3065ec67c176row4_col4\" class=\"data row4 col4\" >0.8466</td>\n",
       "                        <td id=\"T_d2b9d808_3da7_11eb_a1cf_3065ec67c176row4_col5\" class=\"data row4 col5\" >0.6325</td>\n",
       "                        <td id=\"T_d2b9d808_3da7_11eb_a1cf_3065ec67c176row4_col6\" class=\"data row4 col6\" >0.6350</td>\n",
       "                        <td id=\"T_d2b9d808_3da7_11eb_a1cf_3065ec67c176row4_col7\" class=\"data row4 col7\" >0.8159</td>\n",
       "                        <td id=\"T_d2b9d808_3da7_11eb_a1cf_3065ec67c176row4_col8\" class=\"data row4 col8\" >0.8128</td>\n",
       "            </tr>\n",
       "            <tr>\n",
       "                        <th id=\"T_d2b9d808_3da7_11eb_a1cf_3065ec67c176level0_row5\" class=\"row_heading level0 row5\" >Mean</th>\n",
       "                        <td id=\"T_d2b9d808_3da7_11eb_a1cf_3065ec67c176row5_col0\" class=\"data row5 col0\" >0.8192</td>\n",
       "                        <td id=\"T_d2b9d808_3da7_11eb_a1cf_3065ec67c176row5_col1\" class=\"data row5 col1\" >0.8857</td>\n",
       "                        <td id=\"T_d2b9d808_3da7_11eb_a1cf_3065ec67c176row5_col2\" class=\"data row5 col2\" >0.8269</td>\n",
       "                        <td id=\"T_d2b9d808_3da7_11eb_a1cf_3065ec67c176row5_col3\" class=\"data row5 col3\" >0.8676</td>\n",
       "                        <td id=\"T_d2b9d808_3da7_11eb_a1cf_3065ec67c176row5_col4\" class=\"data row5 col4\" >0.8465</td>\n",
       "                        <td id=\"T_d2b9d808_3da7_11eb_a1cf_3065ec67c176row5_col5\" class=\"data row5 col5\" >0.6268</td>\n",
       "                        <td id=\"T_d2b9d808_3da7_11eb_a1cf_3065ec67c176row5_col6\" class=\"data row5 col6\" >0.6282</td>\n",
       "                        <td id=\"T_d2b9d808_3da7_11eb_a1cf_3065ec67c176row5_col7\" class=\"data row5 col7\" >0.8132</td>\n",
       "                        <td id=\"T_d2b9d808_3da7_11eb_a1cf_3065ec67c176row5_col8\" class=\"data row5 col8\" >0.8111</td>\n",
       "            </tr>\n",
       "            <tr>\n",
       "                        <th id=\"T_d2b9d808_3da7_11eb_a1cf_3065ec67c176level0_row6\" class=\"row_heading level0 row6\" >SD</th>\n",
       "                        <td id=\"T_d2b9d808_3da7_11eb_a1cf_3065ec67c176row6_col0\" class=\"data row6 col0\" >0.0179</td>\n",
       "                        <td id=\"T_d2b9d808_3da7_11eb_a1cf_3065ec67c176row6_col1\" class=\"data row6 col1\" >0.0188</td>\n",
       "                        <td id=\"T_d2b9d808_3da7_11eb_a1cf_3065ec67c176row6_col2\" class=\"data row6 col2\" >0.0280</td>\n",
       "                        <td id=\"T_d2b9d808_3da7_11eb_a1cf_3065ec67c176row6_col3\" class=\"data row6 col3\" >0.0095</td>\n",
       "                        <td id=\"T_d2b9d808_3da7_11eb_a1cf_3065ec67c176row6_col4\" class=\"data row6 col4\" >0.0166</td>\n",
       "                        <td id=\"T_d2b9d808_3da7_11eb_a1cf_3065ec67c176row6_col5\" class=\"data row6 col5\" >0.0353</td>\n",
       "                        <td id=\"T_d2b9d808_3da7_11eb_a1cf_3065ec67c176row6_col6\" class=\"data row6 col6\" >0.0344</td>\n",
       "                        <td id=\"T_d2b9d808_3da7_11eb_a1cf_3065ec67c176row6_col7\" class=\"data row6 col7\" >0.0178</td>\n",
       "                        <td id=\"T_d2b9d808_3da7_11eb_a1cf_3065ec67c176row6_col8\" class=\"data row6 col8\" >0.0184</td>\n",
       "            </tr>\n",
       "    </tbody></table>"
      ],
      "text/plain": [
       "<pandas.io.formats.style.Styler at 0x2ea77f6b0a0>"
      ]
     },
     "metadata": {},
     "output_type": "display_data"
    }
   ],
   "source": [
    "tuned_cb = tune_model(cb, optimize = 'F1 Mac', n_iter=30)"
   ]
  },
  {
   "cell_type": "markdown",
   "metadata": {},
   "source": [
    "#### Plot tuned CatBoost Classifier to visualize model - ROC Curve"
   ]
  },
  {
   "cell_type": "code",
   "execution_count": 73,
   "metadata": {},
   "outputs": [
    {
     "data": {
      "image/png": "[encoded data removed]",
      "text/plain": [
       "<Figure size 576x396 with 1 Axes>"
      ]
     },
     "metadata": {},
     "output_type": "display_data"
    }
   ],
   "source": [
    "plot_model(tuned_cb)"
   ]
  },
  {
   "cell_type": "markdown",
   "metadata": {},
   "source": [
    "#### CatBoost Classifier parameters before tuning"
   ]
  },
  {
   "cell_type": "code",
   "execution_count": 74,
   "metadata": {},
   "outputs": [
    {
     "data": {
      "text/html": [
       "<div>\n",
       "<style scoped>\n",
       "    .dataframe tbody tr th:only-of-type {\n",
       "        vertical-align: middle;\n",
       "    }\n",
       "\n",
       "    .dataframe tbody tr th {\n",
       "        vertical-align: top;\n",
       "    }\n",
       "\n",
       "    .dataframe thead th {\n",
       "        text-align: right;\n",
       "    }\n",
       "</style>\n",
       "<table border=\"1\" class=\"dataframe\">\n",
       "  <thead>\n",
       "    <tr style=\"text-align: right;\">\n",
       "      <th></th>\n",
       "      <th>Parameters</th>\n",
       "    </tr>\n",
       "  </thead>\n",
       "  <tbody>\n",
       "    <tr>\n",
       "      <th>nan_mode</th>\n",
       "      <td>Min</td>\n",
       "    </tr>\n",
       "    <tr>\n",
       "      <th>eval_metric</th>\n",
       "      <td>Logloss</td>\n",
       "    </tr>\n",
       "    <tr>\n",
       "      <th>iterations</th>\n",
       "      <td>1000</td>\n",
       "    </tr>\n",
       "    <tr>\n",
       "      <th>sampling_frequency</th>\n",
       "      <td>PerTree</td>\n",
       "    </tr>\n",
       "    <tr>\n",
       "      <th>leaf_estimation_method</th>\n",
       "      <td>Newton</td>\n",
       "    </tr>\n",
       "    <tr>\n",
       "      <th>grow_policy</th>\n",
       "      <td>SymmetricTree</td>\n",
       "    </tr>\n",
       "    <tr>\n",
       "      <th>penalties_coefficient</th>\n",
       "      <td>1</td>\n",
       "    </tr>\n",
       "    <tr>\n",
       "      <th>boosting_type</th>\n",
       "      <td>Plain</td>\n",
       "    </tr>\n",
       "    <tr>\n",
       "      <th>model_shrink_mode</th>\n",
       "      <td>Constant</td>\n",
       "    </tr>\n",
       "    <tr>\n",
       "      <th>feature_border_type</th>\n",
       "      <td>GreedyLogSum</td>\n",
       "    </tr>\n",
       "    <tr>\n",
       "      <th>bayesian_matrix_reg</th>\n",
       "      <td>0.10000000149011612</td>\n",
       "    </tr>\n",
       "    <tr>\n",
       "      <th>l2_leaf_reg</th>\n",
       "      <td>3</td>\n",
       "    </tr>\n",
       "    <tr>\n",
       "      <th>random_strength</th>\n",
       "      <td>1</td>\n",
       "    </tr>\n",
       "    <tr>\n",
       "      <th>rsm</th>\n",
       "      <td>1</td>\n",
       "    </tr>\n",
       "    <tr>\n",
       "      <th>boost_from_average</th>\n",
       "      <td>False</td>\n",
       "    </tr>\n",
       "    <tr>\n",
       "      <th>model_size_reg</th>\n",
       "      <td>0.5</td>\n",
       "    </tr>\n",
       "    <tr>\n",
       "      <th>subsample</th>\n",
       "      <td>0.800000011920929</td>\n",
       "    </tr>\n",
       "    <tr>\n",
       "      <th>use_best_model</th>\n",
       "      <td>False</td>\n",
       "    </tr>\n",
       "    <tr>\n",
       "      <th>class_names</th>\n",
       "      <td>[0, 1]</td>\n",
       "    </tr>\n",
       "    <tr>\n",
       "      <th>random_seed</th>\n",
       "      <td>123</td>\n",
       "    </tr>\n",
       "    <tr>\n",
       "      <th>depth</th>\n",
       "      <td>6</td>\n",
       "    </tr>\n",
       "    <tr>\n",
       "      <th>posterior_sampling</th>\n",
       "      <td>False</td>\n",
       "    </tr>\n",
       "    <tr>\n",
       "      <th>border_count</th>\n",
       "      <td>254</td>\n",
       "    </tr>\n",
       "    <tr>\n",
       "      <th>classes_count</th>\n",
       "      <td>0</td>\n",
       "    </tr>\n",
       "    <tr>\n",
       "      <th>auto_class_weights</th>\n",
       "      <td>None</td>\n",
       "    </tr>\n",
       "    <tr>\n",
       "      <th>sparse_features_conflict_fraction</th>\n",
       "      <td>0</td>\n",
       "    </tr>\n",
       "    <tr>\n",
       "      <th>leaf_estimation_backtracking</th>\n",
       "      <td>AnyImprovement</td>\n",
       "    </tr>\n",
       "    <tr>\n",
       "      <th>best_model_min_trees</th>\n",
       "      <td>1</td>\n",
       "    </tr>\n",
       "    <tr>\n",
       "      <th>model_shrink_rate</th>\n",
       "      <td>0</td>\n",
       "    </tr>\n",
       "    <tr>\n",
       "      <th>min_data_in_leaf</th>\n",
       "      <td>1</td>\n",
       "    </tr>\n",
       "    <tr>\n",
       "      <th>loss_function</th>\n",
       "      <td>Logloss</td>\n",
       "    </tr>\n",
       "    <tr>\n",
       "      <th>learning_rate</th>\n",
       "      <td>0.010223000310361384</td>\n",
       "    </tr>\n",
       "    <tr>\n",
       "      <th>score_function</th>\n",
       "      <td>Cosine</td>\n",
       "    </tr>\n",
       "    <tr>\n",
       "      <th>task_type</th>\n",
       "      <td>CPU</td>\n",
       "    </tr>\n",
       "    <tr>\n",
       "      <th>leaf_estimation_iterations</th>\n",
       "      <td>10</td>\n",
       "    </tr>\n",
       "    <tr>\n",
       "      <th>bootstrap_type</th>\n",
       "      <td>MVS</td>\n",
       "    </tr>\n",
       "    <tr>\n",
       "      <th>max_leaves</th>\n",
       "      <td>64</td>\n",
       "    </tr>\n",
       "  </tbody>\n",
       "</table>\n",
       "</div>"
      ],
      "text/plain": [
       "                                             Parameters\n",
       "nan_mode                                            Min\n",
       "eval_metric                                     Logloss\n",
       "iterations                                         1000\n",
       "sampling_frequency                              PerTree\n",
       "leaf_estimation_method                           Newton\n",
       "grow_policy                               SymmetricTree\n",
       "penalties_coefficient                                 1\n",
       "boosting_type                                     Plain\n",
       "model_shrink_mode                              Constant\n",
       "feature_border_type                        GreedyLogSum\n",
       "bayesian_matrix_reg                 0.10000000149011612\n",
       "l2_leaf_reg                                           3\n",
       "random_strength                                       1\n",
       "rsm                                                   1\n",
       "boost_from_average                                False\n",
       "model_size_reg                                      0.5\n",
       "subsample                             0.800000011920929\n",
       "use_best_model                                    False\n",
       "class_names                                      [0, 1]\n",
       "random_seed                                         123\n",
       "depth                                                 6\n",
       "posterior_sampling                                False\n",
       "border_count                                        254\n",
       "classes_count                                         0\n",
       "auto_class_weights                                 None\n",
       "sparse_features_conflict_fraction                     0\n",
       "leaf_estimation_backtracking             AnyImprovement\n",
       "best_model_min_trees                                  1\n",
       "model_shrink_rate                                     0\n",
       "min_data_in_leaf                                      1\n",
       "loss_function                                   Logloss\n",
       "learning_rate                      0.010223000310361384\n",
       "score_function                                   Cosine\n",
       "task_type                                           CPU\n",
       "leaf_estimation_iterations                           10\n",
       "bootstrap_type                                      MVS\n",
       "max_leaves                                           64"
      ]
     },
     "metadata": {},
     "output_type": "display_data"
    }
   ],
   "source": [
    "plot_model(cb, plot = 'parameter')"
   ]
  },
  {
   "cell_type": "markdown",
   "metadata": {},
   "source": [
    "#### CatBoost Classifier parameters after hyperparameter tuning"
   ]
  },
  {
   "cell_type": "code",
   "execution_count": 75,
   "metadata": {},
   "outputs": [
    {
     "data": {
      "text/html": [
       "<div>\n",
       "<style scoped>\n",
       "    .dataframe tbody tr th:only-of-type {\n",
       "        vertical-align: middle;\n",
       "    }\n",
       "\n",
       "    .dataframe tbody tr th {\n",
       "        vertical-align: top;\n",
       "    }\n",
       "\n",
       "    .dataframe thead th {\n",
       "        text-align: right;\n",
       "    }\n",
       "</style>\n",
       "<table border=\"1\" class=\"dataframe\">\n",
       "  <thead>\n",
       "    <tr style=\"text-align: right;\">\n",
       "      <th></th>\n",
       "      <th>Parameters</th>\n",
       "    </tr>\n",
       "  </thead>\n",
       "  <tbody>\n",
       "    <tr>\n",
       "      <th>nan_mode</th>\n",
       "      <td>Min</td>\n",
       "    </tr>\n",
       "    <tr>\n",
       "      <th>eval_metric</th>\n",
       "      <td>Logloss</td>\n",
       "    </tr>\n",
       "    <tr>\n",
       "      <th>iterations</th>\n",
       "      <td>190</td>\n",
       "    </tr>\n",
       "    <tr>\n",
       "      <th>sampling_frequency</th>\n",
       "      <td>PerTree</td>\n",
       "    </tr>\n",
       "    <tr>\n",
       "      <th>leaf_estimation_method</th>\n",
       "      <td>Newton</td>\n",
       "    </tr>\n",
       "    <tr>\n",
       "      <th>grow_policy</th>\n",
       "      <td>SymmetricTree</td>\n",
       "    </tr>\n",
       "    <tr>\n",
       "      <th>penalties_coefficient</th>\n",
       "      <td>1</td>\n",
       "    </tr>\n",
       "    <tr>\n",
       "      <th>boosting_type</th>\n",
       "      <td>Plain</td>\n",
       "    </tr>\n",
       "    <tr>\n",
       "      <th>model_shrink_mode</th>\n",
       "      <td>Constant</td>\n",
       "    </tr>\n",
       "    <tr>\n",
       "      <th>feature_border_type</th>\n",
       "      <td>GreedyLogSum</td>\n",
       "    </tr>\n",
       "    <tr>\n",
       "      <th>bayesian_matrix_reg</th>\n",
       "      <td>0.10000000149011612</td>\n",
       "    </tr>\n",
       "    <tr>\n",
       "      <th>l2_leaf_reg</th>\n",
       "      <td>10</td>\n",
       "    </tr>\n",
       "    <tr>\n",
       "      <th>random_strength</th>\n",
       "      <td>0.6000000238418579</td>\n",
       "    </tr>\n",
       "    <tr>\n",
       "      <th>rsm</th>\n",
       "      <td>1</td>\n",
       "    </tr>\n",
       "    <tr>\n",
       "      <th>boost_from_average</th>\n",
       "      <td>False</td>\n",
       "    </tr>\n",
       "    <tr>\n",
       "      <th>model_size_reg</th>\n",
       "      <td>0.5</td>\n",
       "    </tr>\n",
       "    <tr>\n",
       "      <th>subsample</th>\n",
       "      <td>0.800000011920929</td>\n",
       "    </tr>\n",
       "    <tr>\n",
       "      <th>use_best_model</th>\n",
       "      <td>False</td>\n",
       "    </tr>\n",
       "    <tr>\n",
       "      <th>class_names</th>\n",
       "      <td>[0, 1]</td>\n",
       "    </tr>\n",
       "    <tr>\n",
       "      <th>random_seed</th>\n",
       "      <td>123</td>\n",
       "    </tr>\n",
       "    <tr>\n",
       "      <th>depth</th>\n",
       "      <td>2</td>\n",
       "    </tr>\n",
       "    <tr>\n",
       "      <th>posterior_sampling</th>\n",
       "      <td>False</td>\n",
       "    </tr>\n",
       "    <tr>\n",
       "      <th>border_count</th>\n",
       "      <td>254</td>\n",
       "    </tr>\n",
       "    <tr>\n",
       "      <th>classes_count</th>\n",
       "      <td>0</td>\n",
       "    </tr>\n",
       "    <tr>\n",
       "      <th>auto_class_weights</th>\n",
       "      <td>None</td>\n",
       "    </tr>\n",
       "    <tr>\n",
       "      <th>sparse_features_conflict_fraction</th>\n",
       "      <td>0</td>\n",
       "    </tr>\n",
       "    <tr>\n",
       "      <th>leaf_estimation_backtracking</th>\n",
       "      <td>AnyImprovement</td>\n",
       "    </tr>\n",
       "    <tr>\n",
       "      <th>best_model_min_trees</th>\n",
       "      <td>1</td>\n",
       "    </tr>\n",
       "    <tr>\n",
       "      <th>model_shrink_rate</th>\n",
       "      <td>0</td>\n",
       "    </tr>\n",
       "    <tr>\n",
       "      <th>min_data_in_leaf</th>\n",
       "      <td>1</td>\n",
       "    </tr>\n",
       "    <tr>\n",
       "      <th>loss_function</th>\n",
       "      <td>Logloss</td>\n",
       "    </tr>\n",
       "    <tr>\n",
       "      <th>learning_rate</th>\n",
       "      <td>0.029999999329447743</td>\n",
       "    </tr>\n",
       "    <tr>\n",
       "      <th>score_function</th>\n",
       "      <td>Cosine</td>\n",
       "    </tr>\n",
       "    <tr>\n",
       "      <th>task_type</th>\n",
       "      <td>CPU</td>\n",
       "    </tr>\n",
       "    <tr>\n",
       "      <th>leaf_estimation_iterations</th>\n",
       "      <td>1</td>\n",
       "    </tr>\n",
       "    <tr>\n",
       "      <th>bootstrap_type</th>\n",
       "      <td>MVS</td>\n",
       "    </tr>\n",
       "    <tr>\n",
       "      <th>max_leaves</th>\n",
       "      <td>4</td>\n",
       "    </tr>\n",
       "  </tbody>\n",
       "</table>\n",
       "</div>"
      ],
      "text/plain": [
       "                                             Parameters\n",
       "nan_mode                                            Min\n",
       "eval_metric                                     Logloss\n",
       "iterations                                          190\n",
       "sampling_frequency                              PerTree\n",
       "leaf_estimation_method                           Newton\n",
       "grow_policy                               SymmetricTree\n",
       "penalties_coefficient                                 1\n",
       "boosting_type                                     Plain\n",
       "model_shrink_mode                              Constant\n",
       "feature_border_type                        GreedyLogSum\n",
       "bayesian_matrix_reg                 0.10000000149011612\n",
       "l2_leaf_reg                                          10\n",
       "random_strength                      0.6000000238418579\n",
       "rsm                                                   1\n",
       "boost_from_average                                False\n",
       "model_size_reg                                      0.5\n",
       "subsample                             0.800000011920929\n",
       "use_best_model                                    False\n",
       "class_names                                      [0, 1]\n",
       "random_seed                                         123\n",
       "depth                                                 2\n",
       "posterior_sampling                                False\n",
       "border_count                                        254\n",
       "classes_count                                         0\n",
       "auto_class_weights                                 None\n",
       "sparse_features_conflict_fraction                     0\n",
       "leaf_estimation_backtracking             AnyImprovement\n",
       "best_model_min_trees                                  1\n",
       "model_shrink_rate                                     0\n",
       "min_data_in_leaf                                      1\n",
       "loss_function                                   Logloss\n",
       "learning_rate                      0.029999999329447743\n",
       "score_function                                   Cosine\n",
       "task_type                                           CPU\n",
       "leaf_estimation_iterations                            1\n",
       "bootstrap_type                                      MVS\n",
       "max_leaves                                            4"
      ]
     },
     "metadata": {},
     "output_type": "display_data"
    }
   ],
   "source": [
    "plot_model(tuned_cb, plot = 'parameter')"
   ]
  },
  {
   "cell_type": "markdown",
   "metadata": {},
   "source": [
    "#### Tuned CatBoost Classifier Feature Importance"
   ]
  },
  {
   "cell_type": "code",
   "execution_count": 76,
   "metadata": {},
   "outputs": [
    {
     "data": {
      "image/png": "[encoded data removed]",
      "text/plain": [
       "<Figure size 800x500 with 1 Axes>"
      ]
     },
     "metadata": {},
     "output_type": "display_data"
    }
   ],
   "source": [
    "plot_model(tuned_cb, plot = 'feature_all')"
   ]
  },
  {
   "cell_type": "markdown",
   "metadata": {},
   "source": [
    "#### Tuned CatBoost Classifier prediction performance on holdout\n",
    "\n",
    "#### 2nd Best model performance out of the 3 models, after Logistic Regression"
   ]
  },
  {
   "cell_type": "code",
   "execution_count": 77,
   "metadata": {},
   "outputs": [
    {
     "data": {
      "text/html": [
       "<style  type=\"text/css\" >\n",
       "</style><table id=\"T_0de5cf04_3da8_11eb_8d49_3065ec67c176\" ><thead>    <tr>        <th class=\"blank level0\" ></th>        <th class=\"col_heading level0 col0\" >Model</th>        <th class=\"col_heading level0 col1\" >Accuracy</th>        <th class=\"col_heading level0 col2\" >AUC</th>        <th class=\"col_heading level0 col3\" >Recall</th>        <th class=\"col_heading level0 col4\" >Prec.</th>        <th class=\"col_heading level0 col5\" >F1</th>        <th class=\"col_heading level0 col6\" >Kappa</th>        <th class=\"col_heading level0 col7\" >MCC</th>        <th class=\"col_heading level0 col8\" >F1 Mac</th>        <th class=\"col_heading level0 col9\" >Prec. Mac</th>    </tr></thead><tbody>\n",
       "                <tr>\n",
       "                        <th id=\"T_0de5cf04_3da8_11eb_8d49_3065ec67c176level0_row0\" class=\"row_heading level0 row0\" >0</th>\n",
       "                        <td id=\"T_0de5cf04_3da8_11eb_8d49_3065ec67c176row0_col0\" class=\"data row0 col0\" >CatBoost Classifier</td>\n",
       "                        <td id=\"T_0de5cf04_3da8_11eb_8d49_3065ec67c176row0_col1\" class=\"data row0 col1\" >0.846</td>\n",
       "                        <td id=\"T_0de5cf04_3da8_11eb_8d49_3065ec67c176row0_col2\" class=\"data row0 col2\" >0.919</td>\n",
       "                        <td id=\"T_0de5cf04_3da8_11eb_8d49_3065ec67c176row0_col3\" class=\"data row0 col3\" >0.832</td>\n",
       "                        <td id=\"T_0de5cf04_3da8_11eb_8d49_3065ec67c176row0_col4\" class=\"data row0 col4\" >0.908</td>\n",
       "                        <td id=\"T_0de5cf04_3da8_11eb_8d49_3065ec67c176row0_col5\" class=\"data row0 col5\" >0.869</td>\n",
       "                        <td id=\"T_0de5cf04_3da8_11eb_8d49_3065ec67c176row0_col6\" class=\"data row0 col6\" >0.683</td>\n",
       "                        <td id=\"T_0de5cf04_3da8_11eb_8d49_3065ec67c176row0_col7\" class=\"data row0 col7\" >0.687</td>\n",
       "                        <td id=\"T_0de5cf04_3da8_11eb_8d49_3065ec67c176row0_col8\" class=\"data row0 col8\" >0.841</td>\n",
       "                        <td id=\"T_0de5cf04_3da8_11eb_8d49_3065ec67c176row0_col9\" class=\"data row0 col9\" >0.837</td>\n",
       "            </tr>\n",
       "    </tbody></table>"
      ],
      "text/plain": [
       "<pandas.io.formats.style.Styler at 0x2ea7e448940>"
      ]
     },
     "metadata": {},
     "output_type": "display_data"
    }
   ],
   "source": [
    "predict_model(tuned_cb, round=3);"
   ]
  },
  {
   "cell_type": "markdown",
   "metadata": {},
   "source": [
    "#### Tuned CatBoost Classifier Confusion Matrix"
   ]
  },
  {
   "cell_type": "code",
   "execution_count": 78,
   "metadata": {},
   "outputs": [
    {
     "data": {
      "image/png": "[encoded data removed]",
      "text/plain": [
       "<Figure size 576x396 with 1 Axes>"
      ]
     },
     "metadata": {},
     "output_type": "display_data"
    }
   ],
   "source": [
    "plot_model(tuned_cb, plot = 'confusion_matrix')"
   ]
  },
  {
   "cell_type": "markdown",
   "metadata": {},
   "source": [
    "#### Tuned CatBoost Classifier Classification Report"
   ]
  },
  {
   "cell_type": "code",
   "execution_count": 79,
   "metadata": {},
   "outputs": [
    {
     "data": {
      "image/png": "[encoded data removed]",
      "text/plain": [
       "<Figure size 576x396 with 2 Axes>"
      ]
     },
     "metadata": {},
     "output_type": "display_data"
    }
   ],
   "source": [
    "plot_model(tuned_cb, plot = 'class_report')"
   ]
  },
  {
   "cell_type": "markdown",
   "metadata": {},
   "source": [
    "#### Tuned CatBoost Classifier Threshold Plot"
   ]
  },
  {
   "cell_type": "code",
   "execution_count": 80,
   "metadata": {},
   "outputs": [
    {
     "data": {
      "image/png": "[encoded data removed]",
      "text/plain": [
       "<Figure size 576x396 with 1 Axes>"
      ]
     },
     "metadata": {},
     "output_type": "display_data"
    }
   ],
   "source": [
    "plot_model(tuned_cb, plot = 'threshold')"
   ]
  },
  {
   "cell_type": "markdown",
   "metadata": {},
   "source": [
    "#### Tuned CatBoost Classifier SHAP Value Graph"
   ]
  },
  {
   "cell_type": "code",
   "execution_count": 81,
   "metadata": {},
   "outputs": [
    {
     "data": {
      "image/png": "[encoded data removed]",
      "text/plain": [
       "<Figure size 576x482.4 with 2 Axes>"
      ]
     },
     "metadata": {},
     "output_type": "display_data"
    }
   ],
   "source": [
    "interpret_model(tuned_cb)"
   ]
  },
  {
   "cell_type": "markdown",
   "metadata": {},
   "source": [
    "---\n",
    "### CatBoost Classifier - Manuel method instead of Pycaret\n",
    "\n",
    "#### Before hyperparameter tuning"
   ]
  },
  {
   "cell_type": "code",
   "execution_count": 82,
   "metadata": {},
   "outputs": [],
   "source": [
    "from catboost import CatBoostClassifier\n",
    "\n",
    "clf_cb = CatBoostClassifier(iterations=300, l2_leaf_reg=9, depth=1, max_leaves=2, learning_rate=0.01, \n",
    "                            random_state=123, silent=True).fit(X_train_all, y_train)"
   ]
  },
  {
   "cell_type": "code",
   "execution_count": 83,
   "metadata": {},
   "outputs": [
    {
     "name": "stdout",
     "output_type": "stream",
     "text": [
      "F1 Macro= 0.781\n",
      "              precision    recall  f1-score   support\n",
      "\n",
      "           0       0.80      0.65      0.72        84\n",
      "           1       0.80      0.89      0.84       130\n",
      "\n",
      "    accuracy                           0.80       214\n",
      "   macro avg       0.80      0.77      0.78       214\n",
      "weighted avg       0.80      0.80      0.79       214\n",
      "\n"
     ]
    }
   ],
   "source": [
    "from sklearn.metrics import classification_report\n",
    "\n",
    "cb_preds = clf_cb.predict(X_test_all)\n",
    "\n",
    "print(\"F1 Macro= {:.3f}\".format(f1_score(y_test, cb_preds, average='macro')))\n",
    "print(classification_report(y_test, cb_preds))"
   ]
  },
  {
   "cell_type": "markdown",
   "metadata": {},
   "source": [
    "#### Pipeline for SMOTE, PCA\n",
    "#### Pass the pipeline object into GridSearchCV for hyperparameter tuning with Stratified K-Folds = 5"
   ]
  },
  {
   "cell_type": "code",
   "execution_count": 93,
   "metadata": {},
   "outputs": [],
   "source": [
    "cb = CatBoostClassifier(random_state=123, silent=True)\n",
    "\n",
    "pipe3 = Pipeline([('sm', sm), ('pca', pca), ('cb', cb)])\n",
    "\n",
    "param_cb = {\n",
    "    'pca__n_components': [5, 10],\n",
    "    'cb__random_strength': [1, 0.7],\n",
    "    'cb__learning_rate': [0.01, 0.03]\n",
    "}\n",
    "\n",
    "search_3 = GridSearchCV(pipe3, param_cb, \n",
    "                      cv=5, scoring='f1_macro', return_train_score=True)"
   ]
  },
  {
   "cell_type": "code",
   "execution_count": 94,
   "metadata": {},
   "outputs": [
    {
     "name": "stdout",
     "output_type": "stream",
     "text": [
      "Wall time: 2min 42s\n"
     ]
    }
   ],
   "source": [
    "%time search_cb = search_3.fit(X_train_all, y_train)"
   ]
  },
  {
   "cell_type": "markdown",
   "metadata": {},
   "source": [
    "#### Best hyperparameter values after tuning"
   ]
  },
  {
   "cell_type": "code",
   "execution_count": 95,
   "metadata": {},
   "outputs": [
    {
     "data": {
      "text/plain": [
       "{'cb__learning_rate': 0.01, 'cb__random_strength': 0.7, 'pca__n_components': 5}"
      ]
     },
     "execution_count": 95,
     "metadata": {},
     "output_type": "execute_result"
    },
    {
     "data": {
      "text/plain": [
       "0.8108097229217035"
      ]
     },
     "execution_count": 95,
     "metadata": {},
     "output_type": "execute_result"
    },
    {
     "data": {
      "text/plain": [
       "Pipeline(memory=None,\n",
       "         steps=[('sm',\n",
       "                 SMOTE(k_neighbors=5, n_jobs=None, random_state=42,\n",
       "                       sampling_strategy='auto')),\n",
       "                ('pca',\n",
       "                 PCA(copy=True, iterated_power='auto', n_components=5,\n",
       "                     random_state=None, svd_solver='auto', tol=0.0,\n",
       "                     whiten=False)),\n",
       "                ('cb',\n",
       "                 <catboost.core.CatBoostClassifier object at 0x000002EA7FE0C7C0>)],\n",
       "         verbose=False)"
      ]
     },
     "execution_count": 95,
     "metadata": {},
     "output_type": "execute_result"
    }
   ],
   "source": [
    "search_cb.best_params_\n",
    "search_cb.best_score_\n",
    "search_cb.best_estimator_"
   ]
  },
  {
   "cell_type": "markdown",
   "metadata": {},
   "source": [
    "#### Model performance after hyperparameter tuning"
   ]
  },
  {
   "cell_type": "code",
   "execution_count": 96,
   "metadata": {},
   "outputs": [
    {
     "name": "stdout",
     "output_type": "stream",
     "text": [
      "F1 Macro= 0.777\n",
      "              precision    recall  f1-score   support\n",
      "\n",
      "           0       0.71      0.76      0.74        84\n",
      "           1       0.84      0.80      0.82       130\n",
      "\n",
      "    accuracy                           0.79       214\n",
      "   macro avg       0.77      0.78      0.78       214\n",
      "weighted avg       0.79      0.79      0.79       214\n",
      "\n"
     ]
    }
   ],
   "source": [
    "cb_bpreds = search_cb.predict(X_test_all)\n",
    "\n",
    "print(\"F1 Macro= {:.3f}\".format(f1_score(y_test, cb_bpreds, average='macro')))\n",
    "print(classification_report(y_test, cb_bpreds))"
   ]
  },
  {
   "cell_type": "code",
   "execution_count": 97,
   "metadata": {},
   "outputs": [
    {
     "name": "stdout",
     "output_type": "stream",
     "text": [
      "\n",
      "Confusion Matrix:\n",
      "        pred:0  pred:1\n",
      "true:0      64      20\n",
      "true:1      26     104\n"
     ]
    }
   ],
   "source": [
    "from sklearn.metrics import confusion_matrix\n",
    "\n",
    "print(\"\\nConfusion Matrix:\")\n",
    "unique_label = np.unique([y_test, cb_bpreds])\n",
    "cmtx = pd.DataFrame(confusion_matrix(y_test, cb_bpreds, labels=unique_label), \n",
    "                    index=['true:{:}'.format(x) for x in unique_label], \n",
    "                    columns=['pred:{:}'.format(x) for x in unique_label])\n",
    "print(cmtx)"
   ]
  }
 ],
 "metadata": {
  "kernelspec": {
   "display_name": "Python 3",
   "language": "python",
   "name": "python3"
  },
  "language_info": {
   "codemirror_mode": {
    "name": "ipython",
    "version": 3
   },
   "file_extension": ".py",
   "mimetype": "text/x-python",
   "name": "python",
   "nbconvert_exporter": "python",
   "pygments_lexer": "ipython3",
   "version": "3.8.3"
  }
 },
 "nbformat": 4,
 "nbformat_minor": 4
}
